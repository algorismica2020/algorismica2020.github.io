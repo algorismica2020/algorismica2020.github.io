{
 "cells": [
  {
   "cell_type": "markdown",
   "metadata": {
    "colab_type": "text",
    "id": "t0YAlIry50Lm"
   },
   "source": [
    "\n",
    "<div id=\"capcalera\">\n",
    "<p><a href=\"https://colab.research.google.com/github/algorismica2020/algorismica2020.github.io/blob/master/notebookscolab/Exemple.ipynb\"><img style=\"margin:-10px 10px 20px 0\" width=\"150px\" align=\"right\" src=\"https://raw.githubusercontent.com/algorismica2019/problemes/master/assets/colab-badge.png?raw=1\" alt=\"Obrir a Colab\" title=\"Obrir i executar a Google Colaboratory\"></a></p>\n",
    "<p style=\"clear:both\"><img align='left' width=\"300px\" style=\"padding-right:10px;float=left\" src=\"https://raw.githubusercontent.com/algorismica2019/problemes/master/assets/al-khwarizmi.png\" >Aquest notebook complementa la teoria de l'assignatura d'<strong>Algorísmica</strong> del Grau d'Enginyeria Informàtica a la <a href=\"https://mat.ub.edu\">Facultat de Matemàtiques i Informàtica</a> de la <a href=\"https://www.ub.edu\">Universitat de Barcelona</a> impartida per <em>Jordi Vitrià</em> i <em>Mireia Ribera</em></p>\n",
    "\n",
    "<p>Els problemes s'ofereixen sota llicència <a href=\"https://creativecommons.org/licenses/by-nc-nd/3.0/us/legalcode\">CC-BY-NC-ND license</a>, i el codi sota <a href=\"https://opensource.org/licenses/MIT\">Llicència MIT</a>.</p>\n",
    "\n",
    "</div>"
   ]
  },
  {
   "cell_type": "markdown",
   "metadata": {
    "colab_type": "text",
    "id": "B7NjZ5JB50Ln"
   },
   "source": [
    "# <span class=\"tema\">(Cerca)</span> Cerca binària "
   ]
  },
  {
   "cell_type": "markdown",
   "metadata": {
    "colab_type": "text",
    "id": "0lGFKFwi50Lo"
   },
   "source": [
    "Aquest algorisme implementa la cerca binària. Cal tenir en compte que només el podem executar en llistes ordenades."
   ]
  },
  {
   "cell_type": "code",
   "execution_count": 7,
   "metadata": {},
   "outputs": [],
   "source": [
    "# Algorisme original, ben fet\n",
    "\n",
    "def binsearch(nums, K):\n",
    "    low = 0\n",
    "    high = len(nums)-1\n",
    "    while low <= high:  \n",
    "        mid = (low + high) // 2            \n",
    "        if nums[mid] > K: high = mid - 1\n",
    "        elif nums[mid] < K: low = mid + 1\n",
    "        else:\n",
    "            return mid                           \n",
    "    return -1"
   ]
  },
  {
   "cell_type": "code",
   "execution_count": 11,
   "metadata": {},
   "outputs": [],
   "source": [
    "# Algorisme original, per fer el recompte d'iteracions\n",
    "\n",
    "def binsearch(nums, K):\n",
    "    low = 0\n",
    "    high = len(nums)-1\n",
    "    itcount = 0  # comptador per al xivato\n",
    "    while low <= high:  \n",
    "        itcount +=1  # comptador per al xivato\n",
    "        mid = (low + high) // 2            \n",
    "        if nums[mid] > K: high = mid - 1\n",
    "        elif nums[mid] < K: low = mid + 1\n",
    "        else:\n",
    "            print(\"ha fet\",itcount,\"iteracions\") # xivato\n",
    "            return mid                           \n",
    "    print(\"ha fet\",itcount,\"iteracions\") # xivato\n",
    "    return -1"
   ]
  },
  {
   "cell_type": "code",
   "execution_count": 17,
   "metadata": {},
   "outputs": [],
   "source": [
    "k = 5\n",
    "# llistes de 6 elements, ordenades\n",
    "list1 = [5,6,7,8,9,10]   # l'element buscat es troba a l'inici\n",
    "list2 = [0,1,2,3,4,5]    # l'element buscat es troba al final\n",
    "list3 = [23,4,5,6,7,8]   # l'element buscat es troba al mig\n",
    "list4 = [2,4,6,8,10,12]  # l'element buscat no hi és"
   ]
  },
  {
   "cell_type": "code",
   "execution_count": 18,
   "metadata": {},
   "outputs": [
    {
     "name": "stdout",
     "output_type": "stream",
     "text": [
      "ha fet 2 iteracions\n"
     ]
    },
    {
     "data": {
      "text/plain": [
       "0"
      ]
     },
     "execution_count": 18,
     "metadata": {},
     "output_type": "execute_result"
    }
   ],
   "source": [
    "binsearch(list1,k)"
   ]
  },
  {
   "cell_type": "code",
   "execution_count": 19,
   "metadata": {},
   "outputs": [
    {
     "name": "stdout",
     "output_type": "stream",
     "text": [
      "ha fet 3 iteracions\n"
     ]
    },
    {
     "data": {
      "text/plain": [
       "5"
      ]
     },
     "execution_count": 19,
     "metadata": {},
     "output_type": "execute_result"
    }
   ],
   "source": [
    "binsearch(list2,k)"
   ]
  },
  {
   "cell_type": "code",
   "execution_count": 20,
   "metadata": {},
   "outputs": [
    {
     "name": "stdout",
     "output_type": "stream",
     "text": [
      "ha fet 1 iteracions\n"
     ]
    },
    {
     "data": {
      "text/plain": [
       "2"
      ]
     },
     "execution_count": 20,
     "metadata": {},
     "output_type": "execute_result"
    }
   ],
   "source": [
    "binsearch(list3,k)"
   ]
  },
  {
   "cell_type": "code",
   "execution_count": 21,
   "metadata": {},
   "outputs": [
    {
     "name": "stdout",
     "output_type": "stream",
     "text": [
      "ha fet 3 iteracions\n"
     ]
    },
    {
     "data": {
      "text/plain": [
       "-1"
      ]
     },
     "execution_count": 21,
     "metadata": {},
     "output_type": "execute_result"
    }
   ],
   "source": [
    "binsearch(list4,k)"
   ]
  },
  {
   "cell_type": "code",
   "execution_count": 23,
   "metadata": {},
   "outputs": [
    {
     "data": {
      "text/plain": [
       "2.584962500721156"
      ]
     },
     "execution_count": 23,
     "metadata": {},
     "output_type": "execute_result"
    }
   ],
   "source": [
    "# el màxim d'iteracions que farà serà sempre \n",
    "# el valor absolut superior de log_2 la llargada de la llista\n",
    "import math\n",
    "math.log(6,2)"
   ]
  }
 ],
 "metadata": {
  "colab": {
   "collapsed_sections": [],
   "name": "Exemple.ipynb",
   "provenance": [
    {
     "file_id": "https://github.com/algorismica2020/algorismica2020.github.io/blob/master/notebookscolab/Exemple.ipynb",
     "timestamp": 1600779780131
    }
   ]
  },
  "kernelspec": {
   "display_name": "Python 3",
   "language": "python",
   "name": "python3"
  },
  "language_info": {
   "codemirror_mode": {
    "name": "ipython",
    "version": 3
   },
   "file_extension": ".py",
   "mimetype": "text/x-python",
   "name": "python",
   "nbconvert_exporter": "python",
   "pygments_lexer": "ipython3",
   "version": "3.7.6"
  }
 },
 "nbformat": 4,
 "nbformat_minor": 1
}
