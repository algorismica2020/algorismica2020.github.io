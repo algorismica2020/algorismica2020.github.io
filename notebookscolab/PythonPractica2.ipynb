{
 "cells": [
  {
   "cell_type": "markdown",
   "metadata": {},
   "source": [
    "<div id=\"capcalera\">\n",
    "<p><a href=\"https://colab.research.google.com/github/algorismica2020/algorismica2020.github.io/blob/master/notebookscolab/PythonPractica2.ipynb\"><img style=\"margin:-10px 10px 20px 0\" width=\"150px\" align=\"right\" src=\"https://raw.githubusercontent.com/algorismica2019/problemes/master/assets/colab-badge.png?raw=1\" alt=\"Obrir a Colab\" title=\"Obrir i executar a Google Colaboratory\"></a></p>\n",
    "<p style=\"clear:both\"><img align='left' width=\"300px\" style=\"padding-right:10px;float=left\" src=\"https://raw.githubusercontent.com/algorismica2019/problemes/master/assets/al-khwarizmi.png\">Aquest notebook complementa els continguts teòrics de l'assignatura d'<strong>Algorísmica</strong> del Grau d'Enginyeria Informàtica a la <a href=\"https://mat.ub.edu\">Facultat de Matemàtiques i Informàtica</a> de la <a href=\"https://www.ub.edu\">Universitat de Barcelona</a> impartida per <em>Jordi Vitrià</em> i <em>Mireia Ribera</em></p>\n",
    "\n",
    "<p>Els problemes s'ofereixen sota llicència <a href=\"https://creativecommons.org/licenses/by-nc-nd/3.0/us/legalcode\">CC-BY-NC-ND license</a>, i el codi sota <a href=\"https://opensource.org/licenses/MIT\">Llicència MIT</a>.</p>\n",
    "\n",
    "</div>"
   ]
  },
  {
   "cell_type": "markdown",
   "metadata": {},
   "source": [
    "# <span class=\"tema\">(Python)</span> Pràctica de booleans, cadenes i col.leccions"
   ]
  },
  {
   "cell_type": "markdown",
   "metadata": {},
   "source": [
    "En aquest notebook també s'inclouen les solucions dels exercicis proposats"
   ]
  },
  {
   "cell_type": "markdown",
   "metadata": {},
   "source": [
    "### Booleans"
   ]
  },
  {
   "cell_type": "code",
   "execution_count": 36,
   "metadata": {},
   "outputs": [
    {
     "name": "stdout",
     "output_type": "stream",
     "text": [
      "t and f:  False\n",
      "t and t:  True\n",
      "f and f:  False\n",
      "t or f:  True\n",
      "t or t:  True\n",
      "f or f:  False\n",
      "not t:  False\n",
      "not f:  True\n"
     ]
    }
   ],
   "source": [
    "# Intenta endevinar el resultat de les següents expressions abans d'executar-les\n",
    "\n",
    "t=True\n",
    "f=False\n",
    "\n",
    "print('t and f: ', t and f)\n",
    "print('t and t: ', t and t)\n",
    "print('f and f: ', f and f)\n",
    "print('t or f: ', t or f)\n",
    "print('t or t: ', t or t)\n",
    "print('f or f: ', f or f)\n",
    "print('not t: ', not t)\n",
    "print('not f: ', not f)"
   ]
  },
  {
   "cell_type": "markdown",
   "metadata": {},
   "source": [
    "### Cadenes"
   ]
  },
  {
   "cell_type": "markdown",
   "metadata": {},
   "source": [
    "#### Exercici 1: Mètodes de string\n",
    "\n",
    "Llegeix la documentació sobre els [mètodes de string](https://docs.python.org/3.7/library/stdtypes.html?#string-methods). Inventa't dues cadenes i experimenta amb algun dels mètodes per assegurar-te que entens com funcionen. ``strip`` i ``replace`` són particularment útils.\n",
    "\n",
    "La documentació fa servir una sintaxi que pot resulta confusa. Per exemple, a ``find(sub[, start[, end]])``, els claudators indiquen que els arguments són opcionals, per tant, sub és necessari però start és optional, i si inclous start, end és opcional.\n",
    "\n",
    "    \n",
    "Font: Adaptat de [Python for Everybody / Charles Severance](https://books.trinket.io/pfe/index.html)"
   ]
  },
  {
   "cell_type": "markdown",
   "metadata": {},
   "source": [
    "#### Exercici 2: Generador de passwords\n",
    "\n",
    "Escriu una funció que generi passwords. La generació ha de ser aleatòria i ha de generar un password nou a cada execució. L'usuari ha de determinar la llargada del password.\n",
    "\n",
    "Per a fer-ho necessitaràs importar la llibreria random i concretament fer servir una funció, random.sample(cadena, longitud), que agafa una mostra de longitud caràcters de la cadena aleatòriament.\n",
    "\n",
    "pots veure'n un exemple a la casella següent:\n",
    "    \n",
    "Font: Adaptat de [Practice Python. Beginner Python exercises / Michele Pratusevich](http://www.practicepython.org)"
   ]
  },
  {
   "cell_type": "code",
   "execution_count": 37,
   "metadata": {},
   "outputs": [
    {
     "name": "stdout",
     "output_type": "stream",
     "text": [
      "['a', 'a', 'l', 'a']\n"
     ]
    }
   ],
   "source": [
    "import random\n",
    "\n",
    "cadena=\"tralara\"\n",
    "print(random.sample(cadena,4))"
   ]
  },
  {
   "cell_type": "markdown",
   "metadata": {},
   "source": [
    "### Solucions cadenes"
   ]
  },
  {
   "cell_type": "code",
   "execution_count": 38,
   "metadata": {},
   "outputs": [],
   "source": [
    "# Solució exercici 1: No hi ha solució concreta"
   ]
  },
  {
   "cell_type": "code",
   "execution_count": 39,
   "metadata": {},
   "outputs": [],
   "source": [
    "# Solució exercici 2\n",
    "\n",
    "import random\n",
    "\n",
    "def generar_password(longitud):\n",
    "    s = \"abcdefghijklmnopqrstuvwxyz01234567890ABCDEFGHIJKLMNOPQRSTUVWXYZ!@#$%^&*()?\"\n",
    "    p = \"\".join(random.sample(s, longitud))\n",
    "    return p"
   ]
  },
  {
   "cell_type": "code",
   "execution_count": 40,
   "metadata": {},
   "outputs": [
    {
     "data": {
      "text/plain": [
       "'WZewk&13'"
      ]
     },
     "execution_count": 40,
     "metadata": {},
     "output_type": "execute_result"
    }
   ],
   "source": [
    "generar_password(8)"
   ]
  },
  {
   "cell_type": "markdown",
   "metadata": {},
   "source": [
    "### Llistes"
   ]
  },
  {
   "cell_type": "markdown",
   "metadata": {},
   "source": [
    "#### Exercici 3: Selecció d'una llista\n",
    "\n",
    "Escriu una funció que donada una llista retorni una tupla amb dues llistes: una amb els elements senars de la llista i l'altra amb els elements parells de la llista. No pots fer cap iteració.\n",
    "\n",
    "Exemple:\n",
    "\n",
    "    llista=[\"un\", 1, \"dos\", 2, \"tres\", 3, \"quatre\", 4]\n",
    "\n",
    "    > split_magic(llista)\n",
    "    ([\"un\", \"dos\", \"tres\", \"quatre\"], [1, 2, 3, 4])\n",
    "\n",
    "*Atenció*: la llista pot contenir qualssevol valors\n",
    "\n",
    "Font: Adaptat de [Python praktikum / Alessandro Mammana](https://www.molgen.mpg.de/3372238/python_praesentation.pdf)"
   ]
  },
  {
   "cell_type": "markdown",
   "metadata": {},
   "source": [
    "#### Exercici 4: Matriu \n",
    "\n",
    "Escriu una funció que donats dos nombres $f$ i $c$ retorni una matriu de zeros amb f files i c columnes. Cal crear la matriu com una llista de llistes.\n",
    "\n",
    "Exemple:\n",
    "\n",
    "    generar_matriu(2, 4)\n",
    "    [[0, 0, 0, 0], [0, 0, 0, 0])\n",
    "\n",
    "Font: Adaptat de [Python praktikum / Alessandro Mammana](https://www.molgen.mpg.de/3372238/python_praesentation.pdf)"
   ]
  },
  {
   "cell_type": "markdown",
   "metadata": {},
   "source": [
    "### Solucions llistes"
   ]
  },
  {
   "cell_type": "code",
   "execution_count": 41,
   "metadata": {},
   "outputs": [
    {
     "data": {
      "text/plain": [
       "(['un', 'dos', 'tres', 'quatre'], [1, 2, 3, 4])"
      ]
     },
     "execution_count": 41,
     "metadata": {},
     "output_type": "execute_result"
    }
   ],
   "source": [
    "# Solució exercici 3\n",
    "\n",
    "def split_magic(llista):\n",
    "    return(llista[::2], llista[1::2])\n",
    "\n",
    "splitMagic([\"un\", 1, \"dos\", 2, \"tres\", 3, \"quatre\", 4])"
   ]
  },
  {
   "cell_type": "code",
   "execution_count": 42,
   "metadata": {},
   "outputs": [],
   "source": [
    "# Solució exercici 4\n",
    "\n",
    "def generar_matriu(nfiles, ncolumnes):\n",
    "    matriu = []\n",
    "    for i in range(nfiles):\n",
    "        fila = []\n",
    "        for j in range(ncolumnes):\n",
    "            fila.append(0)\n",
    "        matriu.append(fila)\n",
    "    return matriu\n",
    "\n",
    "\n",
    "# ho podriem fer amb menys línies!\n",
    "def generar_matriu2(nfiles, ncolumnes):\n",
    "    matriu = []\n",
    "    for i in range(nfiles):\n",
    "        matriu.append([0] * ncolumnes)\n",
    "    return matriu"
   ]
  },
  {
   "cell_type": "code",
   "execution_count": 43,
   "metadata": {},
   "outputs": [
    {
     "name": "stdout",
     "output_type": "stream",
     "text": [
      "[[0, 0, 0, 0], [0, 0, 0, 0]]\n"
     ]
    }
   ],
   "source": [
    "mat1=generar_matriu(2, 4)\n",
    "print(mat1)"
   ]
  },
  {
   "cell_type": "code",
   "execution_count": 44,
   "metadata": {},
   "outputs": [
    {
     "name": "stdout",
     "output_type": "stream",
     "text": [
      "[[0, 0, 0, 0], [0, 0, 0, 0]]\n"
     ]
    }
   ],
   "source": [
    "mat2=generar_matriu2(2, 4)\n",
    "print(mat2)"
   ]
  },
  {
   "cell_type": "code",
   "execution_count": 45,
   "metadata": {},
   "outputs": [
    {
     "name": "stdout",
     "output_type": "stream",
     "text": [
      "[[0, 4, 0, 0], [0, 0, 0, 0]]\n"
     ]
    }
   ],
   "source": [
    "mat1[0][1] = 4\n",
    "print(mat1)"
   ]
  },
  {
   "cell_type": "markdown",
   "metadata": {},
   "source": [
    "### Diccionaris"
   ]
  },
  {
   "cell_type": "markdown",
   "metadata": {},
   "source": [
    "#### Exercici 5: Invertir un diccionari\n",
    "\n",
    "Escriu una funció que donat un diccionari el retorni amb les claus i els valors invertits\n",
    "\n",
    "Exemple:\n",
    "\n",
    "    invertirDic({'name':'ale','age':'impolite to ask','nfingers':'20'})\n",
    "    ({'ale':'name','impolite to ask':'age','20':'nfingers'})\n",
    "\n",
    "Font: Adaptat de [Python praktikum / Alessandro Mammana](https://www.molgen.mpg.de/3372238/python_praesentation.pdf)"
   ]
  },
  {
   "cell_type": "markdown",
   "metadata": {},
   "source": [
    "#### Exercici 6: Aminoacids\n",
    "\n",
    "Els aminoacids es codifiquen a l'ADN com una seqüència de codons (tres bases). Cada codó codifica un únic aminoacid, però un mateix aminoacid pot ser codificat per més d'un codó.\n",
    "\n",
    "Escriu una funció que reb com a paràmetres:\n",
    "1. Una seqüència de codons (sense duplicats)\n",
    "2. Els aminoacids corresponents (hi poden haver duplicats)\n",
    "3. Una darrera seqüència de codons\n",
    "\n",
    "I que retorna:\n",
    "1. Els aminoacids corresponents a la darrera seqüència codons\n",
    "\n",
    "Exemple:\n",
    "\n",
    "    codificar(['TTT','TTC','ATT','GCG'],['Phe','Phe','Ile','Ala'],['ATT','GCG','ATT','GCG','TTT','ATT','GCG'])\n",
    "    ['Ile','Ala','Ile','Ala','Phe','Ile','Ala']\n",
    "    \n",
    "\n",
    "Font: Adaptat de [Python praktikum / Alessandro Mammana](https://www.molgen.mpg.de/3372238/python_praesentation.pdf)"
   ]
  },
  {
   "cell_type": "markdown",
   "metadata": {},
   "source": [
    "#### Exercici 7: Freqüències\n",
    "\n",
    "Escriu una funció que llegeixi un fitxer i mostri les lletres en ordre de freqüència descendent. El programa ha de convertir totes les lletres a minúscules i només ha de considerar les lletres a-z. No ha de comptar espais, dígits, puntuació o altres lletres que no siguin a-z. \n",
    "\n",
    "Troba mostres de textos en diferents idiomes i mira si la freqüència de les llestres varia entre ells. Compara els resultats amb les taules de l'[article de la Viquipèdia sobre freqüència de les lletres](https://en.wikipedia.org/wiki/Letter_frequency)\n",
    "\n",
    "Font: Adaptat de [Python for Everybody / Charles Severance](https://books.trinket.io/pfe/index.html)"
   ]
  },
  {
   "cell_type": "markdown",
   "metadata": {},
   "source": [
    "#### Solucions diccionaris"
   ]
  },
  {
   "cell_type": "code",
   "execution_count": 46,
   "metadata": {},
   "outputs": [],
   "source": [
    "# Solució exercici 5\n",
    "\n",
    "def invertir_dic(dicc):\n",
    "    newdict = {}\n",
    "    for (k, v) in dicc.items():\n",
    "        newdict[v] = k\n",
    "    return newdict\n",
    "\n",
    "\n",
    "def invertir_dic2(dicc):\n",
    "    newdict = {}\n",
    "    for key in dicc.keys():\n",
    "        value = dicc[key]\n",
    "        newdict[value] = key\n",
    "    return newdict"
   ]
  },
  {
   "cell_type": "code",
   "execution_count": 47,
   "metadata": {},
   "outputs": [
    {
     "data": {
      "text/plain": [
       "{'ale': 'name', 'impolite to ask': 'age', '20': 'nfingers'}"
      ]
     },
     "execution_count": 47,
     "metadata": {},
     "output_type": "execute_result"
    }
   ],
   "source": [
    "diccionari = {'name': 'ale', 'age': 'impolite to ask', 'nfingers': '20'}\n",
    "invertir_dic(diccionari)"
   ]
  },
  {
   "cell_type": "code",
   "execution_count": 48,
   "metadata": {},
   "outputs": [
    {
     "data": {
      "text/plain": [
       "{'ale': 'name', 'impolite to ask': 'age', '20': 'nfingers'}"
      ]
     },
     "execution_count": 48,
     "metadata": {},
     "output_type": "execute_result"
    }
   ],
   "source": [
    "diccionari = {'name': 'ale', 'age': 'impolite to ask', 'nfingers': '20'}\n",
    "invertir_dic2(diccionari)"
   ]
  },
  {
   "cell_type": "code",
   "execution_count": 49,
   "metadata": {},
   "outputs": [],
   "source": [
    "# Solució exercici 6\n",
    "\n",
    "def tradueix(codons, aminos, seq):\n",
    "    dicc = {}\n",
    "    for i in range(0, len(codons)):\n",
    "        dicc[codons[i]] = aminos[i]\n",
    "    return [dicc[el] for el in seq]"
   ]
  },
  {
   "cell_type": "code",
   "execution_count": 50,
   "metadata": {},
   "outputs": [
    {
     "data": {
      "text/plain": [
       "['Ile', 'Ala', 'Ile', 'Ala', 'Phe', 'Ile', 'Ala']"
      ]
     },
     "execution_count": 50,
     "metadata": {},
     "output_type": "execute_result"
    }
   ],
   "source": [
    "tradueix(['TTT', 'TTC', 'ATT', 'GCG'],\n",
    "         ('Phe', 'Phe', 'Ile', 'Ala'),\n",
    "         ['ATT', 'GCG', 'ATT', 'GCG', 'TTT', 'ATT', 'GCG'])"
   ]
  },
  {
   "cell_type": "code",
   "execution_count": 54,
   "metadata": {},
   "outputs": [
    {
     "name": "stdout",
     "output_type": "stream",
     "text": [
      "[(61, 'e'), (47, 'o'), (41, 'h'), (40, 'i'), (38, 't'), (35, 'a'), (31, 'n'), (29, 's'), (26, 'y'), (24, 'r'), (22, 'u'), (21, 'w'), (19, 'd'), (18, 'l'), (13, 'm'), (11, 'c'), (8, 'v'), (8, 'f'), (5, 'g'), (5, 'b'), (4, 'k'), (2, 'j'), (1, 'p'), (0, 'z'), (0, 'x'), (0, 'q')]\n"
     ]
    }
   ],
   "source": [
    "# Solució exercici 7\n",
    "\n",
    "def ordreDescendent():\n",
    "    # inicialització\n",
    "    dicc = {}\n",
    "    letters = \"abcdefghijklmnopqrstuvwxyz\"\n",
    "    for c in letters:\n",
    "        dicc[c] = 0\n",
    "    f = open(\"lletra.txt\", 'r')\n",
    "    r = f.read()\n",
    "    # recompte de freqüències\n",
    "    for c in r:\n",
    "        if c.lower() in letters:\n",
    "            dicc[c.lower()] += 1\n",
    "    # ordenament\n",
    "    tuples = [(value, key) for (key, value) in dicc.items()]\n",
    "    tuples.sort(reverse=True)\n",
    "    print(tuples)\n",
    "\n",
    "\n",
    "ordreDescendent()"
   ]
  },
  {
   "cell_type": "markdown",
   "metadata": {},
   "source": [
    "<div id=\"peu\">\n",
    "<p><a href=\"https://colab.research.google.com/github/algorismica2020/algorismica2020.github.io/blob/master/notebookscolab/PythonPractica2.ipynb\"><img style=\"margin:-10px 10px 20px 0\" width=\"150px\" align=\"right\" src=\"https://raw.githubusercontent.com/algorismica2019/problemes/master/assets/colab-badge.png?raw=1\" alt=\"Obrir a Colab\" title=\"Obrir i executar a Google Colaboratory\"></a></p>\n",
    "</div>"
   ]
  }
 ],
 "metadata": {
  "kernelspec": {
   "display_name": "Python 3",
   "language": "python",
   "name": "python3"
  },
  "language_info": {
   "codemirror_mode": {
    "name": "ipython",
    "version": 3
   },
   "file_extension": ".py",
   "mimetype": "text/x-python",
   "name": "python",
   "nbconvert_exporter": "python",
   "pygments_lexer": "ipython3",
   "version": "3.8.3"
  }
 },
 "nbformat": 4,
 "nbformat_minor": 4
}
