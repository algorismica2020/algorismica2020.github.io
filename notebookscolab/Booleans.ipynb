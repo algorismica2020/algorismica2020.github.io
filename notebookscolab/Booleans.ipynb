{
 "cells": [
  {
   "cell_type": "markdown",
   "metadata": {},
   "source": [
    "\n",
    "<div id=\"capcalera\">\n",
    "<p><a href=\"https://colab.research.google.com/github/algorismica2020/algorismica2020.github.io/blob/master/notebookscolab/Booleans.ipynb\"><img style=\"margin:-10px 10px 20px 0\" width=\"150px\" align=\"right\" src=\"https://raw.githubusercontent.com/algorismica2019/problemes/master/assets/colab-badge.png?raw=1\" alt=\"Obrir a Colab\" title=\"Obrir i executar a Google Colaboratory\"></a></p>\n",
    "<p style=\"clear:both\"><img align='left' width=\"300px\" style=\"padding-right:10px;float=left\" src=\"https://raw.githubusercontent.com/algorismica2019/problemes/master/assets/al-khwarizmi.png\" >Aquest notebook complementa la teoria de l'assignatura d'<strong>Algorísmica</strong> del Grau d'Enginyeria Informàtica a la <a href=\"https://mat.ub.edu\">Facultat de Matemàtiques i Informàtica</a> de la <a href=\"https://www.ub.edu\">Universitat de Barcelona</a> impartida per <em>Jordi Vitrià</em> i <em>Mireia Ribera</em></p>\n",
    "\n",
    "<p>Els problemes s'ofereixen sota llicència <a href=\"https://creativecommons.org/licenses/by-nc-nd/3.0/us/legalcode\">CC-BY-NC-ND license</a>, i el codi sota <a href=\"https://opensource.org/licenses/MIT\">Llicència MIT</a>.</p>\n",
    "\n",
    "</div>"
   ]
  },
  {
   "cell_type": "markdown",
   "metadata": {},
   "source": [
    "# <span class=\"tema\">(Python)</span> Booleans"
   ]
  },
  {
   "cell_type": "markdown",
   "metadata": {},
   "source": [
    "## Documentació de Python relacionada\n",
    "\n",
    "- Boolean values: https://docs.python.org/3/library/stdtypes.html?#boolean-values\n",
    "- Boolean operators: https://docs.python.org/3/library/stdtypes.html?#boolean-operations-and-or-not\n",
    "- Comparisons: https://docs.python.org/3/library/stdtypes.html?#comparisons\n",
    "- Bitwise Operations: https://docs.python.org/3/library/stdtypes.html?#bitwise-operations-on-integer-types"
   ]
  },
  {
   "cell_type": "markdown",
   "metadata": {},
   "source": [
    "Per comparar dues variables podem usar els operadors relacionals:\n",
    "- < menor que\n",
    "- <= menor o igual que\n",
    "- == igual que\n",
    "- \\> major que\n",
    "- \\>= major o igual que\n",
    "- != diferent a\n",
    "que ens retornaran True o False"
   ]
  },
  {
   "cell_type": "code",
   "execution_count": null,
   "metadata": {},
   "outputs": [],
   "source": [
    "# Exemple\n",
    "print(\"4 == 2+2\", 4==2+2)\n",
    "print(\"4 != 2+2\", 4!=2+2)\n",
    "print(\"4 < 2\", 4<2)\n",
    "print(\"4 <= 4\", 4<=4)\n",
    "print(\"4 > 2\", 4>2)\n",
    "print(\"4 >= 5\", 4>=5)"
   ]
  },
  {
   "cell_type": "markdown",
   "metadata": {},
   "source": [
    "Si el què comparem són cadenes de caràcters aquests operadors comparen l’ordre lexicogràfic dels caràcters que les formen. Per exemple “Hello” és més petit que “hello” i “a” és més petita que “b”."
   ]
  },
  {
   "cell_type": "code",
   "execution_count": null,
   "metadata": {},
   "outputs": [],
   "source": [
    "# Exemple\n",
    "print(\"a < b\", 'a'<'b')\n",
    "print(\"hola == Hola\", \"hola\"==\"Hola\")\n",
    "print(\"hola > Hola\", \"hola\">\"Hola\")"
   ]
  },
  {
   "cell_type": "code",
   "execution_count": 3,
   "metadata": {},
   "outputs": [
    {
     "name": "stdout",
     "output_type": "stream",
     "text": [
      "True\n"
     ]
    }
   ],
   "source": [
    "print(\"A\"<\"a\")"
   ]
  },
  {
   "cell_type": "markdown",
   "metadata": {},
   "source": [
    "També podem usar els operadors booleans:\n",
    "- **and**:  a and b és True si a i b són True\n",
    "- **or**:\ta or b és True si a és True o si b és True\n",
    "- **not**:\tnot a és True si a és False\n",
    "la precedència d'aquests operadors és not, and i or\n",
    "\n",
    "no tan habitual, a vegades també s'usa l'operador **xor** o or exclusiva\n",
    "- **xor**: a or b és True si a és True i b és False, o si a és False i b és True"
   ]
  },
  {
   "cell_type": "code",
   "execution_count": null,
   "metadata": {},
   "outputs": [],
   "source": [
    "# Exemple\n",
    "print(\"2>1 and 3>2 \", 2>1 and 3>2 )\n",
    "print(\"2>1 or 4<2\", 2>1 or 4<2)\n",
    "print(\"not 2>1 \", not 2>1 )"
   ]
  },
  {
   "cell_type": "markdown",
   "metadata": {},
   "source": [
    "Les taules de veritat d'aquests operadors són les següents:\n",
    "\n",
    "**not (!)**\n",
    "\n",
    "| P   | not P |\n",
    "|-----|-------|\n",
    "|True |False  |\n",
    "|False|True   |\n",
    "\n",
    "**and (&)**\n",
    "\n",
    "| P   |  Q   | P and Q |\n",
    "|-----|------|---------|\n",
    "|True |True  |True     |\n",
    "|True |False |False    |\n",
    "|False|True  |False    |\n",
    "|False|False |False    |\n",
    "\n",
    "**or (|)**\n",
    "\n",
    "| P   |  Q  | P or Q |\n",
    "|-----|-----|--------|\n",
    "|True |True |True    |\n",
    "|True |False|True    |\n",
    "|False|True |True    |\n",
    "|False|False|False   |\n",
    "\n",
    "**xor (^)**\n",
    "\n",
    "| P   |  Q  | P xor Q |\n",
    "|-----|-----|---------|\n",
    "|True |True |**False** |    \n",
    "|True |False|True     |\n",
    "|False|True |True     |\n",
    "|False|False|False    |"
   ]
  },
  {
   "cell_type": "markdown",
   "metadata": {},
   "source": [
    "### <span class=\"exercici\">Exercici 1: Comparació de dos nombres</span>\n",
    "\n",
    "Fes un programa que demani 2 nombres i els compari treient un resultat True i un resultat False. Usa algun dels operadors and, or o not."
   ]
  },
  {
   "cell_type": "code",
   "execution_count": 6,
   "metadata": {},
   "outputs": [],
   "source": [
    "# Posa el teu codi aquí"
   ]
  },
  {
   "cell_type": "markdown",
   "metadata": {},
   "source": [
    "**AVANÇAT**: Si s'usen aquests operadors amb nombres binaris obtenim un efecte màscara (amb or) o filtre (amb 1)"
   ]
  },
  {
   "cell_type": "code",
   "execution_count": null,
   "metadata": {},
   "outputs": [],
   "source": [
    "# Exemple:\n",
    "# L'expressió n & 1 retorna 1 si el nombre és senar i 0 si és parell\n",
    "\n",
    "# 00010100 &  (n = 20)\n",
    "# 00000001    (1)\n",
    "# --------\n",
    "# 00000000    (= 0, 20 és parell)\n",
    "\n",
    "# 00010101 &  (n = 21)\n",
    "# 00000001    (1)\n",
    "# --------\n",
    "# 00000001    (=  1, 21 és senar)\n",
    "\n",
    "print(\"20 & 1\", 20 & 1)\n",
    "print(\"21 & 1\", 21 & 1)\n",
    "\n",
    "# el nombre 1 ha actuat de filtre i només ha deixat passar el darrer bit, \n",
    "# corresponent a la unitat binària"
   ]
  },
  {
   "cell_type": "code",
   "execution_count": null,
   "metadata": {},
   "outputs": [],
   "source": [
    "# Exemple:\n",
    "# L'expressió lletra majúscula | ' '  retorna la lletra en minúscula\n",
    "\n",
    "# 01000001 |  ('A')\n",
    "# 00100000    (' ')\n",
    "# --------\n",
    "# 01100001    (= a, l'ha convertit en minúscula)\n",
    "\n",
    "# el caràcter ' ' (00100000) ha actuat de màscara i ha convertit\n",
    "# tots els 3ers bits en 1, augmentant en 32 el valor del caràcter\n",
    "# i per tant convertint-lo a minúscula, ja que\n",
    "#  A té el codi 65 (01000001)\n",
    "# i a té el codi 97 (01100001)\n",
    "# i el mateix amb la resta de lletres\n",
    "\n",
    "for codicaracter in range(65, 91):\n",
    "    print(chr(codicaracter), chr(codicaracter | ord(' ')))\n"
   ]
  },
  {
   "cell_type": "markdown",
   "metadata": {},
   "source": [
    "## Referències\n",
    "Les explicacions, exemples i exercicis de la gestió de fitxers s'han basat en la següent font:\n",
    "\n",
    "- Python for beginners \"Reading and writing files in Python. Overview\" http://www.pythonforbeginners.com/files/reading-and-writing-files-in-python"
   ]
  },
  {
   "cell_type": "markdown",
   "metadata": {},
   "source": [
    "<div id=\"peu\">\n",
    "<p><a href=\"https://colab.research.google.com/github/algorismica2020/algorismica2020.github.io/blob/master/notebookscolab/Booleans.ipynb\"><img style=\"margin:-10px 10px 20px 0\" width=\"150px\" align=\"right\" src=\"https://raw.githubusercontent.com/algorismica2019/problemes/master/assets/colab-badge.png?raw=1\" alt=\"Obrir a Colab\" title=\"Obrir i executar a Google Colaboratory\"></a></p>\n",
    "</div>"
   ]
  }
 ],
 "metadata": {
  "kernelspec": {
   "display_name": "Python 3",
   "language": "python",
   "name": "python3"
  },
  "language_info": {
   "codemirror_mode": {
    "name": "ipython",
    "version": 3
   },
   "file_extension": ".py",
   "mimetype": "text/x-python",
   "name": "python",
   "nbconvert_exporter": "python",
   "pygments_lexer": "ipython3",
   "version": "3.8.3"
  }
 },
 "nbformat": 4,
 "nbformat_minor": 4
}
