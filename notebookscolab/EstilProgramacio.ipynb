{
 "cells": [
  {
   "cell_type": "markdown",
   "metadata": {},
   "source": [
    "<div id=\"capcalera\">\n",
    "<p><a href=\"https://colab.research.google.com/github/algorismica2020/algorismica2020.github.io/blob/master/notebookscolab/EstilProgramacio.ipynb\"><img style=\"margin:-10px 10px 20px 0\" width=\"150px\" align=\"right\" src=\"https://raw.githubusercontent.com/algorismica2019/problemes/master/assets/colab-badge.png?raw=1\" alt=\"Obrir a Colab\" title=\"Obrir i executar a Google Colaboratory\"></a></p>\n",
    "<p style=\"clear:both\"><img align='left' width=\"300px\" style=\"padding-right:10px;float=left\" src=\"https://raw.githubusercontent.com/algorismica2019/problemes/master/assets/al-khwarizmi.png\">Aquest notebook complementa els continguts teòrics de l'assignatura d'<strong>Algorísmica</strong> del Grau d'Enginyeria Informàtica a la <a href=\"https://mat.ub.edu\">Facultat de Matemàtiques i Informàtica</a> de la <a href=\"https://www.ub.edu\">Universitat de Barcelona</a> impartida per <em>Jordi Vitrià</em> i <em>Mireia Ribera</em></p>\n",
    "\n",
    "<p>Els problemes s'ofereixen sota llicència <a href=\"https://creativecommons.org/licenses/by-nc-nd/3.0/us/legalcode\">CC-BY-NC-ND license</a>, i el codi sota <a href=\"https://opensource.org/licenses/MIT\">Llicència MIT</a>.</p>\n",
    "\n",
    "</div>"
   ]
  },
  {
   "cell_type": "markdown",
   "metadata": {},
   "source": [
    "# <span class=\"tema\">(Python)</span> Estil de programació\n",
    "\n",
    "Els programes sovint es comparteixen entre diferents programadors o es modifiquen al cap d'un temps.\n",
    "\n",
    "Per això és important que estiguin escrits de manera clara i seguint unes convencions d'estil per fer-los més llegibles.\n",
    "\n",
    "Cada llenguatge sol tenir unes directrius d'estil. A Python s'usen les directrius [PEP8](https://www.python.org/dev/peps/pep-0008/)\n",
    "\n",
    "El programa Spyder dins la suite d'Anaconda ens ajuda a seguir aquestes directrius si configurem l'editor per a què ens avisi. Això es fa amb ``Herramientas - Preferencias - Editor - Análisis de estilo del código en el Editor``.\n",
    "\n",
    "Amb això Spyder ja ens avisarà si no seguim les convencions bàsiques de PEP8.\n",
    "\n",
    "### Comentaris\n",
    "\n",
    "Inicieu les funcions amb unes línies de comentaris delimitades per ''' que indiquin l'objectiu de la funció. Incloeu una línia de comentari pels paràmetres, i una línia pel què retorna.\n",
    "\n",
    "Incloeu comentaris breus addicionals entre línies amb # per explicar algun detall del codi en particular que no quedi prou clar.\n",
    "\n",
    "```python\n",
    "# Exemple\n",
    "\n",
    "def comptar_sumar(n):\n",
    "    '''\n",
    "    Aquesta funció, donat un enter,\n",
    "    retorna la suma dels nombres entre 1 i n-1,\n",
    "    i els mostra per pantalla\n",
    "    :param n, el valor màxim dels nombres a sumar\n",
    "    :return: la suma dels nombres entre 1 i n-1\n",
    "    '''\n",
    "    x = 0\n",
    "    for i in range(n):\n",
    "        x = x + n\n",
    "        print(n)\n",
    "    return x\n",
    "```\t\t\n",
    "\n",
    "\n",
    "### Noms de funcions i de variables\n",
    "Useu noms en minúscules per a les funcions i variables. Sempre començant per lletra i evitant accents o altres lletres que no siguin a-z. Si són compostes per dues o més paraules, separeu-les amb un guió baix.\n",
    "\n",
    "```python\n",
    "a = 5\n",
    "meu_cotxe = \"Toyota\"\n",
    "valor_aproximat = 3.567\n",
    "def calcul_suma(a,b):\n",
    "    pass\n",
    "```\n",
    "Ara bé, per a les constants useu majúscules\n",
    "```python\n",
    "MAXIM = 9999999\n",
    "```\n",
    "\n",
    "### Identació\n",
    "Useu 4 espais per marcar els diferents nivells de blocs.\n",
    "\n",
    "Si el codi d'una funció ocupa dues línies, identeu-lo per a què siguin consistents.\n",
    "```python\n",
    "def funcio():\n",
    "    print(\"les instruccions comencen 4 espais a la dreta\")\n",
    "    for i in range(2):\n",
    "        print(\"per cada nou bloc, 4 espais més\")\n",
    "\t\tprint(\"pero si vull posar moltes coses en un print\",\n",
    "              \"i no m'hi caben, idento per a què sigui\",\n",
    "              \"consistent\")\n",
    "```\n",
    "\n",
    "### Llargada de les línies\n",
    "Una línia de codi ha d'ocupar com a màxim 79 caràcters.\n",
    "Si una línia no hi cap en 79 caràcters, la puc continuar amb el caràcter \\\n",
    "\n",
    "```python\n",
    "with open('/path/to/some/file/you/want/to/read') as file_1, \\\n",
    "     open('/path/to/some/file/being/written', 'w') as file_2:\n",
    "    pass\n",
    "```\n",
    " El caràcter \\ no cal si la continuació és dintre el mateix parèntesi que la línia anterior\n",
    "\n",
    "```python\n",
    "print('a', 'b', 'c', 'd', 'e', 'f', 'g', 'h', 'i', 'j', 'k', 'l', 'm', 'n', 'o', 'p', 'q', 'r',\n",
    "      's', 't', 'u', 'v', 'x', 'y', 'z')\n",
    "```\n",
    "\n",
    "### Línies en blanc\n",
    "Les funcions han d'anar precedides i seguides de dues línies en blanc.\n",
    "\n",
    "### Espais en blanc\n",
    "Deixeu espais en blanc davant i darrera dels operadors. Deixeu un espai en blanc darrera de la coma. No poseu espais en blanc al final de les línies de codi. Acabeu sempre les funcions amb un salt de línia.\n",
    "\n",
    "```python\n",
    "a = b + c\n",
    "llista = ['a', 'b', 'c']\n",
    "```\n",
    "\n",
    "### Import\n",
    "Si em cal una llibreria externa hauré de fer un \"import\". Heu de posar cada import en una línia diferent, i situar-los al principi de tot.\n",
    "\n",
    "```python\n",
    "import math\n",
    "import string\n",
    "\n",
    "\n",
    "def funcio():\n",
    "    pass\n",
    "```"
   ]
  },
  {
   "cell_type": "markdown",
   "metadata": {},
   "source": [
    "Per a **frikis**: ara que ja sabeu Python podeu memoritzar el *mantra* de Python. Executeu la següent línia."
   ]
  },
  {
   "cell_type": "code",
   "execution_count": null,
   "metadata": {},
   "outputs": [],
   "source": [
    "import this"
   ]
  },
  {
   "cell_type": "markdown",
   "metadata": {},
   "source": [
    "### <span class=\"exercici\"> Exercici 1. Reescriu els següents programes amb un bon estil de programació.</span>"
   ]
  },
  {
   "cell_type": "code",
   "execution_count": null,
   "metadata": {},
   "outputs": [],
   "source": [
    "def RESTAR(a,b):\n",
    "    return a-b"
   ]
  },
  {
   "cell_type": "code",
   "execution_count": null,
   "metadata": {},
   "outputs": [],
   "source": [
    "# escriu aquí el codi de restar amb un bon estil de programació"
   ]
  },
  {
   "cell_type": "code",
   "execution_count": null,
   "metadata": {},
   "outputs": [],
   "source": [
    "def 1felicitació():\n",
    "    nom=input(\"Entra el teu nom prenent cura de que no sigui massa llarg i que no t'equivoquis amb cap lletra\")\n",
    "    print(\"Felicitats\", nom)"
   ]
  },
  {
   "cell_type": "code",
   "execution_count": null,
   "metadata": {},
   "outputs": [],
   "source": [
    "# escriu aquí el codi de felicitació amb un bon estil de programació"
   ]
  },
  {
   "cell_type": "code",
   "execution_count": null,
   "metadata": {},
   "outputs": [],
   "source": [
    "def esdivideixper3():\n",
    "    num = int(input(\"Digues-me un número: \"))\n",
    "    if num % 3 == 0:\n",
    "        print(\"El número es pot dividir entre 3\")\n",
    "    else:\n",
    "        print(\"El número no es pot dividir entre 3\")"
   ]
  },
  {
   "cell_type": "code",
   "execution_count": null,
   "metadata": {},
   "outputs": [],
   "source": [
    "# escriu aquí el codi d'\"esdivideixper3\" amb un bon estil de programació"
   ]
  },
  {
   "cell_type": "markdown",
   "metadata": {},
   "source": [
    "<div id=\"peu\">\n",
    "<p><a href=\"https://colab.research.google.com/github/algorismica2020/algorismica2020.github.io/blob/master/notebookscolab/EstilProgramacio.ipynb\"><img style=\"margin:-10px 10px 20px 0\" width=\"150px\" align=\"right\" src=\"https://raw.githubusercontent.com/algorismica2019/problemes/master/assets/colab-badge.png?raw=1\" alt=\"Obrir a Colab\" title=\"Obrir i executar a Google Colaboratory\"></a></p>\n",
    "</div>"
   ]
  }
 ],
 "metadata": {
  "kernelspec": {
   "display_name": "Python 3",
   "language": "python",
   "name": "python3"
  },
  "language_info": {
   "codemirror_mode": {
    "name": "ipython",
    "version": 3
   },
   "file_extension": ".py",
   "mimetype": "text/x-python",
   "name": "python",
   "nbconvert_exporter": "python",
   "pygments_lexer": "ipython3",
   "version": "3.8.3"
  }
 },
 "nbformat": 4,
 "nbformat_minor": 4
}
