{
  "nbformat": 4,
  "nbformat_minor": 0,
  "metadata": {
    "colab": {
      "name": "Horspool.ipynb",
      "provenance": [],
      "collapsed_sections": []
    },
    "kernelspec": {
      "name": "python3",
      "display_name": "Python 3"
    }
  },
  "cells": [
    {
      "cell_type": "code",
      "metadata": {
        "id": "G9lBnlCwbdC4"
      },
      "source": [
        "def BoyerMooreHorspool1(pattern, text):\n",
        "    m = len(pattern)\n",
        "    n = len(text)\n",
        "    if m > n: \n",
        "      return -1     # el text ha de ser més llarg\n",
        "    skip = []\n",
        "    for k in range(256): \n",
        "      skip.append(m)      # assignem el desplaçament màxim a tots els caràcters\n",
        "    for k in range(m - 1): \n",
        "      skip[ord(pattern[k])] = m - k - 1    # assignem el desplaçament correcte\n",
        "                                           # als caràcters del patró \n",
        "                                           # si apareixen més d'un cop \n",
        "                                           # es guardarà el darrer només\n",
        "    skip = tuple(skip) # convertim a tupla perquè ja no hi hem de fer més canvis\n",
        "    k = m - 1          # posició del text equivalent a la darrera lletra del patró\n",
        "    while k < n:\n",
        "        j = m - 1      # índex de la lletra del patró que comparem \n",
        "        i = k          # índex de la lletra del text que comparem\n",
        "        while j >= 0 and text[i] == pattern[j]:\n",
        "            j -= 1\n",
        "            i -= 1\n",
        "        # avancem(!) mentre hi hagi text i les lletres coincideixen\n",
        "        if j == -1:    # si el patró s'ha acabat (totes les lletres han coincidit)\n",
        "          return i + 1 # retornem la posició del text \n",
        "        k += skip[ord(text[k])]  # desplacem sense tenir en compte els avenços fets\n",
        "    return -1  # si hem arribat fins aquí no hem trobat el patró"
      ],
      "execution_count": 22,
      "outputs": []
    },
    {
      "cell_type": "code",
      "metadata": {
        "id": "CIYBLMNXb0Ga",
        "outputId": "f7f2d027-f4b6-440c-8610-22658d85ca36",
        "colab": {
          "base_uri": "https://localhost:8080/"
        }
      },
      "source": [
        "BoyerMooreHorspool1(\"BARBER\", \"JIM SAW ME IN A BARBERSHOP\")"
      ],
      "execution_count": 23,
      "outputs": [
        {
          "output_type": "execute_result",
          "data": {
            "text/plain": [
              "16"
            ]
          },
          "metadata": {
            "tags": []
          },
          "execution_count": 23
        }
      ]
    },
    {
      "cell_type": "code",
      "metadata": {
        "id": "3WadU0-GjF1h"
      },
      "source": [
        "def BoyerMooreHorspool2(pattern, text):\n",
        "    m = len(pattern)\n",
        "    n = len(text)\n",
        "    if m > n: \n",
        "      return -1      \n",
        "    skip = []\n",
        "    for k in range(256): \n",
        "      skip.append(m)      \n",
        "    print (\"primera versió d'skip\", skip)  # xivato\n",
        "    for k in range(m - 1): \n",
        "      print(ord(pattern[k]),end=\",\")  # xivato  \n",
        "      skip[ord(pattern[k])] = m - k - 1     \n",
        "      print(skip[ord(pattern[k])])  # xivato\n",
        "    print (\"segona versió d'skip\", skip)  # xivato\n",
        "    skip = tuple(skip)  \n",
        "    k = m - 1           \n",
        "    while k < n:\n",
        "        j = m - 1       \n",
        "        i = k           \n",
        "        while j >= 0 and text[i] == pattern[j]:\n",
        "            j -= 1\n",
        "            i -= 1\n",
        "         \n",
        "        if j == -1:    \n",
        "          return i + 1,text[i+1:i+m+1]  # xivato del text\n",
        "        k += skip[ord(text[k])]  \n",
        "    return -1   "
      ],
      "execution_count": 25,
      "outputs": []
    },
    {
      "cell_type": "code",
      "metadata": {
        "id": "9G1XrLYpkIML",
        "outputId": "be72d82e-3148-4890-ff32-267676319b4a",
        "colab": {
          "base_uri": "https://localhost:8080/"
        }
      },
      "source": [
        "BoyerMooreHorspool2(\"BARBER\", \"JIM SAW ME IN A BARBERSHOP\")"
      ],
      "execution_count": 26,
      "outputs": [
        {
          "output_type": "stream",
          "text": [
            "primera versió d'skip [6, 6, 6, 6, 6, 6, 6, 6, 6, 6, 6, 6, 6, 6, 6, 6, 6, 6, 6, 6, 6, 6, 6, 6, 6, 6, 6, 6, 6, 6, 6, 6, 6, 6, 6, 6, 6, 6, 6, 6, 6, 6, 6, 6, 6, 6, 6, 6, 6, 6, 6, 6, 6, 6, 6, 6, 6, 6, 6, 6, 6, 6, 6, 6, 6, 6, 6, 6, 6, 6, 6, 6, 6, 6, 6, 6, 6, 6, 6, 6, 6, 6, 6, 6, 6, 6, 6, 6, 6, 6, 6, 6, 6, 6, 6, 6, 6, 6, 6, 6, 6, 6, 6, 6, 6, 6, 6, 6, 6, 6, 6, 6, 6, 6, 6, 6, 6, 6, 6, 6, 6, 6, 6, 6, 6, 6, 6, 6, 6, 6, 6, 6, 6, 6, 6, 6, 6, 6, 6, 6, 6, 6, 6, 6, 6, 6, 6, 6, 6, 6, 6, 6, 6, 6, 6, 6, 6, 6, 6, 6, 6, 6, 6, 6, 6, 6, 6, 6, 6, 6, 6, 6, 6, 6, 6, 6, 6, 6, 6, 6, 6, 6, 6, 6, 6, 6, 6, 6, 6, 6, 6, 6, 6, 6, 6, 6, 6, 6, 6, 6, 6, 6, 6, 6, 6, 6, 6, 6, 6, 6, 6, 6, 6, 6, 6, 6, 6, 6, 6, 6, 6, 6, 6, 6, 6, 6, 6, 6, 6, 6, 6, 6, 6, 6, 6, 6, 6, 6, 6, 6, 6, 6, 6, 6, 6, 6, 6, 6, 6, 6, 6, 6, 6, 6, 6, 6]\n",
            "66,5\n",
            "65,4\n",
            "82,3\n",
            "66,2\n",
            "69,1\n",
            "segona versió d'skip [6, 6, 6, 6, 6, 6, 6, 6, 6, 6, 6, 6, 6, 6, 6, 6, 6, 6, 6, 6, 6, 6, 6, 6, 6, 6, 6, 6, 6, 6, 6, 6, 6, 6, 6, 6, 6, 6, 6, 6, 6, 6, 6, 6, 6, 6, 6, 6, 6, 6, 6, 6, 6, 6, 6, 6, 6, 6, 6, 6, 6, 6, 6, 6, 6, 4, 2, 6, 6, 1, 6, 6, 6, 6, 6, 6, 6, 6, 6, 6, 6, 6, 3, 6, 6, 6, 6, 6, 6, 6, 6, 6, 6, 6, 6, 6, 6, 6, 6, 6, 6, 6, 6, 6, 6, 6, 6, 6, 6, 6, 6, 6, 6, 6, 6, 6, 6, 6, 6, 6, 6, 6, 6, 6, 6, 6, 6, 6, 6, 6, 6, 6, 6, 6, 6, 6, 6, 6, 6, 6, 6, 6, 6, 6, 6, 6, 6, 6, 6, 6, 6, 6, 6, 6, 6, 6, 6, 6, 6, 6, 6, 6, 6, 6, 6, 6, 6, 6, 6, 6, 6, 6, 6, 6, 6, 6, 6, 6, 6, 6, 6, 6, 6, 6, 6, 6, 6, 6, 6, 6, 6, 6, 6, 6, 6, 6, 6, 6, 6, 6, 6, 6, 6, 6, 6, 6, 6, 6, 6, 6, 6, 6, 6, 6, 6, 6, 6, 6, 6, 6, 6, 6, 6, 6, 6, 6, 6, 6, 6, 6, 6, 6, 6, 6, 6, 6, 6, 6, 6, 6, 6, 6, 6, 6, 6, 6, 6, 6, 6, 6, 6, 6, 6, 6, 6, 6]\n"
          ],
          "name": "stdout"
        },
        {
          "output_type": "execute_result",
          "data": {
            "text/plain": [
              "(16, 'BARBER')"
            ]
          },
          "metadata": {
            "tags": []
          },
          "execution_count": 26
        }
      ]
    },
    {
      "cell_type": "code",
      "metadata": {
        "id": "SjUeQcaIjgGB"
      },
      "source": [
        "def BoyerMooreHorspool3(pattern, text):\n",
        "    m = len(pattern)\n",
        "    n = len(text)\n",
        "    if m > n: \n",
        "      return -1      \n",
        "    skip = []\n",
        "    for k in range(256): \n",
        "      skip.append(m)       \n",
        "    for k in range(m - 1): \n",
        "      skip[ord(pattern[k])] = m - k - 1     \n",
        "    skip = tuple(skip)  \n",
        "    k = m - 1           \n",
        "    while k < n:\n",
        "        j = m - 1       \n",
        "        i = k           \n",
        "        print(pattern[0:j],'*',pattern[j],'*',pattern[j+1:m], \"---\", text[0:i],'*',text[i],'*',text[i+1:n])\n",
        "        while j >= 0 and text[i] == pattern[j]:\n",
        "            print(pattern[0:j],'*',pattern[j],'*',pattern[j+1:m], \"---\", text[0:k],'*',text[k],'*',text[k+1:n])\n",
        "            j -= 1\n",
        "            i -= 1\n",
        "        if j == -1:     \n",
        "          return i + 1   \n",
        "        k += skip[ord(text[k])]   \n",
        "    return -1   "
      ],
      "execution_count": 38,
      "outputs": []
    },
    {
      "cell_type": "code",
      "metadata": {
        "id": "uxPvMvxRkI7p",
        "outputId": "69493a20-1697-41c6-b763-eb02acb65bb9",
        "colab": {
          "base_uri": "https://localhost:8080/"
        }
      },
      "source": [
        "BoyerMooreHorspool3(\"BARBER\", \"JIM SAW ME IN A BARBERSHOP\")"
      ],
      "execution_count": 39,
      "outputs": [
        {
          "output_type": "stream",
          "text": [
            "BARBE * R *  --- JIM S * A * W ME IN A BARBERSHOP\n",
            "BARBE * R *  --- JIM SAW M * E *  IN A BARBERSHOP\n",
            "BARBE * R *  --- JIM SAW ME *   * IN A BARBERSHOP\n",
            "BARBE * R *  --- JIM SAW ME IN A  * B * ARBERSHOP\n",
            "BARBE * R *  --- JIM SAW ME IN A BA * R * BERSHOP\n",
            "BARBE * R *  --- JIM SAW ME IN A BA * R * BERSHOP\n",
            "BARBE * R *  --- JIM SAW ME IN A BARBE * R * SHOP\n",
            "BARBE * R *  --- JIM SAW ME IN A BARBE * R * SHOP\n",
            "BARB * E * R --- JIM SAW ME IN A BARBE * R * SHOP\n",
            "BAR * B * ER --- JIM SAW ME IN A BARBE * R * SHOP\n",
            "BA * R * BER --- JIM SAW ME IN A BARBE * R * SHOP\n",
            "B * A * RBER --- JIM SAW ME IN A BARBE * R * SHOP\n",
            " * B * ARBER --- JIM SAW ME IN A BARBE * R * SHOP\n"
          ],
          "name": "stdout"
        },
        {
          "output_type": "execute_result",
          "data": {
            "text/plain": [
              "16"
            ]
          },
          "metadata": {
            "tags": []
          },
          "execution_count": 39
        }
      ]
    }
  ]
}