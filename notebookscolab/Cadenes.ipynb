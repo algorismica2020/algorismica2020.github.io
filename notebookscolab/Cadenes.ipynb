{
 "cells": [
  {
   "cell_type": "markdown",
   "metadata": {},
   "source": [
    "\n",
    "<div id=\"capcalera\">\n",
    "<p><a href=\"https://colab.research.google.com/github/algorismica2020/algorismica2020.github.io/blob/master/notebookscolab/Cadenes.ipynb\"><img style=\"margin:-10px 10px 20px 0\" width=\"150px\" align=\"right\" src=\"https://raw.githubusercontent.com/algorismica2019/problemes/master/assets/colab-badge.png?raw=1\" alt=\"Obrir a Colab\" title=\"Obrir i executar a Google Colaboratory\"></a></p>\n",
    "<p style=\"clear:both\"><img align='left' width=\"300px\" style=\"padding-right:10px;float=left\" src=\"https://raw.githubusercontent.com/algorismica2019/problemes/master/assets/al-khwarizmi.png\" >Aquest notebook complementa la teoria de l'assignatura d'<strong>Algorísmica</strong> del Grau d'Enginyeria Informàtica a la <a href=\"https://mat.ub.edu\">Facultat de Matemàtiques i Informàtica</a> de la <a href=\"https://www.ub.edu\">Universitat de Barcelona</a> impartida per <em>Jordi Vitrià</em> i <em>Mireia Ribera</em></p>\n",
    "\n",
    "<p>Els problemes s'ofereixen sota llicència <a href=\"https://creativecommons.org/licenses/by-nc-nd/3.0/us/legalcode\">CC-BY-NC-ND license</a>, i el codi sota <a href=\"https://opensource.org/licenses/MIT\">Llicència MIT</a>.</p>\n",
    "\n",
    "</div>"
   ]
  },
  {
   "cell_type": "markdown",
   "metadata": {},
   "source": [
    "# <span class=\"tema\">(Python)</span> Caràcters i cadenes"
   ]
  },
  {
   "cell_type": "markdown",
   "metadata": {},
   "source": [
    "## Representació de caràcters\n",
    "\n",
    "### Documentació Python de referència\n",
    "- chr(i): https://docs.python.org/3/library/functions.html?#chr\n",
    "- ord(c): https://docs.python.org/3/library/functions.html?#ord\n",
    "\n",
    "\n",
    "A l’ordinador cada lletra es representa per un codi. El codi més estès és el codi ASCII que cobreix només les lletres A-Z sense accents ni caràcters especials (ç, ñ...). \n",
    "\n",
    "|  Binari | Dec   |Hex   |Representació   |\n",
    "|---|---|---|---|\n",
    "    |  00100000 | 32  | 20 |  Espai en blanc |\n",
    "    |  01000001 | 65  | 41 | A |\n",
    "    |  01000010 | 66  | 42 | B |\n",
    "    |  01000011 | 67  | 43 | C | \n",
    "    |  01000100 | 68  | 44 | D |\n",
    "    |  01000101 | 69  | 45 | E |\n",
    "    |  01000110 | 70  | 46 | F |\n",
    "    |  01000111 | 71  | 47 | G |\n",
    "    |  01001000 | 72  | 48 | H |\n",
    "    |  01001001 | 73  | 49 | I |\n",
    "    |  01001010 | 74  | 4A | J |\n",
    "    |  01001011 | 75  | 4B | K |\n",
    "    |  01001100 | 76  | 4C | L |\n",
    "    |  01001101 | 77  | 4D | M |\n",
    "    |  01001110 | 78  | 4E | N |\n",
    "    |  01001111 | 79  | 4F | O |\n",
    "    |  01010000 | 80  | 50 | P |\n",
    "    |  01010001 | 81  | 51 | Q |\n",
    "    |  01010010 | 82  | 52 | R |\n",
    "    |  01010011 | 83  | 53 | S |\n",
    "    |  01010100 | 84  | 54 | T |\n",
    "    |  01010101 | 85  | 55 | U |\n",
    "    |  01010110 | 86  | 56 | V |\n",
    "    |  01010111 | 87  | 57 | W |\n",
    "    |  01011000 | 88  | 58 | X |\n",
    "    |  01011001 | 89  | 59 | Y |\n",
    "    |  01011010 | 90  | 5A | Z |\n",
    "    \n",
    "    \n",
    "    \n",
    "|  Binari | Dec   |Hex   |Representació   |\n",
    "|---|---|---|---|\n",
    "    |  01011111 | 95  | 5F | - |\n",
    "    |  01100001 | 97  | 61 | a |\n",
    "    |  01100010 | 98  | 62 | b |\n",
    "    |  01100011 | 99  | 63 | c |\n",
    "    |  01100100 | 100 | 64 | d | \n",
    "    |  01100101 | 101 | 65 | e |\n",
    "    |  01100110 | 102 | 66 | f |\n",
    "    |  01100111 | 103 | 67 | g |\n",
    "    |  01101000 | 104 | 68 | h |\n",
    "    |  01101001 | 105 | 69 | i |\n",
    "    |  01101010 | 106 | 6A | j |\n",
    "    |  01101011 | 107 | 6B | k |\n",
    "    |  01101100 | 108 | 6C | l |\n",
    "    |  01101101 | 109 | 6D | m |\n",
    "    |  01101110 | 110 | 6E | n |\n",
    "    |  01111111 | 111 | 6F | o |\n",
    "    |  01110000 | 112 | 70 | p |\n",
    "    |  01110001 | 113 | 71 | q |\n",
    "    |  01110010 | 114 | 72 | r |\n",
    "    |  01110011 | 115 | 73 | s |\n",
    "    |  01110100 | 116 | 74 | t |\n",
    "    |  01110101 | 117 | 75 | u |\n",
    "    |  01110110 | 118 | 76 | v |\n",
    "    |  01110111 | 119 | 77 | w |\n",
    "    |  01111000 | 120 | 78 | x |\n",
    "    |  01111001 | 121 | 79 | y |\n",
    "    |  01111010 | 122 | 7A | z |\n",
    "    \n",
    "Uns altres codis, molt més complets i que cada cop es fa servir més són els codis UNICODE i UTF8 que cobreixen totes les lletres de totes les llengües escrites del món. En aquests dos codis les lletres de la a a la z i de la A a la Z es codifiquen igual que en ASCII.\n",
    "\n",
    "Per convertir del codi al caràcter i viceversa usem les funcions chr i ord."
   ]
  },
  {
   "cell_type": "code",
   "execution_count": 13,
   "metadata": {},
   "outputs": [
    {
     "name": "stdout",
     "output_type": "stream",
     "text": [
      "L\n",
      "122\n"
     ]
    }
   ],
   "source": [
    "# Exemple\n",
    "\n",
    "print(chr(76))\n",
    "print(ord('z'))"
   ]
  },
  {
   "cell_type": "code",
   "execution_count": 14,
   "metadata": {},
   "outputs": [],
   "source": [
    "# Mira la taula de l'ASCII i amb la instrucció chr mostra la lletra t"
   ]
  },
  {
   "cell_type": "code",
   "execution_count": 15,
   "metadata": {},
   "outputs": [],
   "source": [
    "# Amb la instrucció ord, mostra el codi de la lletra m. \n",
    "# Verifica'l a la taula ASCII\n",
    "# És el mateix que el de la M?"
   ]
  },
  {
   "cell_type": "markdown",
   "metadata": {},
   "source": [
    "## Cadenes de text (Strings)\n",
    "\n",
    "### Documentació Python de referència\n",
    "\n",
    "- An informal introduction to Python. strings: https://docs.python.org/3/tutorial/introduction.html?#strings\n",
    "- String methods: https://docs.python.org/3/library/stdtypes.html#string-methods"
   ]
  },
  {
   "cell_type": "markdown",
   "metadata": {},
   "source": [
    "A Python el text s'emmagatzema en strings (o cadenes de text), que són una estructura de dades molt similar a les llistes en quant a què a cada caràcter li correspon un índex, podem fer slicing... la diferència més rellevant però és que no podem fer assignacions directes a posicions de la cadena."
   ]
  },
  {
   "cell_type": "code",
   "execution_count": 16,
   "metadata": {},
   "outputs": [
    {
     "name": "stdout",
     "output_type": "stream",
     "text": [
      "E\n",
      "Ella\n",
      "Eu\n",
      "ailàluE\n"
     ]
    }
   ],
   "source": [
    "# Exemple\n",
    "nom = \"Eulàlia\"\n",
    "print(nom[0])\n",
    "for i in range(0, len(nom), 2):\n",
    "    print(f\"{nom[i]}\",end=\"\")\n",
    "print()\n",
    "print(nom[0:2])\n",
    "print(nom[::-1])"
   ]
  },
  {
   "cell_type": "code",
   "execution_count": null,
   "metadata": {},
   "outputs": [],
   "source": [
    "# però...\n",
    "nom[3]=\"r\""
   ]
  },
  {
   "cell_type": "markdown",
   "metadata": {},
   "source": [
    "## Mètodes i funcions per a les cadenes\n",
    "\n",
    "Com que les cadenes de caràcters són una de les dades bàsiques amb les que es treballa, coneixerem algunes funcions que ens resultaran molt útils per aquest curs introductori.\n",
    "\n",
    "### split \n",
    "\n",
    "Amb split puc separar una cadena en una llista amb els diferents trossets, indicant el separador."
   ]
  },
  {
   "cell_type": "code",
   "execution_count": 18,
   "metadata": {},
   "outputs": [
    {
     "name": "stdout",
     "output_type": "stream",
     "text": [
      "['456', '342', '120€']\n"
     ]
    }
   ],
   "source": [
    "# Exemple\n",
    "cadena=\"456.342.120€\"\n",
    "llista=cadena.split('.')\n",
    "print(llista)"
   ]
  },
  {
   "cell_type": "markdown",
   "metadata": {},
   "source": [
    "Si no indico un separador, per defecte és l'espai."
   ]
  },
  {
   "cell_type": "code",
   "execution_count": 19,
   "metadata": {},
   "outputs": [
    {
     "name": "stdout",
     "output_type": "stream",
     "text": [
      "['El', 'gos,', 'i', 'el', 'gat,', 'menjàven', 'plegats.']\n"
     ]
    }
   ],
   "source": [
    "# Exemple\n",
    "cadena=\"El gos, i el gat, menjàven plegats.\"\n",
    "llista = cadena.split()\n",
    "print(llista)"
   ]
  },
  {
   "cell_type": "markdown",
   "metadata": {},
   "source": [
    "### join \n",
    "\n",
    "Un dels usos més estesos de join consisteix en convertir llistes a cadenes de text."
   ]
  },
  {
   "cell_type": "code",
   "execution_count": 20,
   "metadata": {},
   "outputs": [
    {
     "name": "stdout",
     "output_type": "stream",
     "text": [
      "El gos, i el gat, menjàven plegats.\n"
     ]
    }
   ],
   "source": [
    "# Exemple\n",
    "llista = ['El', 'gos,', 'i', 'el', 'gat,', 'menjàven', 'plegats.']\n",
    "cadena=\" \".join(llista)  # l'espai farà de separador\n",
    "print(cadena)"
   ]
  },
  {
   "cell_type": "markdown",
   "metadata": {},
   "source": [
    "### strip\n",
    "\n",
    "Elimina els caràcters indicats de l'inici i del final de la cadena, o els espais en blanc si no s'indiquen caràcters específics."
   ]
  },
  {
   "cell_type": "code",
   "execution_count": 21,
   "metadata": {},
   "outputs": [
    {
     "data": {
      "text/plain": [
       "'troducció a Pyth'"
      ]
     },
     "execution_count": 21,
     "metadata": {},
     "output_type": "execute_result"
    }
   ],
   "source": [
    "# Exemple\n",
    "\"introducció a Python\".strip('nio')"
   ]
  },
  {
   "cell_type": "code",
   "execution_count": 22,
   "metadata": {},
   "outputs": [
    {
     "data": {
      "text/plain": [
       "'introducció'"
      ]
     },
     "execution_count": 22,
     "metadata": {},
     "output_type": "execute_result"
    }
   ],
   "source": [
    "\" introducció   \".strip()"
   ]
  },
  {
   "cell_type": "markdown",
   "metadata": {},
   "source": [
    "### <span class=\"exercici\">Exercici 1: Parts d'un text</span>\n",
    "    \n",
    "A partir de la cadena \"El gos i el gat es barallen al carrer\", amb operacions sobre strings aconsegueix els següents textos:\n",
    "\n",
    "- \"el\"\n",
    "- \"rerrac\"\n",
    "- \"l gs l gt s brlln l crrr\""
   ]
  },
  {
   "cell_type": "markdown",
   "metadata": {},
   "source": [
    "### <span class=\"exercici\">Exercici 2: Unir paraules</span>\n",
    "\n",
    "Fes un programa que demani tres paraules d'una frase a l'usuari i crei una única cadena amb elles i la mostri a pantalla."
   ]
  },
  {
   "cell_type": "markdown",
   "metadata": {},
   "source": [
    "### islower, isupper i isalpha\n",
    "\n",
    "Verifiquen si la cadena és majúscules, minúscules o tota de lletres respectivament.\n",
    "\n",
    "### lower i upper\n",
    "\n",
    "Converteixen la cadena de majúscules a minúscules i de minúscules a majúscules respectivament."
   ]
  },
  {
   "cell_type": "code",
   "execution_count": 25,
   "metadata": {},
   "outputs": [
    {
     "data": {
      "text/plain": [
       "False"
      ]
     },
     "execution_count": 25,
     "metadata": {},
     "output_type": "execute_result"
    }
   ],
   "source": [
    "# Exemples\n",
    "\n",
    "\"HOLA\".islower()"
   ]
  },
  {
   "cell_type": "code",
   "execution_count": 26,
   "metadata": {},
   "outputs": [
    {
     "data": {
      "text/plain": [
       "True"
      ]
     },
     "execution_count": 26,
     "metadata": {},
     "output_type": "execute_result"
    }
   ],
   "source": [
    "\"HOLA\".isupper()"
   ]
  },
  {
   "cell_type": "code",
   "execution_count": 27,
   "metadata": {},
   "outputs": [
    {
     "data": {
      "text/plain": [
       "True"
      ]
     },
     "execution_count": 27,
     "metadata": {},
     "output_type": "execute_result"
    }
   ],
   "source": [
    "\"HOLA\".isalpha()"
   ]
  },
  {
   "cell_type": "code",
   "execution_count": 28,
   "metadata": {},
   "outputs": [
    {
     "data": {
      "text/plain": [
       "False"
      ]
     },
     "execution_count": 28,
     "metadata": {},
     "output_type": "execute_result"
    }
   ],
   "source": [
    "\"1HOLA\".isalpha()"
   ]
  },
  {
   "cell_type": "code",
   "execution_count": 29,
   "metadata": {},
   "outputs": [
    {
     "name": "stdout",
     "output_type": "stream",
     "text": [
      "hola\n"
     ]
    }
   ],
   "source": [
    "s = \"HOLA\".lower()\n",
    "print(s)"
   ]
  },
  {
   "cell_type": "code",
   "execution_count": 30,
   "metadata": {},
   "outputs": [
    {
     "name": "stdout",
     "output_type": "stream",
     "text": [
      "HOLA\n"
     ]
    }
   ],
   "source": [
    "t = \"Hola\".upper()\n",
    "print(t)"
   ]
  },
  {
   "cell_type": "markdown",
   "metadata": {},
   "source": [
    "### <span class=\"exercici\"> Exercici 3: Què és?</span>\n",
    "\n",
    "Escriu un petit programa que verifiqui si un string de longitud 1 donat és una lletra (minúscula o majúscula) i no és un dígit."
   ]
  },
  {
   "cell_type": "markdown",
   "metadata": {},
   "source": [
    "### <span class=\"exercici\"> Exercici 4. Paraules en majúscules</span>\n",
    "\n",
    "Volem fer un programa que, donat un string qualsevol, ens retorni les paraules en majúscules i amb el nombre de lletres, tal com s'indica a l'exemple."
   ]
  },
  {
   "cell_type": "code",
   "execution_count": 23,
   "metadata": {},
   "outputs": [],
   "source": [
    "def frase_llarga(st):\n",
    "    pass"
   ]
  },
  {
   "cell_type": "code",
   "execution_count": 24,
   "metadata": {},
   "outputs": [],
   "source": [
    "frase_llarga(\"Una frase qualsevol\")\n",
    "# Això hauria d'imprimir:\n",
    "\n",
    "# UNA --> 3 lletres\n",
    "# FRASE --> 5 lletres\n",
    "# QUALSEVOL --> 9 lletres"
   ]
  },
  {
   "cell_type": "markdown",
   "metadata": {},
   "source": [
    "### <span class=\"exercici\">Exercici 5. Tallar cadena</span>\n",
    "\n",
    "Escriu una funció que donats una cadena i un nombre $n<<len(cadena)$, elimini els primers n caràcters i els darrers n caràcters de la cadena.\n",
    "\n",
    "Font: Adaptat de [Python praktikum / Alessandro Mammana](https://www.molgen.mpg.de/3372238/python_praesentation.pdf)"
   ]
  },
  {
   "cell_type": "markdown",
   "metadata": {},
   "source": [
    "### <span class=\"exercici\">Exercici 6. Slicing i conversió</span>\n",
    "\n",
    "Imagina que tens la següent cadena:\n",
    "\n",
    "text = 'X-DSPAM-Confidence:0.8475'\n",
    "\n",
    "Retalla-la pels dos punts amb `split`, agafa la darrera part i usa la funció `float()` per convertir la segona part en un nombre decimal.\n",
    "\n",
    "Font: Adaptat de [Python for Everybody / Charles Severance](https://books.trinket.io/pfe/index.html)"
   ]
  },
  {
   "cell_type": "markdown",
   "metadata": {},
   "source": [
    "## Referències\n",
    "Les explicacions, exemples i exercicis s'han basat en les següents fonts:\n",
    "\n",
    "- Singh et al. “Time complexity of algorithms” dins Study tonight [http://www.studytonight.com/data-structures/time-complexity-of-algorithms] consultat el 26 de novembre de 2015\n",
    "- Umesh V. Vazirani “Chapter 2: divide and conquer algorithms” [https://www.cs.berkeley.edu/~vazirani/algorithms/chap2.pdf] consultat el 26 de novembre de 2015\n",
    "- Cormen, T. C., Leiserson, C. E., Rivest, R. L., & Stein, C. (2009). *Introduction to algorithms* (3rd ed.). Cambridge: The MIT Press. ISBN 9780262033848"
   ]
  },
  {
   "cell_type": "markdown",
   "metadata": {},
   "source": [
    "<div id=\"peu\">\n",
    "<p><a href=\"https://colab.research.google.com/github/algorismica2020/algorismica2020.github.io/blob/master/notebookscolab/Cadenes.ipynb\"><img style=\"margin:-10px 10px 20px 0\" width=\"150px\" align=\"right\" src=\"https://raw.githubusercontent.com/algorismica2019/problemes/master/assets/colab-badge.png?raw=1\" alt=\"Obrir a Colab\" title=\"Obrir i executar a Google Colaboratory\"></a></p>\n",
    "</div>"
   ]
  }
 ],
 "metadata": {
  "kernelspec": {
   "display_name": "Python 3",
   "language": "python",
   "name": "python3"
  },
  "language_info": {
   "codemirror_mode": {
    "name": "ipython",
    "version": 3
   },
   "file_extension": ".py",
   "mimetype": "text/x-python",
   "name": "python",
   "nbconvert_exporter": "python",
   "pygments_lexer": "ipython3",
   "version": "3.8.3"
  }
 },
 "nbformat": 4,
 "nbformat_minor": 4
}
