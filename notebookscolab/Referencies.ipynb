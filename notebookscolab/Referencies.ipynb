{
 "cells": [
  {
   "cell_type": "markdown",
   "metadata": {},
   "source": [
    "\n",
    "<div id=\"capcalera\">\n",
    "<p><a href=\"https://colab.research.google.com/github/algorismica2020/algorismica2020.github.io/blob/master/notebookscolab/Referencies.ipynb\"><img style=\"margin:-10px 10px 20px 0\" width=\"150px\" align=\"right\" src=\"https://raw.githubusercontent.com/algorismica2019/problemes/master/assets/colab-badge.png?raw=1\" alt=\"Obrir a Colab\" title=\"Obrir i executar a Google Colaboratory\"></a></p>\n",
    "<p style=\"clear:both\"><img align='left' width=\"300px\" style=\"padding-right:10px;float=left\" src=\"https://raw.githubusercontent.com/algorismica2019/problemes/master/assets/al-khwarizmi.png\" >Aquest notebook complementa la teoria de l'assignatura d'<strong>Algorísmica</strong> del Grau d'Enginyeria Informàtica a la <a href=\"https://mat.ub.edu\">Facultat de Matemàtiques i Informàtica</a> de la <a href=\"https://www.ub.edu\">Universitat de Barcelona</a> impartida per <em>Jordi Vitrià</em> i <em>Mireia Ribera</em></p>\n",
    "\n",
    "<p>Els problemes s'ofereixen sota llicència <a href=\"https://creativecommons.org/licenses/by-nc-nd/3.0/us/legalcode\">CC-BY-NC-ND license</a>, i el codi sota <a href=\"https://opensource.org/licenses/MIT\">Llicència MIT</a>.</p>\n",
    "\n",
    "</div>"
   ]
  },
  {
   "cell_type": "markdown",
   "metadata": {},
   "source": [
    "# <span class=\"tema\">(Python)</span> Referències"
   ]
  },
  {
   "cell_type": "markdown",
   "metadata": {},
   "source": [
    "Els valors i les variables es guarden a memòria. Podem tenir un indicador d'on s'han guardat amb la instrucció id"
   ]
  },
  {
   "cell_type": "code",
   "execution_count": 13,
   "metadata": {},
   "outputs": [],
   "source": [
    "a = \"banana\"\n",
    "b = \"banana\"\n",
    "c = [1,2,3]\n",
    "d = [1,2,3]"
   ]
  },
  {
   "cell_type": "code",
   "execution_count": 14,
   "metadata": {},
   "outputs": [
    {
     "data": {
      "text/plain": [
       "2166897910192"
      ]
     },
     "execution_count": 14,
     "metadata": {},
     "output_type": "execute_result"
    }
   ],
   "source": [
    "id(a)"
   ]
  },
  {
   "cell_type": "code",
   "execution_count": 15,
   "metadata": {},
   "outputs": [
    {
     "data": {
      "text/plain": [
       "2166897910192"
      ]
     },
     "execution_count": 15,
     "metadata": {},
     "output_type": "execute_result"
    }
   ],
   "source": [
    "id(b)"
   ]
  },
  {
   "cell_type": "code",
   "execution_count": 16,
   "metadata": {},
   "outputs": [
    {
     "data": {
      "text/plain": [
       "2166897421504"
      ]
     },
     "execution_count": 16,
     "metadata": {},
     "output_type": "execute_result"
    }
   ],
   "source": [
    "id(c)"
   ]
  },
  {
   "cell_type": "code",
   "execution_count": 17,
   "metadata": {},
   "outputs": [
    {
     "data": {
      "text/plain": [
       "2166897469568"
      ]
     },
     "execution_count": 17,
     "metadata": {},
     "output_type": "execute_result"
    }
   ],
   "source": [
    "id(d)"
   ]
  },
  {
   "cell_type": "markdown",
   "metadata": {},
   "source": [
    "En el primer cas, banana és un literal, i Python crea una estructura per guardar-lo i les variables simplement apunten a aquesta estructura, sempre la mateixa.\n",
    "\n",
    "En el segon cas, les llistes són objectes, i Python les guarda cadascuna en un lloc diferent."
   ]
  },
  {
   "cell_type": "markdown",
   "metadata": {},
   "source": [
    "Recordem el que haviem vist amb la còpia de llistes: quan es fa una còpia d'una col.lecció es fa una còpia per referència, la nova variable no és una nova estructura sinó un \"àlies\" de l'anterior, i per tant canvis a l'original afectaran al duplicat. "
   ]
  },
  {
   "cell_type": "code",
   "execution_count": 18,
   "metadata": {},
   "outputs": [
    {
     "name": "stdout",
     "output_type": "stream",
     "text": [
      "a original: [1, 2, 3]\n",
      "a modificada: [1, 2, 3, 4]\n",
      "b copiada per referència [1, 2, 3, 4]\n",
      "a original: [1, 2, 3]\n",
      "a modificada: [1, 2, 3, 4]\n",
      "c copiada element a element [[1, 2, 3]]\n"
     ]
    }
   ],
   "source": [
    "# efectes laterals de la còpia per referència\n",
    "a = [1,2,3]\n",
    "print(\"a original:\", a)\n",
    "b = a                # b és un àlies d'a\n",
    "a.append(4)\n",
    "print(\"a modificada:\", a)\n",
    "print(\"b copiada per referència\", b)\n",
    "# però...\n",
    "a = [1, 2, 3]\n",
    "print(\"a original:\", a)\n",
    "c = [a[:]]            # c és una còpia real d'a, element per element\n",
    "a.append(4)\n",
    "print(\"a modificada:\", a)\n",
    "print(\"c copiada element a element\", c)"
   ]
  },
  {
   "cell_type": "markdown",
   "metadata": {},
   "source": [
    "La còpia d'un objecte element per element s'anomena clonatge."
   ]
  },
  {
   "cell_type": "markdown",
   "metadata": {},
   "source": [
    "A les funcions, quan passem un objecte com a paràmetre, l'estem passant per referència, no en fem una còpia, i per tant si alterem l'objecte dins la funció es veurà afectat a fora també."
   ]
  },
  {
   "cell_type": "code",
   "execution_count": 19,
   "metadata": {},
   "outputs": [
    {
     "name": "stdout",
     "output_type": "stream",
     "text": [
      "['un', 'un altre', 'nou']\n"
     ]
    }
   ],
   "source": [
    "def afegeix_element(l):\n",
    "    l.append(\"nou\")\n",
    "\n",
    "l=[\"un\",\"un altre\"]\n",
    "afegeix_element(l)\n",
    "print(l)"
   ]
  },
  {
   "cell_type": "code",
   "execution_count": 20,
   "metadata": {},
   "outputs": [
    {
     "name": "stdout",
     "output_type": "stream",
     "text": [
      "m ['un', 'un altre', 'nou']\n",
      "['un', 'un altre']\n"
     ]
    }
   ],
   "source": [
    "# amb el clonatge evitem alterar la llista original\n",
    "def afegeix_element(l):\n",
    "    m=l[:]\n",
    "    m.append(\"nou\")\n",
    "    print(\"m\",m)\n",
    "\n",
    "l=[\"un\",\"un altre\"]\n",
    "afegeix_element(l)\n",
    "print(l)"
   ]
  },
  {
   "cell_type": "markdown",
   "metadata": {},
   "source": [
    "### <span class=\"exercici\">Exercici 1</span>\n",
    "\n",
    "Escriu una funció que mostri per pantalla una llista ordenada però que no alteri la llista original. Fes servir el patró següent:"
   ]
  },
  {
   "cell_type": "code",
   "execution_count": 21,
   "metadata": {},
   "outputs": [],
   "source": [
    "def mostrar_ordenada(l):\n",
    "    pass\n",
    "    \n",
    "mostrar_ordenada([6,1,0,3,7,-1,5])"
   ]
  },
  {
   "cell_type": "markdown",
   "metadata": {},
   "source": [
    "<div id=\"peu\">\n",
    "<p><a href=\"https://colab.research.google.com/github/algorismica2020/algorismica2020.github.io/blob/master/notebookscolab/EstilProgramacio.ipynb\"><img style=\"margin:-10px 10px 20px 0\" width=\"150px\" align=\"right\" src=\"https://raw.githubusercontent.com/algorismica2019/problemes/master/assets/colab-badge.png?raw=1\" alt=\"Obrir a Colab\" title=\"Obrir i executar a Google Colaboratory\"></a></p>\n",
    "</div>"
   ]
  }
 ],
 "metadata": {
  "kernelspec": {
   "display_name": "Python 3",
   "language": "python",
   "name": "python3"
  },
  "language_info": {
   "codemirror_mode": {
    "name": "ipython",
    "version": 3
   },
   "file_extension": ".py",
   "mimetype": "text/x-python",
   "name": "python",
   "nbconvert_exporter": "python",
   "pygments_lexer": "ipython3",
   "version": "3.8.3"
  }
 },
 "nbformat": 4,
 "nbformat_minor": 4
}
