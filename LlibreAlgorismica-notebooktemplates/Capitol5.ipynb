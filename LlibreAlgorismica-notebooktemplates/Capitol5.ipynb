{
 "cells": [
  {
   "cell_type": "markdown",
   "metadata": {},
   "source": [
    "# Capítol 5 - Dividir i Vèncer"
   ]
  },
  {
   "cell_type": "markdown",
   "metadata": {},
   "source": [
    "### 5.1 Suma Llista"
   ]
  },
  {
   "cell_type": "code",
   "execution_count": 2,
   "metadata": {},
   "outputs": [],
   "source": [
    "def suma_llista(llista):\n",
    "    \"\"\"\n",
    "    Aquesta funció implementa la suma recursiva d'una llista\n",
    "    \n",
    "    Parameters\n",
    "    ----------\n",
    "    llista: list\n",
    "    \n",
    "    Returns\n",
    "    -------\n",
    "    suma: int\n",
    "          La suma de tots els elements de la llista d'entrada\n",
    "    \"\"\"\n",
    "    # Cas base, la llista està buida\n",
    "    # i per tant, la suma és zero\n",
    "    if llista == []:\n",
    "        return 0\n",
    "    \n",
    "    # Sumem l'element del principi i cridem de nou la funció\n",
    "    suma = llista[0]+suma_llista(llista[1:])\n",
    "    return suma"
   ]
  },
  {
   "cell_type": "code",
   "execution_count": 3,
   "metadata": {},
   "outputs": [],
   "source": [
    "assert suma_llista([1,2,3,4]) == 10\n",
    "assert suma_llista([-1,-2,0,1,2]) == 0"
   ]
  },
  {
   "cell_type": "code",
   "execution_count": null,
   "metadata": {},
   "outputs": [],
   "source": []
  },
  {
   "cell_type": "markdown",
   "metadata": {},
   "source": [
    "### 5.2 Nombre no repetit"
   ]
  },
  {
   "cell_type": "code",
   "execution_count": 4,
   "metadata": {},
   "outputs": [],
   "source": [
    "def busca_unic(llista):\n",
    "    \"\"\"\n",
    "    Aquesta funció busca l'element que només surt una vegada.\n",
    "    \n",
    "    Parameters\n",
    "    ----------\n",
    "    llista: list\n",
    "    \n",
    "    Returns\n",
    "    -------\n",
    "    num: int\n",
    "    \"\"\"\n",
    "    \n",
    "    def search_rec (llista, inici, fi):\n",
    "        if inici == fi: return llista [inici]\n",
    "        \n",
    "        mid = inici + (fi - inici) // 2\n",
    "\n",
    "        # Posició parell\n",
    "        if mid % 2 == 0: \n",
    "            # En mid hauria d'estar el primer element de la parella\n",
    "            if llista [mid] == llista [mid + 1]:\n",
    "                # Fins aquí tot ha anat bé, buscar a la segona meitat\n",
    "                return search_rec (llista, mid + 2, fi)\n",
    "            else:\n",
    "                # No estem on hauríem d'estar! Cerca a la primera meitat\n",
    "                # Important no fer mid-1, podríem estar en el nombre que busquem\n",
    "                return search_rec (llista, inici, mid) \n",
    "\n",
    "        # Posició imparell    \n",
    "        else: \n",
    "            # En mid hauria d'estar el segon element de la parella\n",
    "            if llista [mid-1] == llista [mid]:\n",
    "                # Fins aquí tot ha anat bé, buscar cap endavant\n",
    "                return search_rec (llista, mid + 1, fi)\n",
    "            else:\n",
    "                # No estem on hauríem d'estar! Cerca a la primera meitat\n",
    "                return search_rec (llista, inici, mid-1)\n",
    "    \n",
    "    assert len(llista) % 2 != 0, 'La longitud de la llista ha de ser imparell'\n",
    "    return search_rec (llista, 0, len (llista) -1)\n"
   ]
  },
  {
   "cell_type": "code",
   "execution_count": 46,
   "metadata": {},
   "outputs": [],
   "source": [
    "assert busca_unic([ 1, 1, 2, 4, 4, 5, 5, 6, 6 ]) == 2"
   ]
  },
  {
   "cell_type": "code",
   "execution_count": null,
   "metadata": {},
   "outputs": [],
   "source": []
  },
  {
   "cell_type": "markdown",
   "metadata": {},
   "source": [
    "### 5.3 Seqüència capícua més llarga"
   ]
  },
  {
   "cell_type": "code",
   "execution_count": 11,
   "metadata": {},
   "outputs": [],
   "source": [
    "def subs_capicua_opt(cadena, solucions = {}):\n",
    "    \"\"\"\n",
    "    Aquesta funció troba la subseqüència més llarga capícua\n",
    "    d'una cadena donada de manera òptima amb programació dinàmica\n",
    "    \n",
    "    Parameters\n",
    "    ----------\n",
    "    cadena: string\n",
    "    solucions: dict\n",
    "        diccionari que conté la memòria de solucions \n",
    "        per optimitzar el rendiment\n",
    "    \n",
    "    Returns\n",
    "    -------\n",
    "    longitud: int\n",
    "    \"\"\"\n",
    "    \n",
    "    init = 0\n",
    "    end = len(cadena)-1\n",
    "    \n",
    "    # la clau la formen l'índex inicial i final de la subseqüència\n",
    "    clau = '{}|{}'.format(init, end)\n",
    "    \n",
    "    # si ja tenim la solució no la tornem a calcular\n",
    "    if clau in solucions:  \n",
    "        pass\n",
    "    \n",
    "    else:\n",
    "        if end == 0:\n",
    "            solucions[clau] = 1\n",
    "        elif cadena[init] == cadena[end]:\n",
    "            solucions[clau] = subs_capicua_opt(cadena[1: -1], solucions) + 2\n",
    "        else:\n",
    "            solucions[clau] = max(subs_capicua_opt(cadena[1:], solucions),\n",
    "                                  subs_capicua_opt(cadena[:-1], solucions))\n",
    "    return solucions[clau]"
   ]
  },
  {
   "cell_type": "code",
   "execution_count": 12,
   "metadata": {},
   "outputs": [],
   "source": [
    "assert subs_capicua_opt(\"APXPRABARXP\") == 9"
   ]
  },
  {
   "cell_type": "code",
   "execution_count": null,
   "metadata": {},
   "outputs": [],
   "source": []
  },
  {
   "cell_type": "markdown",
   "metadata": {},
   "source": [
    "### 5.4 El més petit que falta"
   ]
  },
  {
   "cell_type": "code",
   "execution_count": 13,
   "metadata": {},
   "outputs": [],
   "source": [
    "def bin_falta(llista, low, high):\n",
    "    \n",
    "    mid = (low+high) // 2\n",
    "    \n",
    "    if high-low < 1:\n",
    "        return low if(llista[low] != low) else -1\n",
    "\n",
    "    #Observo que els indexos coincideixen amb el digit fins que arribo al que falta\n",
    "    elif llista[mid] == mid : \n",
    "        return bin_falta(llista, mid + 1, high)\n",
    "    \n",
    "    elif llista[mid-1] == mid-1:\n",
    "        return mid\n",
    "    \n",
    "    else: \n",
    "        return bin_falta(llista, low, mid-1)\n",
    "\n",
    "def el_mes_petit(llista):\n",
    "    \"\"\"\n",
    "    Aquesta funció troba el valor més petit que falta.\n",
    "    \n",
    "    Parameters\n",
    "    ----------\n",
    "    llista: list\n",
    "    \n",
    "    Returns\n",
    "    -------\n",
    "    valor: int\n",
    "    \"\"\"\n",
    "    if llista == []:\n",
    "        return (\"Entrada no vàlida\")\n",
    "    else:\n",
    "        return bin_falta(llista, 0, len(llista) - 1)"
   ]
  },
  {
   "cell_type": "code",
   "execution_count": 14,
   "metadata": {},
   "outputs": [],
   "source": [
    "assert el_mes_petit([0, 1, 2, 3, 4, 7, 12]) == 5\n",
    "assert el_mes_petit([1, 2, 3, 4, 7, 12]) == 0\n",
    "assert el_mes_petit([0,1,2,3]) == -1"
   ]
  },
  {
   "cell_type": "code",
   "execution_count": null,
   "metadata": {},
   "outputs": [],
   "source": []
  },
  {
   "cell_type": "markdown",
   "metadata": {},
   "source": [
    "### 5.5 Quantitat d'1s a una llista ordenada de nombres binaris"
   ]
  },
  {
   "cell_type": "code",
   "execution_count": 15,
   "metadata": {},
   "outputs": [],
   "source": [
    "def quants_1(llistaBinaria):\n",
    "    \"\"\"\n",
    "    Aquesta funció troba de manera eficient el nombre d'1s que conté una llista.\n",
    "    \n",
    "    Parameters\n",
    "    ----------\n",
    "    llistaBinaria: list\n",
    "        la llista de nombres binaris ordenada\n",
    "        \n",
    "    Returns\n",
    "    -------\n",
    "    num1s: int\n",
    "        el nombre d'1s que conté\n",
    "    \"\"\"\n",
    "    \n",
    "    def rec_nombre_1_binsearch(llista, low, high):\n",
    "        if low > high:\n",
    "            return 0\n",
    "        \n",
    "        elif low == high:\n",
    "            return llista[low]\n",
    "        \n",
    "        mid = (low + high) // 2\n",
    "\n",
    "        items = llista[mid]\n",
    "        \n",
    "        if items == 1:\n",
    "            return rec_nombre_1_binsearch(llista, low, mid-1) + high - mid + 1\n",
    "        \n",
    "        else:\n",
    "            return rec_nombre_1_binsearch(llista, mid+1, high)\n",
    "    \n",
    "    return rec_nombre_1_binsearch(llistaBinaria, 0, len(llistaBinaria) - 1)"
   ]
  },
  {
   "cell_type": "code",
   "execution_count": 16,
   "metadata": {},
   "outputs": [],
   "source": [
    "assert quants_1([0, 0, 1, 1, 1, 1, 1])  == 5\n",
    "assert quants_1([0, 0, 0, 0, 1, 1])  == 2\n",
    "assert quants_1([0, 0, 0, 0, 0, 0, 0])  == 0\n",
    "assert quants_1([1, 1, 1])  == 3"
   ]
  },
  {
   "cell_type": "code",
   "execution_count": null,
   "metadata": {},
   "outputs": [],
   "source": []
  },
  {
   "cell_type": "markdown",
   "metadata": {},
   "source": [
    "### 5.6 Negatius al davant"
   ]
  },
  {
   "cell_type": "code",
   "execution_count": 17,
   "metadata": {},
   "outputs": [],
   "source": [
    "def negatius(llista):\n",
    "    \"\"\"\n",
    "    Aquesta funció retorna la llista amb els nombres negatius al davant\n",
    "    \n",
    "    Parameters\n",
    "    ----------\n",
    "    llista: list\n",
    "    \n",
    "    Returns\n",
    "    -------\n",
    "    llistaOrdenada: list\n",
    "    \"\"\"\n",
    "    \n",
    "    j = length = len(llista) - 1\n",
    "    i = 0\n",
    "    \n",
    "    while i<j: \n",
    "        \n",
    "        while i < length and llista[i] <= 0: i += 1\n",
    "        while j > 0 and llista[j] > 0: j -= 1         \n",
    "        \n",
    "        if i < j:\n",
    "            llista[i], llista[j] = llista[j], llista[i]\n",
    "            \n",
    "    return llista"
   ]
  },
  {
   "cell_type": "code",
   "execution_count": 18,
   "metadata": {},
   "outputs": [],
   "source": [
    "llista = [1, -2, 3, -4, -3, 5, 6]\n",
    "negatius(llista)\n",
    "assert llista == [-3, -2, -4, 3, 1, 5, 6]"
   ]
  },
  {
   "cell_type": "code",
   "execution_count": null,
   "metadata": {},
   "outputs": [],
   "source": []
  },
  {
   "cell_type": "markdown",
   "metadata": {},
   "source": [
    "### 5.7 Zeros al final"
   ]
  },
  {
   "cell_type": "code",
   "execution_count": 19,
   "metadata": {},
   "outputs": [],
   "source": [
    "def zeros_final(llista):\n",
    "    \"\"\"\n",
    "    Aquesta funció mou tots els zeros de la llista donada al final\n",
    "    la funció és una variació del quicksort en que fem swap dels elements\n",
    "    de la llista usant com a pivot el 0\n",
    "    \n",
    "    Parameters\n",
    "    ----------\n",
    "    llista: list\n",
    "    \n",
    "    Returns\n",
    "    -------\n",
    "    None\n",
    "    \"\"\"\n",
    "    \n",
    "    j = 0\n",
    "    for i in range(0, len(llista)):\n",
    "        if llista[i] != 0:\n",
    "            llista[i], llista[j] = llista[j], llista[i]\n",
    "            j += 1\n"
   ]
  },
  {
   "cell_type": "code",
   "execution_count": 21,
   "metadata": {},
   "outputs": [],
   "source": [
    "llista = [0,3,0,1,0,5,0,0,2,7,8] \n",
    "zeros_final(llista)\n",
    "assert llista == [3,1,5,2,7,8,0,0,0,0,0]"
   ]
  },
  {
   "cell_type": "code",
   "execution_count": null,
   "metadata": {},
   "outputs": [],
   "source": []
  },
  {
   "cell_type": "markdown",
   "metadata": {},
   "source": [
    "### 5.8 Rotacions"
   ]
  },
  {
   "cell_type": "code",
   "execution_count": 22,
   "metadata": {},
   "outputs": [],
   "source": [
    "def rotacions(llista):\n",
    "    \"\"\"\n",
    "    Aquesta funció troba quantes rotacions s'han fet a la llista.\n",
    "    \n",
    "    Parameters\n",
    "    ----------\n",
    "    llista: list\n",
    "\n",
    "    Returns\n",
    "    -------\n",
    "    numRotacions: int\n",
    "    \"\"\"\n",
    "    def bin_search(x, nums, left, right):\n",
    "        mid = (left + right) // 2\n",
    "        \n",
    "        if left + 1 >= right:\n",
    "            if nums[mid] > x:\n",
    "                return mid + 1\n",
    "            else: \n",
    "                return mid\n",
    "            \n",
    "        item = nums[mid]\n",
    "        if item < x:\n",
    "            return bin_search(x, nums, left, mid)\n",
    "        else:\n",
    "            return bin_search(x, nums, mid + 1, right)\n",
    "    \n",
    "    return bin_search(llista[-1], llista, 0, len(llista) - 1)"
   ]
  },
  {
   "cell_type": "code",
   "execution_count": 24,
   "metadata": {},
   "outputs": [],
   "source": [
    "assert rotacions([9, 10, 2, 5, 6, 8]) == 2\n",
    "assert rotacions([3, 5, 10, 12, 1, 2]) == 4\n",
    "assert rotacions([20, 2, 3, 7, 15, 18]) == 1"
   ]
  },
  {
   "cell_type": "code",
   "execution_count": null,
   "metadata": {},
   "outputs": [],
   "source": []
  },
  {
   "cell_type": "markdown",
   "metadata": {},
   "source": [
    "### 5.9 Existeix"
   ]
  },
  {
   "cell_type": "code",
   "execution_count": 25,
   "metadata": {},
   "outputs": [],
   "source": [
    "def existeix_rec(llista,i,j): \n",
    "    if i == j or i > j:\n",
    "        return llista[i] == i\n",
    "    mid = (j-i) // 2 + i\n",
    "    \n",
    "    if llista[mid] == mid:\n",
    "        return True\n",
    "    \n",
    "    elif llista[mid] > mid:\n",
    "        return existeix_rec(llista, i, mid-1)\n",
    "    \n",
    "    else:\n",
    "        return existeix_rec(llista, mid+1, j)\n",
    "    \n",
    "def existeix(llista):\n",
    "    \"\"\"\n",
    "    Aquesta funció comprova si existeix un element tal que llista[i] = i.\n",
    "    \n",
    "    Parameters\n",
    "    ----------\n",
    "    llista: list\n",
    "    \n",
    "    Returns\n",
    "    -------\n",
    "    bExisteix: bool\n",
    "    \"\"\"\n",
    "    return existeix_rec(llista, 0, len(llista)-1)"
   ]
  },
  {
   "cell_type": "code",
   "execution_count": 26,
   "metadata": {},
   "outputs": [],
   "source": [
    "    assert existeix([1, 4, 5, 6, 7]) == False\n",
    "    assert existeix([0, 1, 2, 7]) == True\n",
    "    assert existeix([1, 1, 1, 3]) == True"
   ]
  },
  {
   "cell_type": "code",
   "execution_count": null,
   "metadata": {},
   "outputs": [],
   "source": []
  },
  {
   "cell_type": "markdown",
   "metadata": {},
   "source": [
    "### 5.10 Comptador d'inversions"
   ]
  },
  {
   "cell_type": "code",
   "execution_count": 27,
   "metadata": {},
   "outputs": [],
   "source": [
    "def mergesortInv(llista):\n",
    "    if len(llista) < 2:\n",
    "        return llista, 0\n",
    "    else:\n",
    "        mid = len(llista) // 2\n",
    "        left, invl = mergesortInv(llista[:mid])\n",
    "        right, invd = mergesortInv(llista[mid:])\n",
    "        return mergeInv(left, right, invl+invd)\n",
    "\n",
    "def mergeInv(left, right, inversions):\n",
    "    result = []\n",
    "    i, j = 0, 0\n",
    "    while(i < len(left) and j < len(right)):\n",
    "        if (left[i] <= right[j]):\n",
    "            result.append(left[i])\n",
    "            i = i + 1\n",
    "            \n",
    "        # en aquest cas s'ha fet una inversió a la parella i,j\n",
    "        else:  \n",
    "            result.append(right[j])\n",
    "            inversions += len(left[i:])\n",
    "            j = j + 1\n",
    "    result += left[i:]\n",
    "    result += right[j:]\n",
    "    return result, inversions\n",
    "\n",
    "def comptador_inversions(llista):\n",
    "    \"\"\"\n",
    "    Aquesta funció compta quantes inversions s'han fet.\n",
    "    \n",
    "    Parameters\n",
    "    ----------\n",
    "    llista: list\n",
    "    \n",
    "    Returns\n",
    "    -------\n",
    "    num: int\n",
    "    \"\"\"\n",
    "    \n",
    "    a, b = mergesortInv(llista)\n",
    "    return b"
   ]
  },
  {
   "cell_type": "code",
   "execution_count": 28,
   "metadata": {},
   "outputs": [],
   "source": [
    "assert comptador_inversions([3, 1, 5, 2, 7, 8, 4]) == 6"
   ]
  },
  {
   "cell_type": "code",
   "execution_count": null,
   "metadata": {},
   "outputs": [],
   "source": []
  },
  {
   "cell_type": "markdown",
   "metadata": {},
   "source": [
    "### 5.11 Element pic"
   ]
  },
  {
   "cell_type": "code",
   "execution_count": 31,
   "metadata": {},
   "outputs": [],
   "source": [
    "def elements_pic(llista):\n",
    "    \"\"\"\n",
    "    Aquesta funció retorna l'element d'una llista\n",
    "    \n",
    "    Parameters\n",
    "    ----------\n",
    "    llista: list\n",
    "    \n",
    "    Returns\n",
    "    -------\n",
    "    posicio:int\n",
    "    \"\"\"\n",
    "    \n",
    "    def element_pic_rec(llista,low,high,n):\n",
    "        mid = low + (high-low)//2\n",
    "        \n",
    "        # Element pic trobat\n",
    "        if (mid == 0 or llista[mid-1] <= llista[mid]) and (mid == n-1 or llista[mid+1] <= llista[mid]):\n",
    "            return llista[mid]\n",
    "        \n",
    "        elif mid > 0 and llista[mid-1] > llista[mid]:\n",
    "            return element_pic_rec(llista, low, (mid-1), n)\n",
    "        else:\n",
    "            return element_pic_rec(llista, mid+1, high, n)\n",
    "    \n",
    "    return element_pic_rec(llista, 0, len(llista) - 1, len(llista))"
   ]
  },
  {
   "cell_type": "code",
   "execution_count": 32,
   "metadata": {},
   "outputs": [],
   "source": [
    "assert elements_pic([3, 1, 5, 2, 7, 8]) in [3,5,8]\n",
    "assert elements_pic([9, 5, 2]) == 9\n",
    "assert elements_pic([1, 2, 7, 8]) == 8"
   ]
  },
  {
   "cell_type": "code",
   "execution_count": null,
   "metadata": {},
   "outputs": [],
   "source": []
  },
  {
   "cell_type": "markdown",
   "metadata": {},
   "source": [
    "### 5.12 Dividir una llista en tres parts segons un valor donat"
   ]
  },
  {
   "cell_type": "code",
   "execution_count": 33,
   "metadata": {},
   "outputs": [],
   "source": [
    "def parts_llista(llista, valor):\n",
    "    \"\"\"\n",
    "    Aquesta funció divideix la llista en 3 a partir del valor donat.\n",
    "    \n",
    "    Parameters\n",
    "    ----------\n",
    "    llista: list\n",
    "    valor: int\n",
    "    \n",
    "    Returns\n",
    "    -------\n",
    "    None\n",
    "    \"\"\"\n",
    "    primer = 0\n",
    "    ultim = len(llista) - 1\n",
    "    i = 1 \n",
    "    j = ultim\n",
    "    # nombre de valors iguals\n",
    "    iguals_v = 0 \n",
    "    \n",
    "    while i<j:\n",
    "        while iguals_v < ultim and llista[iguals_v] == valor: \n",
    "            iguals_v += 1\n",
    "        \n",
    "        i = iguals_v\n",
    "        while i < ultim and llista[i] < valor: \n",
    "            i += 1\n",
    "\n",
    "        while j > primer and llista[j] > valor: \n",
    "            j -= 1\n",
    "        \n",
    "        while i < ultim and llista[i] == valor: \n",
    "            llista[iguals_v], llista[i] = llista[i], llista[iguals_v]\n",
    "            i += 1\n",
    "            iguals_v += 1\n",
    "            \n",
    "        #intercanviem, fem avançar i j   \n",
    "        llista[i], llista[j] = llista[j], llista[i] "
   ]
  },
  {
   "cell_type": "code",
   "execution_count": 37,
   "metadata": {},
   "outputs": [],
   "source": [
    "llista = [6, 2, 9, 8, 7, 4, 3, 7, 1, 9, 7, 1]\n",
    "parts_llista(llista, 7)\n",
    "assert(llista) == [7, 7, 7, 6, 2, 1, 3, 1, 4, 9, 8, 9]"
   ]
  },
  {
   "cell_type": "code",
   "execution_count": null,
   "metadata": {},
   "outputs": [],
   "source": []
  },
  {
   "cell_type": "markdown",
   "metadata": {},
   "source": [
    "### 5.13 Trobar la primera i darrera ocurrència d'un nombre donat en una llista ordenada"
   ]
  },
  {
   "cell_type": "code",
   "execution_count": 38,
   "metadata": {},
   "outputs": [],
   "source": [
    "def primera_darrera_ocurrencia(llista, nombre):\n",
    "    \"\"\"\n",
    "    Aquesta funció troba la primera i darrera ocurrència d'un valor a la llista\n",
    "    \n",
    "    Parameters\n",
    "    ----------\n",
    "    llista: list\n",
    "    nombre: int\n",
    "    \n",
    "    Returns\n",
    "    -------\n",
    "    posPrimeraOcurrencia: int\n",
    "    posDarreraOcurrencia: int\n",
    "    \"\"\"\n",
    "    \n",
    "    def recBinSearch(x, nums, low, high):\n",
    "        if low > high:\n",
    "            return -1\n",
    "        mid = (low + high) // 2\n",
    "        items = nums[mid]\n",
    "        if items == x:\n",
    "            return mid\n",
    "        elif x < items:\n",
    "            return recBinSearch(x, nums, low, mid-1)\n",
    "        else:\n",
    "            return recBinSearch(x, nums, mid+1, high)\n",
    "        \n",
    "    # Busquem una aparició del element a la llista emprant búsqueda binaria\n",
    "    cercaBinaria = recBinSearch(nombre, llista, 0, len(llista))\n",
    "    if cercaBinaria == -1:\n",
    "        return (-1, -1)\n",
    "    else:\n",
    "        # recorregut seqüèncial per trobar la primera aparició\n",
    "        indexInicial = cercaBinaria\n",
    "        while indexInicial >= 0 and llista[indexInicial] == nombre:\n",
    "            indexInicial -= 1\n",
    "            \n",
    "        # recorregut seqüèncial per trobar la darrera aparició\n",
    "        indexFinal = cercaBinaria\n",
    "        while indexFinal < len(llista) and llista[indexFinal] == nombre:\n",
    "            indexFinal += 1\n",
    "            \n",
    "        return indexInicial + 1, indexFinal - 1\n"
   ]
  },
  {
   "cell_type": "code",
   "execution_count": 39,
   "metadata": {},
   "outputs": [],
   "source": [
    "assert primera_darrera_ocurrencia([3, 5, 5, 5, 6, 6, 8, 8, 9, 9, 9], 3) == (0,0)\n",
    "assert primera_darrera_ocurrencia([3, 5, 5, 5, 6, 6, 8, 8, 9, 9, 9], 9) == (8,10)\n",
    "assert primera_darrera_ocurrencia([3, 5, 5, 5, 6, 6, 8, 8, 9, 9, 9], 4) == (-1,-1)"
   ]
  },
  {
   "cell_type": "code",
   "execution_count": null,
   "metadata": {},
   "outputs": [],
   "source": []
  },
  {
   "cell_type": "markdown",
   "metadata": {},
   "source": [
    "### 5.14 Sumatori equivalent a un valor amb llista ordenada"
   ]
  },
  {
   "cell_type": "code",
   "execution_count": 40,
   "metadata": {},
   "outputs": [],
   "source": [
    "def sumatori_parelles_ord(llista, valorSuma):\n",
    "    \"\"\"\n",
    "    Aquesta funció troba totes les parelles de nombres a la llista que sumin el valor donat.\n",
    "    \n",
    "    Parameters\n",
    "    ----------\n",
    "    llista: list\n",
    "    valorSuma: int\n",
    "    \n",
    "    Returns\n",
    "    -------\n",
    "    llistaTupes: list\n",
    "    \"\"\"\n",
    "    \n",
    "    # un membre de la parella el busquem des de l'inici\n",
    "    low = 0\n",
    "    \n",
    "    # l'altre des del final\n",
    "    high = len(llista) - 1  \n",
    "    \n",
    "    llistaTupes = []\n",
    "    while (low < high):\n",
    "        if (llista[low] + llista[high] == valorSuma):\n",
    "            llistaTupes.append((llista[low], llista[high]))\n",
    "        \n",
    "        # si suma és més petita busquem un primer membre més gran\n",
    "        if (llista[low] + llista[high] < valorSuma):\n",
    "            low += 1  \n",
    "            \n",
    "        # si suma és més gran busquem un darrer membre més petit\n",
    "        else:\n",
    "            high -= 1\n",
    "            \n",
    "    return llistaTupes"
   ]
  },
  {
   "cell_type": "code",
   "execution_count": 41,
   "metadata": {},
   "outputs": [],
   "source": [
    "assert sumatori_parelles_ord([1, 2, 3, 5, 7, 8], 10) == [(2,8),(3,7)]"
   ]
  },
  {
   "cell_type": "code",
   "execution_count": null,
   "metadata": {},
   "outputs": [],
   "source": []
  },
  {
   "cell_type": "markdown",
   "metadata": {},
   "source": [
    "### 5.15 Menor i major relatius"
   ]
  },
  {
   "cell_type": "code",
   "execution_count": 42,
   "metadata": {},
   "outputs": [],
   "source": [
    "def menor_major_relatius(nums, k):\n",
    "    \"\"\"\n",
    "    Aquesta funció troba el major i menor relatius.\n",
    "    \n",
    "    Parameters\n",
    "    ----------\n",
    "    nums: list\n",
    "    k: int\n",
    "    \n",
    "    Returns\n",
    "    -------\n",
    "    menor: int\n",
    "    major: int\n",
    "    \"\"\"\n",
    "    def min_max_rec(nums, low, high, k):\n",
    "        \n",
    "        mid = (low + high) // 2\n",
    "\n",
    "        if high - low < 1:\n",
    "            if nums[low] == k:\n",
    "                return k, k\n",
    "            \n",
    "            else:\n",
    "                if low == 0:\n",
    "                    return -1, nums[low]\n",
    "                elif low == len(nums) - 1:\n",
    "                    return nums[low], -1\n",
    "                else:\n",
    "                    if nums[low] < k:\n",
    "                        return nums[low], nums[low + 1]\n",
    "                    else:\n",
    "                        return nums[low - 1], nums[low]\n",
    "                    \n",
    "        elif nums[mid] < k:\n",
    "            return min_max_rec(nums, mid + 1, high, k)\n",
    "        \n",
    "        elif nums[mid] > k:\n",
    "            return min_max_rec(nums, low, mid - 1, k)\n",
    "        \n",
    "        else: \n",
    "            return k, k\n",
    "    \n",
    "    return min_max_rec(nums, 0, len(nums)-1, k)\n",
    "    "
   ]
  },
  {
   "cell_type": "code",
   "execution_count": 44,
   "metadata": {},
   "outputs": [],
   "source": [
    "assert menor_major_relatius([1, 4, 6, 8, 9], 3) == (1,4)\n",
    "assert menor_major_relatius([1, 4, 6, 8, 9], 4) == (4,4)\n",
    "assert menor_major_relatius([1, 4, 6, 8, 9], 5) == (4,6)\n",
    "assert menor_major_relatius([1, 4, 6, 8, 9], 10) == (9,-1)"
   ]
  },
  {
   "cell_type": "code",
   "execution_count": null,
   "metadata": {},
   "outputs": [],
   "source": []
  },
  {
   "cell_type": "markdown",
   "metadata": {},
   "source": [
    "### 5.16 Multiplicacio de polinomis"
   ]
  },
  {
   "cell_type": "code",
   "execution_count": 45,
   "metadata": {},
   "outputs": [],
   "source": [
    "def multiplicacio_polinomis(polinomi1, polinomi2):\n",
    "    \"\"\"\n",
    "    Aquesta funció multiplica dos polinomis.\n",
    "    \n",
    "    Parameters\n",
    "    ----------\n",
    "    polinomi1: tupla\n",
    "    polinomi2: tupla\n",
    "    \n",
    "    Returns\n",
    "    -------\n",
    "    multPolinomi: tupla\n",
    "    \"\"\"\n",
    "    grauPol1, grauPol2 = len(polinomi1) - 1, len(polinomi2) - 1\n",
    "    \n",
    "    # El resultat serà un polinomi de grau suma \n",
    "    multPolinomi = [0] * (grauPol1 + grauPol2 + 1) \n",
    "    \n",
    "    # Dels graus dels polinomis producte,\n",
    "    # que en particular té grau + 1 coeficients \n",
    "    for i in range(grauPol1 + 1):\n",
    "        for j in range(grauPol2 + 1):\n",
    "            multPolinomi[i+j] += polinomi1[i] * polinomi2[j]\n",
    "            \n",
    "    return multPolinomi"
   ]
  },
  {
   "cell_type": "code",
   "execution_count": 46,
   "metadata": {},
   "outputs": [],
   "source": [
    "assert multiplicacio_polinomis((1, 2, 3, 4), (4, 3, 2, 1)) == [4, 11, 20, 30, 20, 11, 4]"
   ]
  },
  {
   "cell_type": "code",
   "execution_count": null,
   "metadata": {},
   "outputs": [],
   "source": []
  },
  {
   "cell_type": "markdown",
   "metadata": {},
   "source": [
    "### 5.17 Patro binari"
   ]
  },
  {
   "cell_type": "code",
   "execution_count": 50,
   "metadata": {},
   "outputs": [],
   "source": [
    "def patro_binari(patro):\n",
    "    \"\"\"\n",
    "    Aquesta funció troba totes les possibles combinacions de nombre binaris a partir del patro.\n",
    "    \n",
    "    Parameters\n",
    "    ----------\n",
    "    patro: string\n",
    "    \n",
    "    Returns\n",
    "    -------\n",
    "    combinacions: list\n",
    "    \"\"\"\n",
    "    # conversió a llista\n",
    "    if type(patro) == str:\n",
    "        patro = list(patro)  \n",
    "        \n",
    "    if len(patro) == 1:\n",
    "        # cas base\n",
    "        return ['0','1'] if patro[0] == '?' else patro\n",
    "\n",
    "    else:\n",
    "        #ja hem fet els canvis 1->\n",
    "        combinacions = patro_binari(patro[1:])  \n",
    "        nova_llista = []\n",
    "        for elem in combinacions:\n",
    "            if patro[0] == '?':\n",
    "                nova_llista.append('0' + elem)\n",
    "                nova_llista.append('1' + elem)\n",
    "                \n",
    "            else:\n",
    "                nova_llista.append(patro[0] + elem)\n",
    "                \n",
    "        return nova_llista"
   ]
  },
  {
   "cell_type": "code",
   "execution_count": 51,
   "metadata": {},
   "outputs": [],
   "source": [
    "assert set(patro_binari('1?11?01?0?')) == set(['1011001000', '1011001001', '1011001100', '1011001101', '1011101000', '1011101001', '1011101100', '1011101101', '1111001000', '1111001001', '1111001100', '1111001101', '1111101000', '1111101001', '1111101100', '1111101101'])"
   ]
  },
  {
   "cell_type": "code",
   "execution_count": null,
   "metadata": {},
   "outputs": [],
   "source": []
  },
  {
   "cell_type": "markdown",
   "metadata": {},
   "source": [
    "### 5.18 Implementació eficient de la potència"
   ]
  },
  {
   "cell_type": "code",
   "execution_count": 52,
   "metadata": {},
   "outputs": [],
   "source": [
    "def potencia_eficient(base, exponent):\n",
    "    \"\"\"\n",
    "    Aquesta funció calcula de manera eficient el valor de la potència de x elevat a y.\n",
    "    \n",
    "    Parameters\n",
    "    ----------\n",
    "    base: int\n",
    "    exponent: int\n",
    "    \n",
    "    Returns\n",
    "    -------\n",
    "    potencia: int\n",
    "    \"\"\"\n",
    "    if exponent == 0:\n",
    "        return 1\n",
    "    \n",
    "    elif exponent == 1:\n",
    "        return base\n",
    "    \n",
    "    elif exponent%2 == 0:\n",
    "        return potencia_eficient(base * base, exponent/2)\n",
    "    \n",
    "    else:\n",
    "        #n és imparell\n",
    "        return base * potencia_eficient(base * base, (exponent-1)/2)"
   ]
  },
  {
   "cell_type": "code",
   "execution_count": 53,
   "metadata": {},
   "outputs": [],
   "source": [
    "assert potencia_eficient(2, 10) == 1024\n",
    "assert potencia_eficient(3, 4) == 81\n",
    "assert potencia_eficient(5, 0) == 1 \n",
    "assert potencia_eficient(-2, 3) == -8"
   ]
  },
  {
   "cell_type": "code",
   "execution_count": null,
   "metadata": {},
   "outputs": [],
   "source": []
  },
  {
   "cell_type": "markdown",
   "metadata": {},
   "source": [
    "### 5.19 Karatsuba"
   ]
  },
  {
   "cell_type": "code",
   "execution_count": 54,
   "metadata": {},
   "outputs": [],
   "source": [
    "def karatsuba(x,y):\n",
    "    \"\"\"\n",
    "    Aquesta funció implementa l'algorisme de multiplicació de Karatsuba de manera recursiva.\n",
    "    \n",
    "    Parameters\n",
    "    ----------\n",
    "    x: int\n",
    "    y: int\n",
    "    \n",
    "    Returns\n",
    "    -------\n",
    "    prod: int\n",
    "    \"\"\"\n",
    "    \n",
    "    # cas base\n",
    "    if x < 10 or y < 10:\n",
    "        return x*y  \n",
    "    \n",
    "    else:\n",
    "        n = max(len(str(abs(x))),len(str(abs(y))))\n",
    "        m = n // 2\n",
    "\n",
    "        a = x // 10**m     # partim x en dos nombres més petits x = a*10^m + b        \n",
    "        b = x % 10**m\n",
    "        c = y // 10**m     # partim y en dos nombres més petits y = c*10^m + d  \n",
    "        d = y % 10**m\n",
    "        \n",
    "        #Ara x*y = (a*10^m + b)(c*10^m + d) = (a*c)*10^(2*m)+(a*d+b*c)*10^m +b*d\n",
    "        \n",
    "        #Podem calcular el terme (a*d+b*c) amb nomes una multiplicacio en lloc de 2 ja que \n",
    "        #ens adonem que (a*d+b*c) = (a + b)*(c + d)− b*d − a*c , i els termes b*d y a*c els hem de calcular igualment\n",
    "        \n",
    "        #Apliquem la recursio fins a arribar a la condicio d'aturada de la recursio (x < 10 or y < 10)\n",
    "        ac = karatsuba(a, c)\n",
    "        bd = karatsuba(b, d)\n",
    "        ad_bc = karatsuba(b + a, d + c) - ac - bd\n",
    "        \n",
    "        #Finalment nomes fa falta unir les solucions\n",
    "        prod = ac * 10**(2*m) + (ad_bc * 10**m) + bd  \n",
    "        return prod"
   ]
  },
  {
   "cell_type": "code",
   "execution_count": 55,
   "metadata": {},
   "outputs": [],
   "source": [
    "assert karatsuba(1100,4050) == 4455000"
   ]
  },
  {
   "cell_type": "code",
   "execution_count": null,
   "metadata": {},
   "outputs": [],
   "source": []
  },
  {
   "cell_type": "markdown",
   "metadata": {},
   "source": [
    "### 5.20 Cerca binaria"
   ]
  },
  {
   "cell_type": "code",
   "execution_count": 69,
   "metadata": {},
   "outputs": [],
   "source": [
    "def cerca_binaria(arr, low, high, x): \n",
    "    # Check base case \n",
    "    if high >= low: \n",
    "  \n",
    "        mid = (high + low) // 2\n",
    "        # If element is present at the middle itself \n",
    "        if arr[mid] == x: \n",
    "            return True \n",
    "  \n",
    "        # If element is smaller than mid, then it can only \n",
    "        # be present in left subarray \n",
    "        elif arr[mid] > x: \n",
    "            return cerca_binaria(arr, low, mid - 1, x) \n",
    "  \n",
    "        # Else the element can only be present in right subarray \n",
    "        else: \n",
    "            return cerca_binaria(arr, mid + 1, high, x) \n",
    "    else: \n",
    "        # Element is not present in the array \n",
    "        return False"
   ]
  },
  {
   "cell_type": "code",
   "execution_count": null,
   "metadata": {},
   "outputs": [],
   "source": []
  },
  {
   "cell_type": "code",
   "execution_count": 70,
   "metadata": {},
   "outputs": [],
   "source": [
    "def cerca_binaria(arr, x): \n",
    "    low = 0\n",
    "    high = len(arr) - 1\n",
    "    mid = 0\n",
    "  \n",
    "    while low <= high: \n",
    "        mid = (high + low) // 2\n",
    "  \n",
    "        # Check if x is present at mid \n",
    "        if arr[mid] < x: \n",
    "            low = mid + 1\n",
    "  \n",
    "        # If x is greater, ignore left half \n",
    "        elif arr[mid] > x: \n",
    "            high = mid - 1\n",
    "  \n",
    "        # If x is smaller, ignore right half \n",
    "        else: \n",
    "            return True \n",
    "  \n",
    "    # If we reach here, then the element was not present \n",
    "    return False"
   ]
  },
  {
   "cell_type": "code",
   "execution_count": 71,
   "metadata": {},
   "outputs": [],
   "source": [
    "assert cerca_binaria([2, 4, 8, 13, 21, 57], 10) == False\n",
    "assert cerca_binaria([2, 4, 8, 13, 21, 57], 21) == True"
   ]
  },
  {
   "cell_type": "code",
   "execution_count": 57,
   "metadata": {},
   "outputs": [],
   "source": [
    "def cerca_quasi_ord(x, nums, low, high):\n",
    "    \"\"\"\n",
    "    Aquesta funció, donada una llista d’enters quasi-ordenada,\n",
    "    en la que un element pot estar posicionat un índex per sota o per sobre\n",
    "    de la seva posició correcta, i un valor, troba la posició d'aquest valor.\n",
    "    \n",
    "    Parameters\n",
    "    ----------\n",
    "    x : int \n",
    "        el nombre a trobar\n",
    "    nums : int \n",
    "        la llista de nums a trobar\n",
    "    low : int \n",
    "        l'índex més baix de la subllista on estem cercant ara\n",
    "    high : int \n",
    "        l'índex més alt de la subllista on estem cercant ara\n",
    "        \n",
    "    Returns\n",
    "    -------\n",
    "        posicio: int\n",
    "    \"\"\"\n",
    "    \n",
    "    if low > high:\n",
    "        return -1\n",
    "    \n",
    "    mid = (low + high) // 2\n",
    "    items = nums[mid]\n",
    "    \n",
    "    # comparem amb l'índex que tocaria\n",
    "    if items == x:  \n",
    "        return mid\n",
    "    # comparem amb l'índex inferior\n",
    "    if mid - 1 >= low and nums[mid - 1] == x:  \n",
    "        return mid-1\n",
    "    # comparem amb l'índex superior\n",
    "    if mid + 1 <= high and nums[mid + 1] == x:  \n",
    "        return mid+1\n",
    "    # movem dues posicions\n",
    "    elif x < items:\n",
    "        return cerca_quasi_ord(x, nums, low, mid-2)\n",
    "    # movem dues posicions\n",
    "    else:\n",
    "        return cerca_quasi_ord(x, nums, mid+2, high)  "
   ]
  },
  {
   "cell_type": "code",
   "execution_count": 59,
   "metadata": {},
   "outputs": [],
   "source": [
    "assert cerca_quasi_ord(x = 5, nums = [2, 1, 3, 5, 4, 7, 6, 8, 9], low = 0, high = 9) == 3"
   ]
  },
  {
   "cell_type": "code",
   "execution_count": null,
   "metadata": {},
   "outputs": [],
   "source": []
  },
  {
   "cell_type": "markdown",
   "metadata": {},
   "source": [
    "### 5.21 Estrictament creixents"
   ]
  },
  {
   "cell_type": "code",
   "execution_count": 74,
   "metadata": {},
   "outputs": [],
   "source": [
    "def estrictament_creixents(N):\n",
    "    \"\"\"\n",
    "    Aquesta funció troba tot els nombres de N dígits on aquests són estrictament creixents.\n",
    "    \n",
    "    Parameters\n",
    "    ----------\n",
    "    N: int\n",
    "    \n",
    "    Returns\n",
    "    -------\n",
    "    llista: list\n",
    "    \"\"\"\n",
    "    \n",
    "    def estrCreixRec(cadena, n, previ, llista):\n",
    "         # ja no queden dígits per calcular\n",
    "        if n == 0:  llista.append(int(cadena))\n",
    "        \n",
    "        # el modul 11 és per n=0\n",
    "        for i in range(previ + 1, (10 - n + 1) % 11):\n",
    "            # fem 10-previ crides, pels valors entre previ i 9 del dígit enèssim\n",
    "            estrCreixRec('{}{}'.format(cadena, i), n - 1, i, llista)\n",
    "\n",
    "    llista = []\n",
    "    estrCreixRec('', N, 0, llista)\n",
    "    return llista"
   ]
  },
  {
   "cell_type": "code",
   "execution_count": 75,
   "metadata": {},
   "outputs": [],
   "source": [
    "assert estrictament_creixents(8) == [12345678,  12345679,  12345689,  12345789,  12346789,  12356789,  12456789,  13456789,  23456789]"
   ]
  },
  {
   "cell_type": "code",
   "execution_count": null,
   "metadata": {},
   "outputs": [],
   "source": []
  },
  {
   "cell_type": "markdown",
   "metadata": {},
   "source": [
    "### 5.22 Ordenar llista aparellada"
   ]
  },
  {
   "cell_type": "code",
   "execution_count": 49,
   "metadata": {},
   "outputs": [],
   "source": [
    "def mergeParelles(left, right):\n",
    "    \"\"\"\n",
    "    Aquesta funció fusiona dues llistes ordenades amb una de nova, també ordenada\n",
    "    \"\"\"\n",
    "    result = []\n",
    "    i ,j = 0, 0\n",
    "    while(i < len(left) and j < len(right)):\n",
    "        if (left[i] <= right[j]):\n",
    "            result.append(left[i])\n",
    "            result.append(left[i+1])\n",
    "            i = i + 2\n",
    "        else:\n",
    "            result.append(right[j])\n",
    "            result.append(right[j+1])\n",
    "            j = j + 2\n",
    "    result += left[i:]\n",
    "    result += right[j:]\n",
    "    return result\n",
    "\n",
    "def mergesortParelles(llista):\n",
    "    \"\"\"\n",
    "    Aquesta funció va partint la llista en una banda dreta i una esquerra\n",
    "    fins que aquestes bandes tenen un element quan ho aconsegueix, \n",
    "    crida merge per fusionar ambdues bandes de manera ordenada\n",
    "    fins arribar a fusionar la llista completa original.\n",
    "    \"\"\"\n",
    "    #ja hem arribat al final\n",
    "    if len(llista) < 3:                    \n",
    "        return llista\n",
    "    \n",
    "    else:\n",
    "        middle = len(llista) // 2\n",
    "        #no hem de dividir les parelles\n",
    "        \n",
    "        if middle % 2 != 0:                \n",
    "            middle += 1\n",
    "            \n",
    "        left = mergesortParelles(llista[:middle])\n",
    "        right = mergesortParelles(llista[middle:])\n",
    "        return mergeParelles(left, right)"
   ]
  },
  {
   "cell_type": "code",
   "execution_count": 50,
   "metadata": {},
   "outputs": [
    {
     "name": "stdout",
     "output_type": "stream",
     "text": [
      "CPU times: user 0 ns, sys: 0 ns, total: 0 ns\n",
      "Wall time: 51.3 µs\n"
     ]
    },
    {
     "data": {
      "text/plain": [
       "[1, 1, 2, 2, 3, 3, 5, 5, 7, 7]"
      ]
     },
     "execution_count": 50,
     "metadata": {},
     "output_type": "execute_result"
    }
   ],
   "source": [
    "%%time\n",
    "mergesortParelles([1, 1, 7, 7, 2, 2, 3, 3, 5, 5])"
   ]
  },
  {
   "cell_type": "code",
   "execution_count": null,
   "metadata": {},
   "outputs": [],
   "source": []
  },
  {
   "cell_type": "code",
   "execution_count": 51,
   "metadata": {},
   "outputs": [],
   "source": [
    "def partitionParelles(A, first, last):\n",
    "    \"\"\"\n",
    "    Aquesta funció tria el valor mig entre l'element inicial, final i mig \n",
    "    d'una llista i l'ubica al lloc que li correspondrà quan la llista està \n",
    "    ordenada, alhora deixa a la seva esquerra valors menors i a la dreta\n",
    "    valors majors. Per tant altera A\n",
    "    A més retorna la posició de la partició\n",
    "    \"\"\"\n",
    "    mid = (first + last)\n",
    "    pivot = first\n",
    "    i = first + 2\n",
    "    j = last\n",
    "  \n",
    "    while True:\n",
    "        while i <= last-1 and A[i] <= A[pivot]: i += 2\n",
    "        while j >= first+1 and A[j] > A[pivot]: j -= 2\n",
    "        if i >= j: break\n",
    "        else:\n",
    "            #intercanviem, fem avançar i j\n",
    "            A[i], A[j-1] = A[j-1], A[i] \n",
    "            A[i+1],A[j]= A[j], A[i+1] \n",
    "            \n",
    "    A[j-1], A[pivot] = A[pivot], A[j-1]\n",
    "    #vector partit, pivot=j\n",
    "    A[j], A[pivot+1] = A[pivot+1], A[j] \n",
    "    return j\n",
    "\n",
    "\n",
    "def quick_sortParelles(A):\n",
    "    quick_sort_rParelles(A, 0, len(A)-1) #retornem la posicio anterior a la final\n",
    "\n",
    "def quick_sort_rParelles(A , first, last):\n",
    "    if last > first+2:\n",
    "        pivot = partitionParelles(A, first, last)\n",
    "        quick_sort_rParelles(A, first, pivot-2)\n",
    "        quick_sort_rParelles(A, pivot+1, last)"
   ]
  },
  {
   "cell_type": "code",
   "execution_count": 53,
   "metadata": {},
   "outputs": [
    {
     "name": "stdout",
     "output_type": "stream",
     "text": [
      "[1, 1, 2, 2, 3, 3, 5, 5, 7, 7]\n",
      "CPU times: user 0 ns, sys: 0 ns, total: 0 ns\n",
      "Wall time: 154 µs\n"
     ]
    }
   ],
   "source": [
    "%%time\n",
    "A = [1, 1, 7, 7, 2, 2, 3, 3, 5, 5]\n",
    "quick_sortParelles(A)\n",
    "print(A)"
   ]
  },
  {
   "cell_type": "code",
   "execution_count": null,
   "metadata": {},
   "outputs": [],
   "source": []
  },
  {
   "cell_type": "markdown",
   "metadata": {},
   "source": [
    "## Sumatori parcial màxim"
   ]
  },
  {
   "cell_type": "code",
   "execution_count": 78,
   "metadata": {},
   "outputs": [],
   "source": [
    "# Solució força bruta\n",
    "def sumatori_parcial_maxim_forca_bruta(llista):\n",
    "    \"\"\"\n",
    "    Aquesta funció troba el sumatori parcial (dels enters consecutius a la llista) de valor màxim.\n",
    "    \n",
    "    Parameters\n",
    "    ----------\n",
    "    llista: list\n",
    "    \n",
    "    Returns\n",
    "    -------\n",
    "    max_sum: int\n",
    "    \"\"\"\n",
    "    max_sum = 0\n",
    "    for i in range(0, len(llista)):\n",
    "        for j in range(i, len(llista)):\n",
    "            max_sum = max(max_sum, sum(llista[i:j]))\n",
    "    return(max_sum)        "
   ]
  },
  {
   "cell_type": "code",
   "execution_count": 79,
   "metadata": {},
   "outputs": [],
   "source": [
    "assert sumatori_parcial_maxim_forca_bruta([-3, 2, -1, 9, 8 , -1, -1,-1, -105]) == 18"
   ]
  },
  {
   "cell_type": "code",
   "execution_count": null,
   "metadata": {},
   "outputs": [],
   "source": []
  },
  {
   "cell_type": "code",
   "execution_count": 80,
   "metadata": {},
   "outputs": [],
   "source": [
    "# Solució dividir i vèncer\n",
    "def sumatori_parcial_divider_vencer(llista):\n",
    "    \"\"\"\n",
    "    Aquesta funció troba el sumatori parcial (dels enters consecutius a la llista) de valor màxim.\n",
    "    \n",
    "    Parameters\n",
    "    ----------\n",
    "    llista: list\n",
    "    \n",
    "    Returns\n",
    "    -------\n",
    "    max_sum: int\n",
    "    \"\"\"\n",
    "\n",
    "    def sumaMaxima(llista, inici, fi):\n",
    "        if inici == fi:\n",
    "            return llista[inici]\n",
    "        mid = (inici + fi) // 2\n",
    "        # Trobar el sumatori màxim parcial que passa pel mig,\n",
    "        # calculant primer la part esquerra i després la part dreta\n",
    "        # Part esquerra del sumatori que passa pel mig\n",
    "        maxPartEsquerra = -999\n",
    "        suma = 0\n",
    "        for i in range(mid, inici-1, -1):\n",
    "            suma += llista[i]\n",
    "            if suma > maxPartEsquerra:\n",
    "                maxPartEsquerra = suma\n",
    "        \n",
    "        # Part dreta del sumatori que passa pel mig\n",
    "        maxPartDreta = -999\n",
    "        suma = 0\n",
    "        for i in range(mid+1, fi+1):\n",
    "            suma += llista[i]\n",
    "            if suma > maxPartDreta:\n",
    "                maxPartDreta = suma\n",
    "        maxMig = maxPartEsquerra + maxPartDreta\n",
    "        \n",
    "        # Trobar el sumatori màxim parcial esquerra que no arriba al mig\n",
    "        maxEsquerra = sumaMaxima(llista, inici, mid)\n",
    "        \n",
    "        # Trobar el sumatori màxim parcial dreta que no passa pel mig\n",
    "        maxDreta = sumaMaxima(llista, mid + 1, fi)\n",
    "        return max(maxMig, maxEsquerra, maxDreta)\n",
    "    \n",
    "    return sumaMaxima(llista, 0, len(llista)-1)"
   ]
  },
  {
   "cell_type": "code",
   "execution_count": 81,
   "metadata": {},
   "outputs": [],
   "source": [
    "assert sumatori_parcial_divider_vencer([-3, 2, -1, 9, 8 , -1, -1,-1, -105]) == 18"
   ]
  },
  {
   "cell_type": "code",
   "execution_count": null,
   "metadata": {},
   "outputs": [],
   "source": []
  },
  {
   "cell_type": "code",
   "execution_count": 83,
   "metadata": {},
   "outputs": [],
   "source": [
    "# Solució Kadane\n",
    "def sumatori_parcial_kadane(llista): \n",
    "    \"\"\"\n",
    "    Aquesta funció troba el sumatori parcial (dels enters consecutius a la llista) de valor màxim.\n",
    "    \n",
    "    Parameters\n",
    "    ----------\n",
    "    llista: list\n",
    "    \n",
    "    Returns\n",
    "    -------\n",
    "    max_sum: int\n",
    "    \"\"\"\n",
    "    \n",
    "    # el màxim actual que és el que portem acumulat, però si és negatiu,\n",
    "    curr_max = llista[0]\n",
    "    # es el màxim entre el màxim que teniem i el màxim actual\n",
    "    max_sum = llista[0]  \n",
    "    \n",
    "    for i in range(1, len(llista)): \n",
    "        #si el que portem acumulat és negatiu, ho descartem\n",
    "        if curr_max < 0: curr_max = 0\n",
    "            \n",
    "        #a cada iteració calculem l'acumulat fins l'element actual\n",
    "        curr_max = curr_max + llista[i]\n",
    "        # a cada iteració guardem només el màxim global que pot ser el que teniem o l'actual\n",
    "        max_sum = max(max_sum, curr_max)\n",
    "        \n",
    "    return max_sum\n"
   ]
  },
  {
   "cell_type": "code",
   "execution_count": 84,
   "metadata": {},
   "outputs": [],
   "source": [
    "assert sumatori_parcial_kadane([-3, 2, -1, 9, 8 , -1, -1,-1, -105]) == 18"
   ]
  },
  {
   "cell_type": "code",
   "execution_count": null,
   "metadata": {},
   "outputs": [],
   "source": []
  },
  {
   "cell_type": "markdown",
   "metadata": {},
   "source": [
    "### 5.24 Xifres i lletres"
   ]
  },
  {
   "cell_type": "code",
   "execution_count": 85,
   "metadata": {},
   "outputs": [],
   "source": [
    "# Ordenació per selecció\n",
    "def xifres_lletres_ord_sel(llista):\n",
    "    \"\"\"\n",
    "    Aquesta funció modifica la llista separant lletres i xifres\n",
    "    \n",
    "    Parameters\n",
    "    ----------\n",
    "    llista: list\n",
    "    \n",
    "    Returns\n",
    "    -------\n",
    "    None\n",
    "    \n",
    "    \"\"\"\n",
    "    length = len(llista)\n",
    "    for i in range(0, length):\n",
    "        min_aux = i\n",
    "        for j in range (i+1, length):\n",
    "            if llista[j] < llista[min_aux]:\n",
    "                min_aux = j\n",
    "        llista[i], llista[min_aux] = llista[min_aux], llista[i]"
   ]
  },
  {
   "cell_type": "code",
   "execution_count": 90,
   "metadata": {},
   "outputs": [
    {
     "data": {
      "text/plain": [
       "['456', '789', '870', '123', 'tzu', 'abc', 'zzz']"
      ]
     },
     "execution_count": 90,
     "metadata": {},
     "output_type": "execute_result"
    }
   ],
   "source": [
    "llista = [\"456\",\"789\",\"abc\",\"123\",\"tzu\",\"870\",\"zzz\"]\n",
    "xifres_lletres_ord_QS(llista)\n",
    "llista"
   ]
  },
  {
   "cell_type": "code",
   "execution_count": null,
   "metadata": {},
   "outputs": [],
   "source": []
  },
  {
   "cell_type": "code",
   "execution_count": 88,
   "metadata": {},
   "outputs": [],
   "source": [
    "# quicksort lineal\n",
    "def xifres_lletres_ord_QS(llista):\n",
    "    \"\"\"\n",
    "    Aquesta funció modifica la llista separant lletres i xifres\n",
    "    \n",
    "    Parameters\n",
    "    ----------\n",
    "    llista: list\n",
    "    \n",
    "    Returns\n",
    "    -------\n",
    "    None\n",
    "    \n",
    "    \"\"\"\n",
    "        \n",
    "    j = length = len(llista) - 1\n",
    "    i = 0\n",
    "    while i < j:\n",
    "        \n",
    "        while i < length and not(llista[i].isalpha()): i += 1\n",
    "        while j > 0 and llista[j].isalpha(): j -= 1\n",
    "            \n",
    "        if i < j:\n",
    "            llista[i], llista[j] = llista[j], llista[i]\n",
    "    return i"
   ]
  },
  {
   "cell_type": "code",
   "execution_count": 89,
   "metadata": {},
   "outputs": [
    {
     "data": {
      "text/plain": [
       "['456', '789', '870', '123', 'tzu', 'abc', 'zzz']"
      ]
     },
     "execution_count": 89,
     "metadata": {},
     "output_type": "execute_result"
    }
   ],
   "source": [
    "llista = [\"456\",\"789\",\"abc\",\"123\",\"tzu\",\"870\",\"zzz\"]\n",
    "xifres_lletres_ord_QS(llista)\n",
    "llista"
   ]
  },
  {
   "cell_type": "code",
   "execution_count": null,
   "metadata": {},
   "outputs": [],
   "source": []
  },
  {
   "cell_type": "markdown",
   "metadata": {},
   "source": [
    "## Quantes vagades apareix una cadena com a subq"
   ]
  },
  {
   "cell_type": "code",
   "execution_count": 13,
   "metadata": {},
   "outputs": [],
   "source": [
    "def comptarSubsequencia(paraula, cadena, diccSolucions = {}):\n",
    "    \"\"\"\n",
    "    Aquesta funció determina quantes vegades apareix una cadena en una paraula\n",
    "    com a subseqüència\n",
    "    \n",
    "    Parameters\n",
    "    ----------\n",
    "    paraula: string\n",
    "        paraula en la que buscar la cadena\n",
    "    cadena: string\n",
    "        cadena a buscar\n",
    "    diccSolucions: dict    \n",
    "    \n",
    "    Returns\n",
    "    -------\n",
    "    num: int\n",
    "        nombre de vegades que apareix\n",
    "    \"\"\"\n",
    "    \n",
    "    clau = '{}|{}'.format(paraula, cadena)\n",
    "    if not(clau) in diccSolucions:\n",
    "        longparaula = len(paraula)\n",
    "        longcadena = len(cadena)\n",
    "        \n",
    "        # hem trobat la subseqüència\n",
    "        if longcadena == 0:  \n",
    "            diccSolucions[clau] = 1\n",
    "        \n",
    "        # la paraula s'ha acabat i no hem trobat res\n",
    "        elif longparaula == 0:  \n",
    "            diccSolucions[clau] = 0\n",
    "        \n",
    "        # comparem el caràcter\n",
    "        elif longparaula == 1 and longcadena == 1: \n",
    "            if paraula[-1] == cadena[-1]:\n",
    "                diccSolucions[clau] = 1\n",
    "            else:\n",
    "                diccSolucions[clau] = 0\n",
    "        \n",
    "        # la paraula no pot contenir el patró\n",
    "        elif longparaula < longcadena:  \n",
    "            diccSolucions[clau] = 0\n",
    "            \n",
    "        elif paraula[-1] == cadena[-1]:\n",
    "            diccSolucions[clau] = \\\n",
    "                comptarCadenaOpt( paraula[0:-1], cadena[0:-1], diccSolucions) \\\n",
    "                + comptarCadenaOpt( paraula[0:-1], cadena, diccSolucions)\n",
    "        \n",
    "        else:\n",
    "            diccSolucions[clau] = comptarCadenaOpt(paraula[0:-1], cadena, diccSolucions)\n",
    "    return diccSolucions[clau]"
   ]
  },
  {
   "cell_type": "code",
   "execution_count": 14,
   "metadata": {},
   "outputs": [],
   "source": [
    "assert comptarSubsequencia(\"subsequencia\",\"sue\") == 4"
   ]
  },
  {
   "cell_type": "code",
   "execution_count": null,
   "metadata": {},
   "outputs": [],
   "source": []
  }
 ],
 "metadata": {
  "kernelspec": {
   "display_name": "Python 3",
   "language": "python",
   "name": "python3"
  },
  "language_info": {
   "codemirror_mode": {
    "name": "ipython",
    "version": 3
   },
   "file_extension": ".py",
   "mimetype": "text/x-python",
   "name": "python",
   "nbconvert_exporter": "python",
   "pygments_lexer": "ipython3",
   "version": "3.7.6"
  }
 },
 "nbformat": 4,
 "nbformat_minor": 2
}
