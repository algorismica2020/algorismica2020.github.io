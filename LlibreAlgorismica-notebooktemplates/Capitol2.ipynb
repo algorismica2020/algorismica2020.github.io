{
 "cells": [
  {
   "cell_type": "markdown",
   "metadata": {},
   "source": [
    "# Capítol 2 - Algorismes bàsics de Python"
   ]
  },
  {
   "cell_type": "markdown",
   "metadata": {},
   "source": [
    "### 2.1 Celsius2Fahrenheit"
   ]
  },
  {
   "cell_type": "code",
   "execution_count": 1,
   "metadata": {},
   "outputs": [],
   "source": [
    "def convertTemp(tempCelsius):\n",
    "    \"\"\"\n",
    "    Aquest programa calcula la conversió de Celsius que entra per paràmetre en Farenheit.\n",
    "    \n",
    "    Parameters\n",
    "    ----------\n",
    "    tempCelsius: float\n",
    "        Graus en Celsius\n",
    "    \n",
    "    Returns\n",
    "    -------\n",
    "    tempFahrenheit: float\n",
    "        Graus en Farenheit\n",
    "    \"\"\"  \n",
    "\n",
    "    return 9.0 / 5.0 * tempCelsius + 32"
   ]
  },
  {
   "cell_type": "code",
   "execution_count": 2,
   "metadata": {},
   "outputs": [],
   "source": [
    "assert convertTemp(0) == 32.\n",
    "assert convertTemp(5) == 41.\n",
    "assert convertTemp(10) == 50.\n",
    "assert convertTemp(-5) == 23.\n",
    "assert convertTemp(-10) == 14."
   ]
  },
  {
   "cell_type": "code",
   "execution_count": 3,
   "metadata": {},
   "outputs": [],
   "source": [
    "def convert0a50():\n",
    "    \"\"\"\n",
    "    Aquest programa calcula la conversió de Celsius a Fahrenheit \n",
    "    cada 5 graus de 0 a 50ºC.\n",
    "    \n",
    "    Parameters\n",
    "    ----------\n",
    "    None\n",
    "    \n",
    "    Returns\n",
    "    -------\n",
    "    tempFahrenheit: list\n",
    "        Llista amb els graus en Farenheit\n",
    "    \"\"\" \n",
    "    \n",
    "    return [convertTemp(temp) for temp in range(0, 51, 5)]"
   ]
  },
  {
   "cell_type": "code",
   "execution_count": 4,
   "metadata": {},
   "outputs": [],
   "source": [
    "def convert0a50():\n",
    "    \"\"\"\n",
    "    Aquest programa calcula la conversió de Celsius a Fahrenheit \n",
    "    cada 5 graus de 0 a 50ºC.\n",
    "    \n",
    "    Parameters\n",
    "    ----------\n",
    "    None\n",
    "    \n",
    "    Returns\n",
    "    -------\n",
    "    tempFahrenheit: list\n",
    "        Llista amb els graus en Farenheit\n",
    "    \"\"\" \n",
    "    temperatures = []\n",
    "    for temp in range(0, 51, 5):\n",
    "        temperatures.append(convertTemp(temp))\n",
    "\n",
    "    return temperatures"
   ]
  },
  {
   "cell_type": "code",
   "execution_count": 5,
   "metadata": {},
   "outputs": [],
   "source": [
    "assert convert0a50() == [32.0, 41.0, 50.0, 59.0, 68.0, 77.0, 86.0, 95.0, 104.0, 113.0, 122.0]"
   ]
  },
  {
   "cell_type": "code",
   "execution_count": null,
   "metadata": {},
   "outputs": [],
   "source": []
  },
  {
   "cell_type": "markdown",
   "metadata": {},
   "source": [
    "### 2.2 Inversió econòmica"
   ]
  },
  {
   "cell_type": "code",
   "execution_count": 6,
   "metadata": {},
   "outputs": [],
   "source": [
    "def futval(inversio, interes):\n",
    "    principal = inversio\n",
    "    for i in range(10):\n",
    "        principal = principal * (1 + interes)\n",
    "    return principal"
   ]
  },
  {
   "cell_type": "code",
   "execution_count": 7,
   "metadata": {},
   "outputs": [],
   "source": [
    "def futval2(inicial, anys, interesPerCent, comissioPerCent):\n",
    "    \"\"\"\n",
    "    Aquest programa calcula el valor d'una inversió \n",
    "    \n",
    "    Parameters\n",
    "    ----------\n",
    "    inicial: float\n",
    "        Inversio inicial\n",
    "    anys: int\n",
    "        Nombre d'anys\n",
    "    interesPerCent: float\n",
    "        Interes anual en decimal\n",
    "    comissioPerCent: float\n",
    "        Comissio del banc\n",
    "        \n",
    "    Returns\n",
    "    -------\n",
    "    diners: float\n",
    "    \"\"\"\n",
    "\n",
    "    for i in range(anys):\n",
    "        inicial = inicial * (1 + interesPerCent)\n",
    "        \n",
    "    return inicial - inicial * comissioPerCent"
   ]
  },
  {
   "cell_type": "code",
   "execution_count": 8,
   "metadata": {},
   "outputs": [],
   "source": [
    "assert abs(futval2(200,10,0.8,0.3) - 49986.54) < 0.1\n",
    "assert abs(futval2(100,20,0.8,0.3) - 8923765.35) < 0.1\n",
    "assert abs(futval2(100,10,0.6,0.3) -  7696.58) < 0.1\n",
    "assert abs(futval2(100,10,0.8,0.5) - 17852.33) < 0.1"
   ]
  },
  {
   "cell_type": "code",
   "execution_count": null,
   "metadata": {},
   "outputs": [],
   "source": []
  },
  {
   "cell_type": "markdown",
   "metadata": {},
   "source": [
    "### 2.3 Condicionals"
   ]
  },
  {
   "cell_type": "code",
   "execution_count": 9,
   "metadata": {},
   "outputs": [],
   "source": [
    "def prou_cerveses(numCerveses, esCapDeSetmana):\n",
    "    \"\"\"\n",
    "    Aquest programa prediu com anirà la festa en funció de les cerveses.\n",
    "    \n",
    "    Parameters\n",
    "    ----------\n",
    "    numCerveses: int\n",
    "    esCapDeSetmana: bool\n",
    "       \n",
    "    Returns\n",
    "    -------\n",
    "    None\n",
    "    \"\"\"\n",
    "        \n",
    "    if numCerveses < 50:\n",
    "        return 'Fracàs'\n",
    "    elif esCapDeSetmana or numCerveses <= 100:\n",
    "        return 'Éxit'\n",
    "    else:\n",
    "        return 'Fracàs'"
   ]
  },
  {
   "cell_type": "code",
   "execution_count": 10,
   "metadata": {},
   "outputs": [],
   "source": [
    "assert prou_cerveses(75, False) == 'Éxit'\n",
    "assert prou_cerveses(75, False) == 'Éxit'\n",
    "assert prou_cerveses(125, False) == 'Fracàs'\n",
    "assert prou_cerveses(125, True) == 'Éxit'\n",
    "assert prou_cerveses(25, False) == 'Fracàs'\n",
    "assert prou_cerveses(25, True) == 'Fracàs'"
   ]
  },
  {
   "cell_type": "code",
   "execution_count": 11,
   "metadata": {},
   "outputs": [],
   "source": [
    "def nota(num):\n",
    "    \"\"\"\n",
    "    Aquesta funció retorna la qualificació d'un alumne.\n",
    "    \n",
    "    Parameters\n",
    "    ----------\n",
    "    num: float\n",
    "       \n",
    "    Returns\n",
    "    -------\n",
    "    qualificació: string\n",
    "    \"\"\"\n",
    "    if num < 5: qualificacio = 'Suspès'\n",
    "    \n",
    "    elif num < 7: qualificacio = 'Aprovat'\n",
    "    \n",
    "    elif num < 9: qualificacio = 'Notable'\n",
    "    \n",
    "    elif num < 10: qualificacio = 'Excel·lent'\n",
    "    \n",
    "    else: qualificacio = 'Matrícula d\\'honor'\n",
    "\n",
    "    return qualificacio"
   ]
  },
  {
   "cell_type": "code",
   "execution_count": 12,
   "metadata": {},
   "outputs": [],
   "source": [
    "assert nota(0.9) == 'Suspès'\n",
    "assert nota(5.9) == 'Aprovat'\n",
    "assert nota(7.9) == 'Notable'\n",
    "assert nota(9.9) == 'Excel·lent'\n",
    "assert nota(10) == 'Matrícula d\\'honor'"
   ]
  },
  {
   "cell_type": "code",
   "execution_count": null,
   "metadata": {},
   "outputs": [],
   "source": []
  },
  {
   "cell_type": "markdown",
   "metadata": {},
   "source": [
    "### 2.4 Pendent Recta"
   ]
  },
  {
   "cell_type": "code",
   "execution_count": 13,
   "metadata": {},
   "outputs": [],
   "source": [
    "def pendent(x1,y1,x2,y2):\n",
    "    \"\"\"\n",
    "    Aquest programa calcula la pendent d'una recta donats dos punts\n",
    "    \n",
    "    Parameters\n",
    "    ----------\n",
    "    x1, y1: float, float\n",
    "        Primer punt\n",
    "    x2, y2: float, float\n",
    "        Segon punt\n",
    "    \n",
    "    Returns\n",
    "    -------\n",
    "    m: float\n",
    "        Pendent\n",
    "    \"\"\"\n",
    "    if x2 - x1 == 0:\n",
    "        print (\"Aquesta recta té un pendent infinit\")\n",
    "        return float('inf')\n",
    "    else:\n",
    "        m = (y2-y1) / (x2-x1)\n",
    "        return m"
   ]
  },
  {
   "cell_type": "code",
   "execution_count": 14,
   "metadata": {},
   "outputs": [
    {
     "name": "stdout",
     "output_type": "stream",
     "text": [
      "Aquesta recta té un pendent infinit\n"
     ]
    }
   ],
   "source": [
    "assert pendent(1,1,4,4) == 1\n",
    "assert pendent(4,5,2,9) == -2\n",
    "assert pendent(1,0,4,0) == 0.\n",
    "assert pendent(0,5,0,9) == float('inf')"
   ]
  },
  {
   "cell_type": "code",
   "execution_count": 15,
   "metadata": {},
   "outputs": [],
   "source": [
    "def equacio(x1,y1, x2,y2):\n",
    "    \"\"\"\n",
    "    Aquest programa calcula l'equació de la recta que pasa per dos punts.\n",
    "    \n",
    "    Parameters\n",
    "    ----------\n",
    "    x1, y1: float, float\n",
    "        Primer punt\n",
    "    x2, y2: float, float\n",
    "        Segon punt\n",
    "    \n",
    "    Returns\n",
    "    -------\n",
    "    equacio: string\n",
    "        Equació de la recta\n",
    "    \"\"\"\n",
    "    m = pendent(x1,y1, x2,y2)\n",
    "    if m == float('inf'):\n",
    "        return 'Asimptota en x = {}'.format(x1)\n",
    "    n = y1 - m * x1\n",
    "    return 'y = {} * x + {}'.format(m, n)"
   ]
  },
  {
   "cell_type": "code",
   "execution_count": 16,
   "metadata": {},
   "outputs": [],
   "source": [
    "assert equacio(1,1,4,4) == 'y = 1.0 * x + 0.0'\n",
    "assert equacio(4,5,2,9) == 'y = -2.0 * x + 13.0'\n",
    "assert equacio(-1,-3,3,5) == 'y = 2.0 * x + -1.0'"
   ]
  },
  {
   "cell_type": "code",
   "execution_count": null,
   "metadata": {},
   "outputs": [],
   "source": []
  },
  {
   "cell_type": "markdown",
   "metadata": {},
   "source": [
    "### 2.5 Capicua"
   ]
  },
  {
   "cell_type": "code",
   "execution_count": 17,
   "metadata": {},
   "outputs": [],
   "source": [
    "def es_capicua(paraula):\n",
    "    \"\"\"\n",
    "    Aquesta funció determina si una paraula és capicua.\n",
    "    \n",
    "    Parameters\n",
    "    ----------\n",
    "    paraula: string\n",
    "        La paraula a determinar\n",
    "    \n",
    "    Returns\n",
    "    -------\n",
    "    b: bool\n",
    "        true si la paraula és capicua, false altrament\n",
    "    \"\"\"    \n",
    "    \n",
    "    return paraula == paraula[::-1]"
   ]
  },
  {
   "cell_type": "code",
   "execution_count": 18,
   "metadata": {},
   "outputs": [],
   "source": [
    "assert es_capicua(\"llull\") == True\n",
    "assert es_capicua(\"llullu\") == False"
   ]
  },
  {
   "cell_type": "code",
   "execution_count": 19,
   "metadata": {},
   "outputs": [],
   "source": [
    "def es_capicua_rotacions(paraula): \n",
    "    \"\"\"\n",
    "    Aquesta funció determina si una paraula és capicua aplicant rotacions.\n",
    "    \n",
    "    Parameters\n",
    "    ----------\n",
    "    paraula: string\n",
    "        La paraula a determinar\n",
    "    \n",
    "    Returns\n",
    "    -------\n",
    "    b: bool\n",
    "        true si la paraula és capicua, false altrament\n",
    "    \"\"\"   \n",
    "    i, j = 0, len(paraula)\n",
    "    trobada = False\n",
    "    paraulanova = paraula + paraula\n",
    "\n",
    "    while i <= j and not(trobada):\n",
    "        trobada = es_capicua(paraulanova[i:i+j]) \n",
    "        i += 1\n",
    "        \n",
    "    if trobada:\n",
    "        print(f\"La paraula {paraula} és capicua rotada\", end=\"\")\n",
    "        print(f\" perquè {paraulanova[i-1:i+j-1]} és capicua\")\n",
    "        \n",
    "    else:\n",
    "        print(f\"La paraula {paraula} no és capicua rotada\")\n",
    "    \n",
    "    return trobada"
   ]
  },
  {
   "cell_type": "code",
   "execution_count": 20,
   "metadata": {},
   "outputs": [
    {
     "name": "stdout",
     "output_type": "stream",
     "text": [
      "La paraula BAABCC és capicua rotada perquè ABCCBA és capicua\n"
     ]
    }
   ],
   "source": [
    "assert es_capicua_rotacions(\"BAABCC\") == True"
   ]
  },
  {
   "cell_type": "code",
   "execution_count": null,
   "metadata": {},
   "outputs": [],
   "source": []
  },
  {
   "cell_type": "markdown",
   "metadata": {},
   "source": [
    "### 2.6 Palindrom"
   ]
  },
  {
   "cell_type": "code",
   "execution_count": 21,
   "metadata": {},
   "outputs": [],
   "source": [
    "import itertools\n",
    "\n",
    "def generar_palindroms(cadena):\n",
    "    \"\"\"\n",
    "    Aquesta funció crea tots els palíndroms possibles amb les lletres de la cadena donada.\n",
    "    \n",
    "    Parameters\n",
    "    ----------\n",
    "    cadena: string\n",
    "        La cadena donada\n",
    "    \n",
    "    Returns\n",
    "    -------\n",
    "    None\n",
    "    \"\"\"  \n",
    "    # comptem quantes vegades apareix cada lletra diferent\n",
    "    diccfreq = {}\n",
    "    for i in cadena:\n",
    "        if i in diccfreq:\n",
    "            diccfreq[i] += 1\n",
    "        else:\n",
    "            diccfreq[i] = 1\n",
    "            \n",
    "    lletresambfreqsenar = 0\n",
    "    # totes les lletres llevat d'una han d'aparèixer\n",
    "    # un nombre parell de vegades\n",
    "    cadenabase = ''\n",
    "    \n",
    "    # aquesta cadena contindrà les lletres d'un dels costats del palíndrom\n",
    "    # si hi ha una lletra única la guardem aquí\n",
    "    lletramig = ''  \n",
    "    for i in diccfreq:\n",
    "        if diccfreq[i] % 2 != 0:\n",
    "            lletresambfreqsenar += 1\n",
    "            lletramig = i\n",
    "        else:\n",
    "            for j in range(0, diccfreq[i]//2):\n",
    "                # ha d'apareixer la meitat de vegades\n",
    "                cadenabase = cadenabase + i\n",
    "                \n",
    "    \n",
    "    if lletresambfreqsenar > 1:\n",
    "        # si n'hi ha més d'una no es pot fer un palíndrom\n",
    "        print(\"No es poden crear palíndroms amb aquestes lletres\")\n",
    "        return 0\n",
    "\n",
    "    \n",
    "    if lletramig in diccfreq and diccfreq[lletramig] > 1:\n",
    "        for j in range(0, diccfreq[lletramig] // 2):\n",
    "            # aquesta lletra també haurà d'aparèixer als costats\n",
    "            cadenabase = cadenabase + i\n",
    "                \n",
    "    for bandaesquerra in itertools.permutations(cadenabase):\n",
    "        cadenabandaesquerra = (''.join(bandaesquerra))\n",
    "        # amb ::-1 invertim la cadena\n",
    "        print(cadenabandaesquerra+lletramig+cadenabandaesquerra[::-1])\n",
    "        "
   ]
  },
  {
   "cell_type": "code",
   "execution_count": 22,
   "metadata": {},
   "outputs": [
    {
     "name": "stdout",
     "output_type": "stream",
     "text": [
      "arjra\n",
      "rajar\n",
      "anna\n",
      "naan\n",
      "abtba\n",
      "batab\n"
     ]
    }
   ],
   "source": [
    "generar_palindroms('aarrj')\n",
    "generar_palindroms('aann')\n",
    "generar_palindroms('aabtb')"
   ]
  },
  {
   "cell_type": "code",
   "execution_count": null,
   "metadata": {},
   "outputs": [],
   "source": []
  },
  {
   "cell_type": "markdown",
   "metadata": {},
   "source": [
    "### 2.7 Divisors"
   ]
  },
  {
   "cell_type": "code",
   "execution_count": 23,
   "metadata": {},
   "outputs": [],
   "source": [
    "def divisors(num):\n",
    "    \"\"\"\n",
    "    Aquesta funció retorna la llista amb els seus divisors\n",
    "    \n",
    "    Parameters\n",
    "    ----------\n",
    "    num: int\n",
    "    \n",
    "    Returns\n",
    "    -------\n",
    "    divisors: list\n",
    "    \"\"\"\n",
    "    llista_divisors = []\n",
    "    for divisor in range (1, num + 1):\n",
    "        if num % divisor == 0:\n",
    "            llista_divisors.append(divisor)\n",
    "    return llista_divisors"
   ]
  },
  {
   "cell_type": "code",
   "execution_count": 24,
   "metadata": {},
   "outputs": [],
   "source": [
    "assert divisors(8) == [1,2,4,8]\n",
    "assert divisors(5) == [1,5]\n",
    "assert divisors(210) == [1, 2, 3, 5, 6, 7, 10, 14, 15, 21, 30, 35, 42, 70, 105, 210]"
   ]
  },
  {
   "cell_type": "code",
   "execution_count": null,
   "metadata": {},
   "outputs": [],
   "source": []
  },
  {
   "cell_type": "markdown",
   "metadata": {},
   "source": [
    "### 2.8 Factorial menor que un nombre"
   ]
  },
  {
   "cell_type": "code",
   "execution_count": 25,
   "metadata": {},
   "outputs": [],
   "source": [
    "def factorial_menor(num):\n",
    "    \"\"\"\n",
    "    Aquesta funció calcula tots els factorials menors a un nombre\n",
    "    \n",
    "    Parameters\n",
    "    ----------\n",
    "    num: int\n",
    "    \n",
    "    Returns\n",
    "    -------\n",
    "    factorials: list\n",
    "    \"\"\"\n",
    "    \n",
    "    result = 1\n",
    "    i = 0\n",
    "    factorials = []\n",
    "    while result < num:\n",
    "        factorials.append(result)\n",
    "        i += 1\n",
    "        result = result * i  #el càlcul al final perquè si no la condició no aplicaria\n",
    "    return factorials[1:]"
   ]
  },
  {
   "cell_type": "code",
   "execution_count": 26,
   "metadata": {},
   "outputs": [],
   "source": [
    "assert factorial_menor(20) == [1, 2, 6]\n",
    "assert factorial_menor(50) == [1, 2, 6, 24]"
   ]
  },
  {
   "cell_type": "code",
   "execution_count": null,
   "metadata": {},
   "outputs": [],
   "source": []
  },
  {
   "cell_type": "markdown",
   "metadata": {},
   "source": [
    "### 2.9 Min max"
   ]
  },
  {
   "cell_type": "code",
   "execution_count": 27,
   "metadata": {},
   "outputs": [],
   "source": [
    "def minim_maxim(llista):\n",
    "    \"\"\"\n",
    "    Aquesta funció troba el valor mínim i el valor màxim.\n",
    "    \n",
    "    Parameters\n",
    "    ----------\n",
    "    llista: list\n",
    "        La llista d'enters\n",
    "    \n",
    "    Returns\n",
    "    -------\n",
    "    min, max: int, int\n",
    "        Els valors mínim i màxim dins la llista\n",
    "    \"\"\"\n",
    "    \n",
    "    _min = _max = llista[0]\n",
    "    \n",
    "    # Comparació del bucle\n",
    "    for i in range(0, len(llista)):\n",
    "        \n",
    "        # 1 comparació\n",
    "        if llista[i] < _min:          \n",
    "            _min = llista[i]\n",
    "        \n",
    "        # 2 comparació\n",
    "        if llista[i] > _max:          \n",
    "            _max = llista[i]\n",
    "    return _min, _max"
   ]
  },
  {
   "cell_type": "code",
   "execution_count": 28,
   "metadata": {},
   "outputs": [],
   "source": [
    "assert minim_maxim([3, 1, 5, 2, 7, 8]) == (1, 8)\n",
    "assert minim_maxim([1, 7, 4, 6, 8, -2, 9, 5]) == (-2, 9)"
   ]
  },
  {
   "cell_type": "code",
   "execution_count": null,
   "metadata": {},
   "outputs": [],
   "source": []
  },
  {
   "cell_type": "markdown",
   "metadata": {},
   "source": [
    "### 2.10 Sumatori de Parelles"
   ]
  },
  {
   "cell_type": "code",
   "execution_count": 29,
   "metadata": {},
   "outputs": [],
   "source": [
    "def sumatori_parelles(llista, valorSuma):\n",
    "    \"\"\"\n",
    "    Aquesta funció trobat totes les parelles de nombres que sumin el valor.\n",
    "    \n",
    "    Parameters\n",
    "    ----------\n",
    "    llista: list\n",
    "        La llista d'enters\n",
    "    valorSuma: int\n",
    "        valor que \n",
    "    \n",
    "    Returns\n",
    "    -------\n",
    "    min, max: int, int\n",
    "        Els valors mínim i màxim dins la llista\n",
    "    \n",
    "    \"\"\"\n",
    "    llista.sort()  \n",
    "\n",
    "    parelles = []\n",
    "    comptadorDavant = 0\n",
    "    comptadorDarrera = len(llista) - 1\n",
    "\n",
    "    while comptadorDavant < comptadorDarrera:\n",
    "\n",
    "        if llista[comptadorDavant] + llista[comptadorDarrera] < valorSuma: \n",
    "            comptadorDavant += 1\n",
    "\n",
    "        elif llista[comptadorDavant] + llista[comptadorDarrera] == valorSuma:\n",
    "            parelles.append((llista[comptadorDavant], llista[comptadorDarrera])) \n",
    "            comptadorDavant += 1  \n",
    "            comptadorDarrera -= 1 \n",
    "\n",
    "        else:\n",
    "            comptadorDarrera -=1 \n",
    "\n",
    "    return parelles   "
   ]
  },
  {
   "cell_type": "code",
   "execution_count": 30,
   "metadata": {},
   "outputs": [],
   "source": [
    "assert sumatori_parelles([3, 1, 5, 2, 7, 8], 10)  == [(2, 8), (3, 7)]\n",
    "assert sumatori_parelles([4,12,7,6,1,3,2,9,11,5,8,20,13,0,14],20) == [(0, 20), (6, 14), (7, 13), (8, 12), (9, 11)]"
   ]
  },
  {
   "cell_type": "code",
   "execution_count": null,
   "metadata": {},
   "outputs": [],
   "source": []
  },
  {
   "cell_type": "markdown",
   "metadata": {},
   "source": [
    "### 2.11 Suma quadrats"
   ]
  },
  {
   "cell_type": "code",
   "execution_count": 31,
   "metadata": {},
   "outputs": [],
   "source": [
    "def suma_quadrats(n = 100):\n",
    "    \"\"\"\n",
    "    Aquesta funció calcula la diferencia entre la suma dels quadrats i els quadrat de la suma.\n",
    "    \n",
    "    Parameters\n",
    "    ----------\n",
    "    n: int\n",
    "    \n",
    "    Returns\n",
    "    -------\n",
    "    diff: int\n",
    "    \"\"\"\n",
    "    \n",
    "    sumSquares = sum([i for i in range(1, n+1)]) ** 2\n",
    "    squaresSum = sum([i ** 2 for i  in range(1, n+1)])\n",
    "    return (sumSquares - squaresSum)"
   ]
  },
  {
   "cell_type": "code",
   "execution_count": 32,
   "metadata": {},
   "outputs": [],
   "source": [
    "def suma_quadrats(n = 100):\n",
    "    \"\"\"\n",
    "    Aquesta funció calcula la diferencia entre la suma dels quadrats i els quadrat de la suma.\n",
    "    \n",
    "    Parameters\n",
    "    ----------\n",
    "    n: int\n",
    "    \n",
    "    Returns\n",
    "    -------\n",
    "    diff: int\n",
    "    \"\"\"\n",
    "    \n",
    "    sumSquares = 0\n",
    "    for i in range(1, n + 1):\n",
    "        sumSquares += i\n",
    "\n",
    "    sumSquares = sumSquares ** 2\n",
    "    \n",
    "    squaresSum = 0\n",
    "    for i  in range(1, n+1):\n",
    "        squaresSum += i ** 2\n",
    "        \n",
    "    return (sumSquares - squaresSum)"
   ]
  },
  {
   "cell_type": "code",
   "execution_count": 33,
   "metadata": {},
   "outputs": [],
   "source": [
    "def suma_quadrats_lineal(n = 100):\n",
    "    \"\"\"\n",
    "    Aquesta funció calcula la diferencia entre la suma dels quadrats i els quadrat de la suma.\n",
    "    \n",
    "    Parameters\n",
    "    ----------\n",
    "    n: int\n",
    "    \n",
    "    Returns\n",
    "    -------\n",
    "    diff: int\n",
    "    \"\"\"\n",
    "    suma_quadrats = 0\n",
    "    quadrats_suma = 0\n",
    "    \n",
    "    for i in range(1, n+1):\n",
    "        suma_quadrats += i**2\n",
    "        quadrats_suma += i\n",
    "    \n",
    "    quadrats_suma = quadrats_suma**2\n",
    "    \n",
    "    return quadrats_suma - suma_quadrats "
   ]
  },
  {
   "cell_type": "code",
   "execution_count": 34,
   "metadata": {},
   "outputs": [],
   "source": [
    "assert suma_quadrats() == 25164150\n",
    "assert suma_quadrats_lineal() == 25164150"
   ]
  },
  {
   "cell_type": "code",
   "execution_count": null,
   "metadata": {},
   "outputs": [],
   "source": []
  },
  {
   "cell_type": "markdown",
   "metadata": {},
   "source": [
    "### 2.12 Nombres amics"
   ]
  },
  {
   "cell_type": "code",
   "execution_count": 35,
   "metadata": {},
   "outputs": [],
   "source": [
    "def amics(num1, num2):\n",
    "    \"\"\"\n",
    "    Aquesta funció comprova si dos nombres són amics.\n",
    "    \n",
    "    Parameters\n",
    "    ----------\n",
    "    num1: int\n",
    "        El primer número\n",
    "    num2: int\n",
    "        El segon números\n",
    "    \n",
    "    Returns\n",
    "    -------\n",
    "    b: bool\n",
    "        Si la parella de nombres d'entrada són amics    \n",
    "    \"\"\"\n",
    "    def suma_divisors(num):\n",
    "        suma = 0\n",
    "        for div in range(1,num):  \n",
    "            if num%div == 0:      \n",
    "                suma = suma + div\n",
    "        return suma\n",
    "    \n",
    "    suma1 = suma_divisors(num1)\n",
    "    suma2 = suma_divisors(num2)\n",
    "\n",
    "    return (suma2 == num1) and (suma1 == num2)"
   ]
  },
  {
   "cell_type": "code",
   "execution_count": 36,
   "metadata": {},
   "outputs": [],
   "source": [
    "assert amics(220, 284) == True\n",
    "assert amics(200, 230) == False\n",
    "assert amics(9363584, 9437056) == True"
   ]
  },
  {
   "cell_type": "code",
   "execution_count": null,
   "metadata": {},
   "outputs": [],
   "source": []
  },
  {
   "cell_type": "markdown",
   "metadata": {},
   "source": [
    "### 2.13  Nombres perfectes"
   ]
  },
  {
   "cell_type": "code",
   "execution_count": 37,
   "metadata": {},
   "outputs": [],
   "source": [
    "def perfecte(num):\n",
    "    \"\"\"\n",
    "    Aquesta funció comprova si un nombre es perfecte.\n",
    "    \n",
    "    Parameters\n",
    "    ----------\n",
    "    num: int\n",
    "        El número que es vol comprovar\n",
    "    \n",
    "    Returns\n",
    "    -------\n",
    "    b: bool\n",
    "        Si el nombre d'entrada és un nombre perfecte\n",
    "    \n",
    "    \"\"\"\n",
    "    # Aquesta variablev 'suma' ens serveix per emmagatzemar la suma\n",
    "    # de tots els divisors del nombre d'entrada 'num'\n",
    "    suma = 0\n",
    "    for div in range(1, num):   # Recorrem els possibles candidats a ser divisors\n",
    "        if num % div == 0:      # Comprovem si el nombre 'div' divideix el nombre 'num'\n",
    "            suma = suma + div   # En cas afirmatiu, l'afegim a la suma\n",
    "    b = (suma == num)           # 'b' és una variable de tipus boleà (True/False)\n",
    "    return b"
   ]
  },
  {
   "cell_type": "code",
   "execution_count": 38,
   "metadata": {},
   "outputs": [],
   "source": [
    "assert perfecte(28) == True\n",
    "assert perfecte(6) == True\n",
    "assert perfecte(8) == False"
   ]
  },
  {
   "cell_type": "code",
   "execution_count": null,
   "metadata": {},
   "outputs": [],
   "source": []
  },
  {
   "cell_type": "markdown",
   "metadata": {},
   "source": [
    "### 2.14 Nombres apocalíptics"
   ]
  },
  {
   "cell_type": "code",
   "execution_count": 39,
   "metadata": {},
   "outputs": [],
   "source": [
    "def apocaliptic(num):\n",
    "    \"\"\"\n",
    "    Aquesta funció comprova si un nombre és apocalíptic.\n",
    "    \n",
    "    Parameters\n",
    "    ----------\n",
    "    num: int\n",
    "        El número\n",
    "    \n",
    "    Returns\n",
    "    -------\n",
    "    b: bool\n",
    "        Si el número és apocalíptic    \n",
    "    \"\"\"\n",
    "    b = '666' in str(2**num)\n",
    "    return b\n",
    "\n",
    "\n",
    "def llista_apocaliptics(minim, maxim):\n",
    "    \"\"\"\n",
    "    Aquesta funció calcula tots els nombres apocalíptics dintre d'un rang.\n",
    "    \n",
    "    Parameters\n",
    "    ----------\n",
    "    minim: int\n",
    "        Cota inferior\n",
    "    maxim: int\n",
    "        Cota superior\n",
    "    \n",
    "    Returns\n",
    "    -------\n",
    "    llista: list\n",
    "        Llista amb tots els nombres apocalíptics dintre del rang\n",
    "    \"\"\"\n",
    "    llista = []\n",
    "    for num in range(minim, maxim+1):\n",
    "        if apocaliptic(num):\n",
    "            llista.append(num)\n",
    "    return llista "
   ]
  },
  {
   "cell_type": "code",
   "execution_count": 40,
   "metadata": {},
   "outputs": [],
   "source": [
    "assert apocaliptic(157) == True\n",
    "assert apocaliptic(180) == False\n",
    "assert apocaliptic(192) == True\n",
    "assert llista_apocaliptics(100, 300) == [157, 192, 218, 220,222, 224, 226, 243,245, 247, 251, 278,285, 286, 287]\n",
    "assert len(llista_apocaliptics(0, 5000)) ==  2253"
   ]
  },
  {
   "cell_type": "code",
   "execution_count": null,
   "metadata": {},
   "outputs": [],
   "source": []
  },
  {
   "cell_type": "markdown",
   "metadata": {},
   "source": [
    "### 2.5 Nombres feliç"
   ]
  },
  {
   "cell_type": "code",
   "execution_count": 41,
   "metadata": {},
   "outputs": [],
   "source": [
    "def felic(num):\n",
    "    \"\"\"\n",
    "    Aquesta funció comprova si un nombre és feliç.\n",
    "    \n",
    "    Parameters\n",
    "    ----------\n",
    "    num: int\n",
    "        El número\n",
    "    \n",
    "    Returns\n",
    "    -------\n",
    "    b: bool\n",
    "        Si el número és feliç    \n",
    "    \"\"\"\n",
    "    while len(str(num)) >= 1 and num > 1 and num != 4:\n",
    "        suma = 0\n",
    "        for elm in str(num):\n",
    "            suma += int(elm) ** 2\n",
    "        num = suma\n",
    "    return num == 1"
   ]
  },
  {
   "cell_type": "code",
   "execution_count": 42,
   "metadata": {},
   "outputs": [],
   "source": [
    "assert felic(203) == True\n",
    "assert felic(13) == True\n",
    "assert felic(10) == True\n",
    "assert felic(96) == False\n",
    "assert felic(33) == False\n",
    "\n",
    "assert felic(921) == True\n",
    "assert felic(717) == False\n",
    "assert felic(2039) == True\n",
    "assert felic(8487) == True\n",
    "assert felic(1) == True"
   ]
  },
  {
   "cell_type": "code",
   "execution_count": 43,
   "metadata": {},
   "outputs": [],
   "source": [
    "def felic_recursiu(num):\n",
    "    \"\"\"\n",
    "    Aquesta funció comprova si un nombre és feliç.\n",
    "    La implentació és recursiva.\n",
    "    \n",
    "    Parameters\n",
    "    ----------\n",
    "    num: int\n",
    "        El número\n",
    "    \n",
    "    Returns\n",
    "    -------\n",
    "    b: bool\n",
    "        Si el número és feliç    \n",
    "    \"\"\"\n",
    "    if num in [1, 4]:\n",
    "        return num == 1\n",
    "    \n",
    "    suma = sum([int(elm)**2 for elm in str(num)])\n",
    "    return felic_recursiu(suma)"
   ]
  },
  {
   "cell_type": "code",
   "execution_count": 44,
   "metadata": {},
   "outputs": [],
   "source": [
    "assert felic_recursiu(203) == True\n",
    "assert felic_recursiu(13) == True\n",
    "assert felic_recursiu(10) == True\n",
    "assert felic_recursiu(96) == False\n",
    "assert felic_recursiu(33) == False\n",
    "\n",
    "assert felic_recursiu(921) == True\n",
    "assert felic_recursiu(717) == False\n",
    "assert felic_recursiu(2039) == True\n",
    "assert felic_recursiu(8487) == True\n",
    "assert felic_recursiu(1) == True"
   ]
  },
  {
   "cell_type": "code",
   "execution_count": 45,
   "metadata": {},
   "outputs": [],
   "source": [
    "happynumbers = [1, 7, 10, 13, 19, 23, 28, 31, 32, 44, 49, 68, 70, 79, 82, 86, 91, 94, 97, 100, 103, 109, 129, 130, 133, 139, \n",
    "              167, 176, 188, 190, 192, 193, 203, 208, 219, 226, 230, 236, 239, 262, 263, 280, 291, 293, 301, 302, 310, 313, \n",
    "              319, 320, 326, 329, 331, 338, 356, 362, 365, 367, 368, 376, 379, 383, 386, 391, 392, 397, 404, 409, 440, 446, \n",
    "              464, 469, 478, 487, 490, 496, 536, 556, 563, 565, 566, 608, 617, 622, 623, 632, 635, 637, 638, 644, 649, 653, \n",
    "              655, 656, 665, 671, 673, 680, 683, 694, 700, 709, 716, 736, 739, 748, 761, 763, 784, 790, 793, 802, 806, 818, \n",
    "              820, 833, 836, 847, 860, 863, 874, 881, 888, 899, 901, 904, 907, 910, 912, 913, 921, 923, 931, 932, 937, 940, \n",
    "              946, 964, 970, 973, 989, 998, 1000]\n",
    "\n",
    "for num in happynumbers:\n",
    "    assert felic(num) == True\n",
    "    assert felic_recursiu(num) == True"
   ]
  },
  {
   "cell_type": "code",
   "execution_count": null,
   "metadata": {},
   "outputs": [],
   "source": []
  },
  {
   "cell_type": "markdown",
   "metadata": {},
   "source": [
    "### 2.16  Nombres ambiciosos"
   ]
  },
  {
   "cell_type": "code",
   "execution_count": 46,
   "metadata": {},
   "outputs": [],
   "source": [
    "def ambicios(num):\n",
    "    \"\"\"\n",
    "    Aquesta funció comprova si un nombre es ambiciós.\n",
    "    \n",
    "    Parameters\n",
    "    ----------\n",
    "    num: int\n",
    "        El número que es vol comprovar\n",
    "    \n",
    "    Returns\n",
    "    -------\n",
    "    b: bool\n",
    "        Si el nombre d'entrada és un nombre ambiciós\n",
    "    \n",
    "    \"\"\"\n",
    "    def suma_divisors(num):\n",
    "        suma = 0\n",
    "        for div in range(1,num):  \n",
    "            if num%div == 0:      \n",
    "                suma = suma + div\n",
    "        return suma\n",
    "    \n",
    "    # Els nombres ambiciosos no poden ser perfectes,\n",
    "    # és per això que necessitem una comprovació extra\n",
    "    suma = suma_divisors(num)\n",
    "    if suma == num:\n",
    "        return False\n",
    "    num = suma\n",
    "    \n",
    "    # Iterem mentre que el nombre no sigui perfecte o \n",
    "    # no haguem arribat al nombre 0\n",
    "    while not perfecte(num) and num > 0:\n",
    "        num = suma_divisors(num)\n",
    "    return num > 0"
   ]
  },
  {
   "cell_type": "code",
   "execution_count": 47,
   "metadata": {},
   "outputs": [],
   "source": [
    "assert ambicios(25) == True  \n",
    "assert ambicios(100) == False \n",
    "assert ambicios(143) == True "
   ]
  },
  {
   "cell_type": "code",
   "execution_count": 48,
   "metadata": {},
   "outputs": [],
   "source": [
    "def ambicios_recursiu(num):\n",
    "    \"\"\"\n",
    "    Aquesta funció comprova si un nombre es ambiciós.\n",
    "    Implementació recursiva\n",
    "    \n",
    "    Parameters\n",
    "    ----------\n",
    "    num: int\n",
    "        El número que es vol comprovar\n",
    "    \n",
    "    Returns\n",
    "    -------\n",
    "    b: bool\n",
    "        Si el nombre d'entrada és un nombre ambiciós\n",
    "    \n",
    "    \"\"\"\n",
    "    def suma_divisors(num):\n",
    "        suma = 0\n",
    "        for div in range(1,num):  \n",
    "            if num%div == 0:      \n",
    "                suma = suma + div\n",
    "        return suma\n",
    "    \n",
    "    def rec(num):\n",
    "        if perfecte(num) or num == 0:\n",
    "            return num > 0\n",
    "        return rec(suma_divisors(num))\n",
    "\n",
    "    suma = suma_divisors(num)\n",
    "    if suma == num:\n",
    "        return False\n",
    "    num = suma\n",
    "    return rec(num)"
   ]
  },
  {
   "cell_type": "code",
   "execution_count": 49,
   "metadata": {},
   "outputs": [],
   "source": [
    "assert ambicios_recursiu(25) == True  \n",
    "assert ambicios_recursiu(100) == False \n",
    "assert ambicios_recursiu(143) == True "
   ]
  },
  {
   "cell_type": "code",
   "execution_count": null,
   "metadata": {},
   "outputs": [],
   "source": []
  },
  {
   "cell_type": "markdown",
   "metadata": {},
   "source": [
    "### 2.17 Avet"
   ]
  },
  {
   "cell_type": "code",
   "execution_count": 50,
   "metadata": {},
   "outputs": [
    {
     "name": "stdout",
     "output_type": "stream",
     "text": [
      "        *\n",
      "       ***\n",
      "      *****\n",
      "     *******\n",
      "    *********\n",
      "   ***********\n",
      "  *************\n",
      " ***************\n",
      "*****************\n"
     ]
    }
   ],
   "source": [
    "def avet(num):\n",
    "    \"\"\"\n",
    "    Aquesta funció dibuixa un avet.\n",
    "    \n",
    "    Parameters\n",
    "    ----------\n",
    "    num: int\n",
    "        Nombre d'asterics a la part inferior\n",
    "    \n",
    "    Returns\n",
    "    -------\n",
    "    b: bool\n",
    "        Si el número és feliç    \n",
    "    \"\"\"\n",
    "    for i in range(1,num+1,2):\n",
    "        print((num//2-i//2) * \" \", end=\"\") # amb end=\"\" fem que no salti la línia\n",
    "        print(i*\"*\")\n",
    "        \n",
    "avet(17)"
   ]
  },
  {
   "cell_type": "code",
   "execution_count": null,
   "metadata": {},
   "outputs": [],
   "source": []
  }
 ],
 "metadata": {
  "kernelspec": {
   "display_name": "Python 3",
   "language": "python",
   "name": "python3"
  },
  "language_info": {
   "codemirror_mode": {
    "name": "ipython",
    "version": 3
   },
   "file_extension": ".py",
   "mimetype": "text/x-python",
   "name": "python",
   "nbconvert_exporter": "python",
   "pygments_lexer": "ipython3",
   "version": "3.7.6"
  }
 },
 "nbformat": 4,
 "nbformat_minor": 4
}
