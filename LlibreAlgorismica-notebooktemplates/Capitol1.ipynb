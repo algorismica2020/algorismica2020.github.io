{
 "cells": [
  {
   "cell_type": "markdown",
   "metadata": {},
   "source": [
    "# Capítol 1: Algorismes"
   ]
  },
  {
   "cell_type": "code",
   "execution_count": null,
   "metadata": {},
   "outputs": [],
   "source": [
    "def mcd(a,b): # Algorisme d'Euclides v1.0: pseudocode translation\n",
    "    \"\"\"\n",
    "    Aquesta funció calcula l'algisme d'Euclides v1.0.\n",
    "    Pseudocode translation.\n",
    "    \n",
    "    Parameters\n",
    "    ----------\n",
    "    a: int\n",
    "    b: int\n",
    "    \n",
    "    Returns\n",
    "    -------\n",
    "    b: int\n",
    "        Retorna el màxim comú divisor\n",
    "    \n",
    "    \"\"\"\n",
    "    r = 1\n",
    "    while r != 0:\n",
    "        if a<b:\n",
    "            c=a\n",
    "            a=b\n",
    "            b=c\n",
    "        r = a%b \n",
    "        if r == 0:\n",
    "            return b\n",
    "        else:\n",
    "            a = b\n",
    "            b = r"
   ]
  },
  {
   "cell_type": "code",
   "execution_count": null,
   "metadata": {},
   "outputs": [],
   "source": [
    "def mcd(a,b):   # Algorisme d'Euclides v2.0: idiomatic Python\n",
    "    \"\"\"\n",
    "    Aquesta funció calcula l'algisme d'Euclides v1.0.\n",
    "    Idiomàtic Python.\n",
    "    \n",
    "    Parameters\n",
    "    ----------\n",
    "    a: int\n",
    "    b: int\n",
    "    \n",
    "    Returns\n",
    "    -------\n",
    "    b: int\n",
    "        Retorna el màxim comú divisor\n",
    "    \"\"\"\n",
    "    while a:\n",
    "        a, b = b%a, a\n",
    "    return b"
   ]
  }
 ],
 "metadata": {
  "kernelspec": {
   "display_name": "Python 3",
   "language": "python",
   "name": "python3"
  },
  "language_info": {
   "codemirror_mode": {
    "name": "ipython",
    "version": 3
   },
   "file_extension": ".py",
   "mimetype": "text/x-python",
   "name": "python",
   "nbconvert_exporter": "python",
   "pygments_lexer": "ipython3",
   "version": "3.7.6"
  }
 },
 "nbformat": 4,
 "nbformat_minor": 2
}
