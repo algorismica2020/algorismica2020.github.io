{
 "cells": [
  {
   "cell_type": "markdown",
   "metadata": {},
   "source": [
    "# Capítol 4 - Algorismes i Text"
   ]
  },
  {
   "cell_type": "markdown",
   "metadata": {},
   "source": [
    "### 4.1 Acronims"
   ]
  },
  {
   "cell_type": "code",
   "execution_count": 1,
   "metadata": {},
   "outputs": [],
   "source": [
    "def acronim(frase):\n",
    "    \"\"\"\n",
    "    Aquesta funció retorna l'acrònim d'una frase.\n",
    "    \n",
    "    Parameters\n",
    "    ----------\n",
    "    frase: string\n",
    "    \n",
    "    Returns\n",
    "    -------\n",
    "    acronim: string\n",
    "    \"\"\"\n",
    "    return ''.join([paraula[0].upper() for paraula in frase.split(' ')])"
   ]
  },
  {
   "cell_type": "code",
   "execution_count": 2,
   "metadata": {},
   "outputs": [],
   "source": [
    "assert acronim(\"Hola que tal\") == 'HQT'"
   ]
  },
  {
   "cell_type": "code",
   "execution_count": null,
   "metadata": {},
   "outputs": [],
   "source": []
  },
  {
   "cell_type": "markdown",
   "metadata": {},
   "source": [
    "### 4.2 Alfabet aviació"
   ]
  },
  {
   "cell_type": "code",
   "execution_count": 3,
   "metadata": {},
   "outputs": [],
   "source": [
    "def aviacio(cadena):\n",
    "    \"\"\"\n",
    "    Aquesta funció converteix una cadena d'entrada a l'alfabet fonètic.\n",
    "    \n",
    "    Parameters\n",
    "    ----------\n",
    "    cadena: string\n",
    "    \n",
    "    Returns\n",
    "    -------\n",
    "    traducció: string\n",
    "    \"\"\"\n",
    "    argot = {\n",
    "        'A': 'Alpha', 'B': 'Bravo', 'C': 'Charlie', 'D': 'Delta', 'E': 'Echo',\n",
    "        'F': 'Foxtrot', 'G': 'Golf', 'H': 'Hotel', 'I': 'India', 'J': 'Juliet',\n",
    "        'K': 'Kilo', 'L': 'Lima', 'M': 'Mike', 'N': 'November', 'O': 'Oscar',\n",
    "        'P': 'Papa', 'Q': 'Quebec', 'R': 'Romeo', 'S': 'Sierra', 'T': 'Tango', \n",
    "        'U': 'Uniform', 'V': 'Victor', 'W': 'Whiskey', 'X': 'Xray', 'Y': 'Yankee',\n",
    "    }\n",
    "    \n",
    "    return [ argot[caracter] for caracter in cadena.upper()]"
   ]
  },
  {
   "cell_type": "code",
   "execution_count": 4,
   "metadata": {},
   "outputs": [],
   "source": [
    "assert aviacio('YtH') == ['Yankee', 'Tango', 'Hotel']"
   ]
  },
  {
   "cell_type": "code",
   "execution_count": null,
   "metadata": {},
   "outputs": [],
   "source": []
  },
  {
   "cell_type": "markdown",
   "metadata": {},
   "source": [
    "### 4.3 Cadenes Isomorfes"
   ]
  },
  {
   "cell_type": "code",
   "execution_count": 5,
   "metadata": {},
   "outputs": [],
   "source": [
    "def isomorf(cadX, cadY):\n",
    "    \"\"\"\n",
    "    Aquesta funció comprova si dues cadenes son isomorfes\n",
    "    \n",
    "    Parameters\n",
    "    ----------\n",
    "    cadX: String\n",
    "    cadY: String\n",
    "    \n",
    "    Returns\n",
    "    -------\n",
    "    esIsomorf: bool\n",
    "    \"\"\"\n",
    "    \n",
    "    if len(cadX) != len(cadY):\n",
    "        return False\n",
    "    \n",
    "    diccionariXY = {}\n",
    "    diccionariYX = {}\n",
    "    \n",
    "    for x,y in zip(cadX, cadY):\n",
    "        diccionariXY[x] = y\n",
    "        diccionariYX[y] = x\n",
    "        \n",
    "    for x, y in zip(cadX, cadY):\n",
    "        if (diccionariXY[x] != y or diccionariYX[y] != x):\n",
    "            return False\n",
    "    return True"
   ]
  },
  {
   "cell_type": "code",
   "execution_count": 6,
   "metadata": {},
   "outputs": [],
   "source": [
    "assert isomorf('CBAABC', 'DEFFED') == True\n",
    "assert isomorf('XXX', 'YYY') == True\n",
    "assert isomorf('RAMBUNCTIOUSLY', 'THERMODYNAMICS') == True\n",
    "assert isomorf('XXY', 'XYY') == False\n",
    "assert isomorf('ABAB', 'CD') == False"
   ]
  },
  {
   "cell_type": "code",
   "execution_count": null,
   "metadata": {},
   "outputs": [],
   "source": []
  },
  {
   "cell_type": "code",
   "execution_count": 7,
   "metadata": {},
   "outputs": [],
   "source": [
    "def tria_paraules_isomorfes(llista, paraula):\n",
    "    \"\"\"\n",
    "    Aquesta funció retorna totes les paraules d'una llista isomorfes a una paraula en concret.\n",
    "    \n",
    "    Parameters\n",
    "    ----------\n",
    "    llista: list\n",
    "    paraula: sting\n",
    "    \n",
    "    Returns\n",
    "    -------\n",
    "    llistaIsomorfes: list\n",
    "    \"\"\"\n",
    "    #return [p for p in llista if isomorf(p, paraula)]\n",
    "    llista_isomorfes = []\n",
    "    for p in llista:\n",
    "        if isomorf(p, paraula):\n",
    "            llista_isomorfes.append(p)\n",
    "            \n",
    "    return llista_isomorfes"
   ]
  },
  {
   "cell_type": "code",
   "execution_count": 8,
   "metadata": {},
   "outputs": [],
   "source": [
    "assert tria_paraules_isomorfes(['gag', 'sos', 'mim', 'gat', 'gos'], 'rar') == ['gag', 'sos', 'mim']\n",
    "assert tria_paraules_isomorfes(['gag', 'sos', 'mim', 'gat', 'gos'], 'rap') == ['gat', 'gos']"
   ]
  },
  {
   "cell_type": "code",
   "execution_count": null,
   "metadata": {},
   "outputs": [],
   "source": []
  },
  {
   "cell_type": "markdown",
   "metadata": {},
   "source": [
    "### 4.4 Totes les subcadenes"
   ]
  },
  {
   "cell_type": "code",
   "execution_count": 9,
   "metadata": {},
   "outputs": [],
   "source": [
    "def totes_subcadenes(cadena):\n",
    "    \"\"\"\n",
    "    Aquesta funció retorna totes les subcadenes de la cadena donada\n",
    "    \n",
    "    Parameters\n",
    "    ----------\n",
    "    cadena: string\n",
    "    \n",
    "    Returns\n",
    "    -------\n",
    "    subcadenes: list\n",
    "    \"\"\"\n",
    "    #return [cadena[init : end+1] for init in range(len(cadena)) for end in range(init, len(cadena))]\n",
    "    sub_cadenes = []\n",
    "    for init in range(len(cadena)):\n",
    "        for end in range(init, len(cadena)):\n",
    "            sub_cadenes.append(cadena[init : end+1])\n",
    "            \n",
    "    return sub_cadenes"
   ]
  },
  {
   "cell_type": "code",
   "execution_count": 10,
   "metadata": {},
   "outputs": [],
   "source": [
    "assert len(totes_subcadenes('abcd')) == int((len('abcd') *(len('abcd') + 1)/2))\n",
    "assert totes_subcadenes('abcd') == ['a', 'ab', 'abc', 'abcd', 'b', 'bc', 'bcd', 'c', 'cd', 'd']"
   ]
  },
  {
   "cell_type": "code",
   "execution_count": null,
   "metadata": {},
   "outputs": [],
   "source": []
  },
  {
   "cell_type": "markdown",
   "metadata": {},
   "source": [
    "### 4.5 Levenstein"
   ]
  },
  {
   "cell_type": "code",
   "execution_count": 11,
   "metadata": {},
   "outputs": [
    {
     "name": "stdout",
     "output_type": "stream",
     "text": [
      "--2020-09-13 15:07:10--  https://raw.githubusercontent.com/algorismica2019/problemes/master/HUMAN-DNA.txt\n",
      "Resolving raw.githubusercontent.com (raw.githubusercontent.com)... 151.101.112.133\n",
      "Connecting to raw.githubusercontent.com (raw.githubusercontent.com)|151.101.112.133|:443... connected.\n",
      "HTTP request sent, awaiting response... 200 OK\n",
      "Length: 60190 (59K) [text/plain]\n",
      "Saving to: 'HUMAN-DNA.txt.1'\n",
      "\n",
      "HUMAN-DNA.txt.1     100%[===================>]  58.78K  --.-KB/s    in 0.09s   \n",
      "\n",
      "2020-09-13 15:07:10 (644 KB/s) - 'HUMAN-DNA.txt.1' saved [60190/60190]\n",
      "\n"
     ]
    }
   ],
   "source": [
    "!wget https://raw.githubusercontent.com/algorismica2019/problemes/master/HUMAN-DNA.txt"
   ]
  },
  {
   "cell_type": "code",
   "execution_count": 12,
   "metadata": {},
   "outputs": [],
   "source": [
    "def levensthein(patro, text, dlt = 2, insr = 2, subs = 1):\n",
    "    \"\"\"\n",
    "    Aquesta funció implementa l'algorisme de Levensthein.\n",
    "    \n",
    "    Parameters\n",
    "    ----------\n",
    "    patro: string\n",
    "    text: sting\n",
    "    \n",
    "    dlt: int (default)\n",
    "    insr: int (default)\n",
    "    subs: int (default)\n",
    "        Costos d'edició\n",
    "        \n",
    "    Returns\n",
    "    -------\n",
    "    minDistance: int\n",
    "    \"\"\"\n",
    "    \n",
    "    # Calculem la llargada del patro \n",
    "    max_row = len(patro) +1 \n",
    "    # Calculem la llargada del text \n",
    "    max_col = len(text)+1\n",
    "\n",
    "    # Inicialitzem la matriu, les insercions davant del patró tenen cost 0\n",
    "    distance_matrix = [[0] * max_col for x in range(max_row)]\n",
    "    for i in range(max_row):  # els esborrats tenen cost 2\n",
    "        distance_matrix[i][0] = i*2\n",
    "\n",
    "    # Avancem calculant distàncies\n",
    "    # Les i són les files, la 0 ja la tenim\n",
    "    for i in range(1, max_row):  \n",
    "        # les j són les columnes, la 0 ja la tenim\n",
    "        for j in range(1, max_col):   \n",
    "            deletion = distance_matrix[i-1][j] + dlt\n",
    "            insertion = distance_matrix[i][j-1] + insr\n",
    "            # hi ha correspondència\n",
    "            if patro[i-1] == text[j-1]: \n",
    "                substitution = distance_matrix[i-1][j-1] \n",
    "            else:\n",
    "                substitution = distance_matrix[i-1][j-1] + subs\n",
    "            distance_matrix[i][j] = min(insertion, deletion, substitution)\n",
    "                               \n",
    "    return min(distance_matrix[max_row-1])\n",
    "\n",
    "\n",
    "\n",
    "def dna(patro, fitxer = 'HUMAN-DNA.txt'):\n",
    "    \"\"\"\n",
    "    Aquesta funció aplica l'algorisme de Levensthein sobre una seqüència del dna per trobar diferents patrons.\n",
    "    \n",
    "    Parameters\n",
    "    ----------\n",
    "    patro: string\n",
    "    fitxer: string (default)\n",
    "    \n",
    "    Returns\n",
    "    -------\n",
    "    linia: int\n",
    "    distanciafinal: int\n",
    "    \"\"\"\n",
    "\n",
    "    # On guardarem els resultats\n",
    "    linia = 0\n",
    "    distanciafinal = 0\n",
    "       \n",
    "    # carreguem el fitxer\n",
    "    f = open(fitxer, \"r\")\n",
    "    textl = f.readlines()\n",
    "    f.close()     \n",
    "        \n",
    "    # proposem una distancia maxima \n",
    "    distanciafinal = len(patro) * 2\n",
    "\n",
    "    # per a cada linia\n",
    "    # indl es l'index de la linia\n",
    "    for indl, text in enumerate(textl):\n",
    "\n",
    "        # eliminem els caracters sobrants \\n\n",
    "        text = text.rstrip()\n",
    "\n",
    "        # calculem la distància entre aquesta línia i el patró        \n",
    "        distancialinia = levensthein(patro, text)\n",
    "\n",
    "        # comparem les distancies de les diferents linies per guardar la mínima \n",
    "        if distancialinia < distanciafinal:\n",
    "            distanciafinal = distancialinia\n",
    "            linia = indl + 1\n",
    "\n",
    "    return linia, distanciafinal"
   ]
  },
  {
   "cell_type": "code",
   "execution_count": 13,
   "metadata": {},
   "outputs": [],
   "source": [
    "assert dna('AGATACATTAGACAATAGAGATGTGGTC') == (32, 11)\n",
    "assert dna('GTCAGTCTGGCCTTGCCATTGGTGCCACCA') == (352, 11)\n",
    "assert dna('TACCGAGAAGCTGGATTACAGCATGTACCATCAT') == (233, 13)"
   ]
  },
  {
   "cell_type": "code",
   "execution_count": null,
   "metadata": {},
   "outputs": [],
   "source": []
  },
  {
   "cell_type": "markdown",
   "metadata": {},
   "source": [
    "### 4.6 Majúscules i minúscules"
   ]
  },
  {
   "cell_type": "code",
   "execution_count": 14,
   "metadata": {},
   "outputs": [],
   "source": [
    "def rle(text):\n",
    "    \"\"\"\n",
    "    Aquesta funció retorna un text codificat segons run length encoding.\n",
    "    \n",
    "    Parameters\n",
    "    ----------\n",
    "    text: string\n",
    "        text a codificar\n",
    "        \n",
    "    Returns\n",
    "    -------\n",
    "    text: string\n",
    "        text codificat\n",
    "    \"\"\"\n",
    "\n",
    "    lletraactual = text[0]\n",
    "    \n",
    "    # Primera lletra\n",
    "    comptador = 1  \n",
    "    \n",
    "    # Iniciem el text codificat\n",
    "    textcodificat = lletraactual  \n",
    "    \n",
    "    for caracter in text:\n",
    "        # Comptant quantes ocurrències hi ha\n",
    "        if caracter == lletraactual:\n",
    "            comptador += 1 \n",
    "            \n",
    "        # resetegem i acumulem    \n",
    "        else:  \n",
    "            lletraactual = caracter\n",
    "            textcodificat = textcodificat + str(comptador) + lletraactual\n",
    "            comptador = 1\n",
    "            \n",
    "    textcodificat = textcodificat + str(comptador)\n",
    "    \n",
    "    return textcodificat"
   ]
  },
  {
   "cell_type": "code",
   "execution_count": 15,
   "metadata": {},
   "outputs": [],
   "source": [
    "assert rle(\"ABBBBNNNEEEDDDZZAAAAA\") == 'A2B4N3E3D3Z2A5'\n",
    "assert rle(\"BBBBBBBBBBBBBBBBBWWWWWWZAAA\") == 'B18W6Z1A3'"
   ]
  },
  {
   "cell_type": "code",
   "execution_count": null,
   "metadata": {},
   "outputs": [],
   "source": []
  },
  {
   "cell_type": "markdown",
   "metadata": {},
   "source": [
    "### 4.7 Subcadena més llarga sense cap caràcter repetit"
   ]
  },
  {
   "cell_type": "code",
   "execution_count": 16,
   "metadata": {},
   "outputs": [],
   "source": [
    "def subcadena_mes_llarga(cadena):\n",
    "    \"\"\"\n",
    "    Aquesta funció identifica la subcadena més llarga sense cap caràcter repetit.\n",
    "    \n",
    "    Parameters\n",
    "    ----------\n",
    "    cadena: string \n",
    "        Cadena donada\n",
    "        \n",
    "    Returns\n",
    "    -------\n",
    "    subcadena: string\n",
    "        Subcadena més llarga sense caràcters repetits\n",
    "    \"\"\"\n",
    "    n = len(cadena)\n",
    "    \n",
    "    # fem un diccionari amb els caràcters\n",
    "    diccCaracters = {caracter: False for caracter in cadena}  \n",
    "    \n",
    "    # la solució es basa en una finestra que es redefineix cada cop\n",
    "    # que troba un caràcter repetit\n",
    "    iniciFinestra = 0\n",
    "    \n",
    "    # inici i final de la finestra, el final és el darrer caràcter vist\n",
    "    # el principi és el primer caràcter no repetit des del final de la\n",
    "    # finestra\n",
    "    iniciSubcadena = 0\n",
    "    finalSubcadena = 0\n",
    "    \n",
    "    # inici i final de la subcadena més llarga trobada fins al moment\n",
    "    for finalFinestra in range(0, n):\n",
    "        \n",
    "        if diccCaracters[cadena[finalFinestra]]:\n",
    "            # si el caràcter ja hi era\n",
    "            while (cadena[iniciFinestra] != cadena[finalFinestra]):\n",
    "                diccCaracters[cadena[iniciFinestra]] = False\n",
    "                iniciFinestra += 1\n",
    "                # desplacem la finestra a partir de la\n",
    "                # primera aparició del caràcter, sense incloure'l.\n",
    "            iniciFinestra += 1\n",
    "        \n",
    "        else:\n",
    "            diccCaracters[cadena[finalFinestra]] = True\n",
    "            # anotem el caràcter com a existent\n",
    "            finalFinestra += 1\n",
    "            # com que no hi ha repeticions augmentem la finestra\n",
    "            if finalSubcadena - iniciSubcadena < finalFinestra - iniciFinestra:\n",
    "                # revisem que la nova subcadena no sigui més llarga\n",
    "                # que la que teniem guardada\n",
    "                iniciSubcadena = iniciFinestra\n",
    "                finalSubcadena = finalFinestra\n",
    "                \n",
    "    return cadena[iniciSubcadena:finalSubcadena]"
   ]
  },
  {
   "cell_type": "code",
   "execution_count": 17,
   "metadata": {},
   "outputs": [],
   "source": [
    "assert subcadena_mes_llarga('lacadenamesllarga') == 'namesl'\n",
    "assert subcadena_mes_llarga('mesllarga') == 'mesl'\n",
    "assert subcadena_mes_llarga('aaa') ==  'a'"
   ]
  },
  {
   "cell_type": "code",
   "execution_count": null,
   "metadata": {},
   "outputs": [],
   "source": []
  },
  {
   "cell_type": "markdown",
   "metadata": {},
   "source": [
    "### 4.8 Subseqüència en comú més llarga"
   ]
  },
  {
   "cell_type": "code",
   "execution_count": 18,
   "metadata": {},
   "outputs": [],
   "source": [
    "import itertools \n",
    "\n",
    "def subsequencia_comu_v1(paraula1, paraula2):\n",
    "    \"\"\"\n",
    "    Aquesta funció identifica la longitud de la subseqüència mes llarga mitjançanat força bruta.\n",
    "    \n",
    "    Parameters\n",
    "    ----------\n",
    "    paraula1: string\n",
    "    paraula2: string\n",
    "    \n",
    "    Returns\n",
    "    -------\n",
    "    numCaractersComuns: int\n",
    "    \"\"\"\n",
    "    \n",
    "    def extreure_sub_sequencies(paraula):\n",
    "        n = len(paraula)\n",
    "        return set([''.join(comb) for lenght in range(1, len(paraula) + 1) for comb in list(itertools.combinations(paraula, lenght))])\n",
    "            \n",
    "    seq1 = extreure_sub_sequencies(paraula1)\n",
    "    seq2 = extreure_sub_sequencies(paraula2)\n",
    "    \n",
    "    intersect = seq1.intersection(seq2)\n",
    "    if len(intersect):\n",
    "        numCaractersComuns = len(sorted(intersect, key = lambda x: len(x))[-1])\n",
    "        return numCaractersComuns\n",
    "    \n",
    "    return 0"
   ]
  },
  {
   "cell_type": "code",
   "execution_count": 19,
   "metadata": {},
   "outputs": [],
   "source": [
    "assert subsequencia_comu_v1('STUTVST', 'TVUSTS') == 4"
   ]
  },
  {
   "cell_type": "code",
   "execution_count": null,
   "metadata": {},
   "outputs": [],
   "source": []
  },
  {
   "cell_type": "code",
   "execution_count": 20,
   "metadata": {},
   "outputs": [],
   "source": [
    "def subsequencia_comu_v2(paraula1, paraula2):\n",
    "    # el teu codi\n",
    "    return numCaractersComuns"
   ]
  },
  {
   "cell_type": "code",
   "execution_count": null,
   "metadata": {},
   "outputs": [],
   "source": []
  },
  {
   "cell_type": "code",
   "execution_count": null,
   "metadata": {},
   "outputs": [],
   "source": []
  },
  {
   "cell_type": "code",
   "execution_count": 21,
   "metadata": {},
   "outputs": [],
   "source": [
    "def subsequencia_comu_v3(cadena1, cadena2):\n",
    "    \"\"\"\n",
    "    Aquesta funció identifica la longitud de la subseqüència\n",
    "    compartida més llarga. \n",
    "    En aquest algorisme s'optimitzen els càlculs amb una taula on es guarden\n",
    "    les solucions parcials\n",
    "    Parameters\n",
    "    ----------\n",
    "    cadena1: string\n",
    "    cadena2: string \n",
    "        Cadenes en les que buscar la subseqüència\n",
    "        \n",
    "    Returns\n",
    "    -------\n",
    "    numCaractersComuns: int\n",
    "        Longitud de la subseqüència més llarga\n",
    "    \"\"\"\n",
    "    \n",
    "    longcad1 = len(cadena1)\n",
    "    longcad2 = len(cadena2)\n",
    "    \n",
    "    # Cal definir fila dins el bucle perquè altrament totes les files són la mateixa\n",
    "    taulaSolucions=[[0] * (longcad1 + 1) for i in range(longcad2 + 1)]\n",
    "        \n",
    "    # La casella[i][j] guarda el valor de longitud de la\n",
    "    # subseqüència més llarga entre cadena1[0:j] i cadena2[0:i]\n",
    "    \n",
    "    for j in range(1, longcad1+1):\n",
    "        for i in range(1, longcad2+1):\n",
    "            temp = max(taulaSolucions[i-1][j],  taulaSolucions[i][j-1])\n",
    "            if cadena1[j-1] == cadena2[i-1]:\n",
    "                taulaSolucions[i][j] = taulaSolucions[i-1][j-1]+1\n",
    "            else:\n",
    "                taulaSolucions[i][j] = temp\n",
    "\n",
    "    return(taulaSolucions[longcad2][longcad1])"
   ]
  },
  {
   "cell_type": "code",
   "execution_count": 22,
   "metadata": {},
   "outputs": [],
   "source": [
    "assert subsequencia_comu_v3('XMJYAUZ','MZJAWU') == 4"
   ]
  },
  {
   "cell_type": "code",
   "execution_count": null,
   "metadata": {},
   "outputs": [],
   "source": []
  },
  {
   "cell_type": "code",
   "execution_count": null,
   "metadata": {},
   "outputs": [],
   "source": []
  },
  {
   "cell_type": "markdown",
   "metadata": {},
   "source": [
    "## Adreces UK"
   ]
  },
  {
   "cell_type": "code",
   "execution_count": 23,
   "metadata": {},
   "outputs": [
    {
     "name": "stdout",
     "output_type": "stream",
     "text": [
      "SW1A 0AA matched!\n",
      "SW1A 1AA matched!\n",
      "SW1A 2AA matched!\n",
      "BX3 2BB matched!\n",
      "DH98 1BT matched!\n",
      "N1 9GU matched!\n",
      "E98 1TT matched!\n",
      "TIM E22 is not a valid postcode!\n",
      "A B1 A22 is not a valid postcode!\n",
      "EC2N 2DB matched!\n",
      "SE9 2UG matched!\n",
      "N1 0UY matched!\n",
      "EC1V 8DS matched!\n",
      "WC1X 9DT matched!\n",
      "B42 1LG matched!\n",
      "B28 9AD matched!\n",
      "W12 7RJ matched!\n",
      "BBC 007 is not a valid postcode!\n"
     ]
    }
   ],
   "source": [
    "import re\n",
    "\n",
    "codis = [\n",
    "        \"SW1A 0AA\", # House of Commons\n",
    "        \"SW1A 1AA\", # Buckingham Palace\n",
    "        \"SW1A 2AA\", # Downing Street\n",
    "        \"BX3 2BB\", # Barclays Bank\n",
    "        \"DH98 1BT\", # British Telecom\n",
    "        \"N1 9GU\", # Guardian Newspaper\n",
    "        \"E98 1TT\", # The Times\n",
    "        \"TIM E22\", # a fake postcode\n",
    "        \"A B1 A22\", # not a valid postcode\n",
    "        \"EC2N 2DB\", # Deutsche Bank\n",
    "        \"SE9 2UG\", # University of Greenwhich\n",
    "        \"N1 0UY\", # Islington, London\n",
    "        \"EC1V 8DS\", # Clerkenwell, London\n",
    "        \"WC1X 9DT\", # WC1X 9DT\n",
    "        \"B42 1LG\", # Birmingham\n",
    "        \"B28 9AD\", # British Radio \n",
    "        \"W12 7RJ\", # London, BBC News Centre\n",
    "        \"BBC 007\" # not a valid postcode\n",
    "    ]\n",
    "\n",
    "pc_re = r\"[A-z]{1,2}[0-9R][0-9A-Z]? [0-9][ABD-HJLNP-UW-Z]{2}\"\n",
    "\n",
    "for postcode in codis:\n",
    "    r = re.search(pc_re, postcode)\n",
    "    if r:\n",
    "        print(postcode + \" matched!\")\n",
    "    else:\n",
    "        print(postcode + \" is not a valid postcode!\")"
   ]
  },
  {
   "cell_type": "code",
   "execution_count": null,
   "metadata": {},
   "outputs": [],
   "source": []
  }
 ],
 "metadata": {
  "kernelspec": {
   "display_name": "Python 3",
   "language": "python",
   "name": "python3"
  },
  "language_info": {
   "codemirror_mode": {
    "name": "ipython",
    "version": 3
   },
   "file_extension": ".py",
   "mimetype": "text/x-python",
   "name": "python",
   "nbconvert_exporter": "python",
   "pygments_lexer": "ipython3",
   "version": "3.6.8"
  }
 },
 "nbformat": 4,
 "nbformat_minor": 2
}
