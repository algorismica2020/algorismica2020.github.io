{
 "cells": [
  {
   "cell_type": "markdown",
   "metadata": {},
   "source": [
    "# Capítol 3 - Algorismes i Nombres"
   ]
  },
  {
   "cell_type": "markdown",
   "metadata": {},
   "source": [
    "### 3.1 Divisió entera"
   ]
  },
  {
   "cell_type": "code",
   "execution_count": 1,
   "metadata": {},
   "outputs": [],
   "source": [
    "def divisio_entera(dividend, divisor):  \n",
    "    \"\"\"\n",
    "    Aquesta funció calcula la divisió entera de dos nombres naturals.\n",
    "    Atenció: No es poden utilitzar els operadors: *, /, %.\n",
    "    \n",
    "    Parameters\n",
    "    ----------\n",
    "    dividend: int\n",
    "    divisor: int\n",
    "    \n",
    "    Returns\n",
    "    -------\n",
    "    quocient: int\n",
    "    \"\"\"\n",
    "    quocient = 0\n",
    "    \n",
    "    while (dividend >= divisor):\n",
    "        dividend = dividend - divisor\n",
    "        quocient += 1\n",
    "        \n",
    "    return quocient"
   ]
  },
  {
   "cell_type": "code",
   "execution_count": 2,
   "metadata": {},
   "outputs": [],
   "source": [
    "assert divisio_entera(10,2) == 5\n",
    "assert divisio_entera(9,2) == 4"
   ]
  },
  {
   "cell_type": "code",
   "execution_count": null,
   "metadata": {},
   "outputs": [],
   "source": []
  },
  {
   "cell_type": "markdown",
   "metadata": {},
   "source": [
    "### 3.2 El Màxim Comú Divisor i les seves aplicacions"
   ]
  },
  {
   "cell_type": "code",
   "execution_count": 3,
   "metadata": {},
   "outputs": [],
   "source": [
    "def reduir_fraccio(numerador, denominador):\n",
    "    \"\"\"\n",
    "    Funció que retorna l'expressio irreductible d'una fracció\n",
    "    \n",
    "    Parameters\n",
    "    ----------\n",
    "    numerador: int\n",
    "    denominador: int\n",
    "    \n",
    "    Returns\n",
    "    -------\n",
    "    numReduit: int\n",
    "    denReduit: int\n",
    "    \"\"\"\n",
    "    def mcd(a,b): \n",
    "        while a:\n",
    "            a, b = b%a, a\n",
    "        return b\n",
    "        \n",
    "    _mcd = mcd(numerador, denominador)\n",
    "\n",
    "    return numerador// _mcd, denominador// _mcd"
   ]
  },
  {
   "cell_type": "code",
   "execution_count": 4,
   "metadata": {},
   "outputs": [],
   "source": [
    "assert reduir_fraccio(12, 8) == (3,2)"
   ]
  },
  {
   "cell_type": "code",
   "execution_count": null,
   "metadata": {},
   "outputs": [],
   "source": []
  },
  {
   "cell_type": "markdown",
   "metadata": {},
   "source": [
    "### 3.3 Numeració en diferents bases"
   ]
  },
  {
   "cell_type": "code",
   "execution_count": 5,
   "metadata": {},
   "outputs": [],
   "source": [
    "def convert_hex(xifra):\n",
    "    \"\"\"\n",
    "    Aquesta funció transforma un nombre hexadecimal a nombre binari.\n",
    "    \n",
    "    Parameters\n",
    "    ----------\n",
    "    xifra: string\n",
    "    \n",
    "    Returns\n",
    "    -------\n",
    "    decimal: int      \n",
    "    \"\"\"\n",
    "    \n",
    "    # Aquest diccionari guarda la conversió entre lletres \n",
    "    # i el seu valor numèric\n",
    "    simbols = {'A': 10, 'B': 11, 'C': 12, 'D': 13, 'E': 14, 'F': 15}\n",
    "    \n",
    "    # Aquí emmagatzem el valor decimal \n",
    "    decimal = 0\n",
    "    \n",
    "    for i in range(0, len(xifra)):\n",
    "        \n",
    "        # L'exponent de la base s'ha de calcular a cada pas\n",
    "        # Observa que al valor situat més a l'esquerra del nombre\n",
    "        # li correspon l'exponent de major pes\n",
    "        exp = len(xifra)-1-i\n",
    "        \n",
    "        # En el cas que el símbol apareixi al diccionari, hem\n",
    "        # de transformar el seu valor a enter\n",
    "        if xifra[i] in simbols:\n",
    "            decimal += int(simbols[xifra[i]])*(16**exp)\n",
    "        else:\n",
    "            decimal += int(xifra[i])*(16**exp)\n",
    "    return decimal"
   ]
  },
  {
   "cell_type": "code",
   "execution_count": 6,
   "metadata": {},
   "outputs": [],
   "source": [
    "assert convert_hex('3A') == 58\n",
    "assert convert_hex('B6') == 182\n",
    "assert convert_hex('123') == 291"
   ]
  },
  {
   "cell_type": "code",
   "execution_count": null,
   "metadata": {},
   "outputs": [],
   "source": []
  },
  {
   "cell_type": "code",
   "execution_count": 7,
   "metadata": {},
   "outputs": [],
   "source": [
    "def digits(xifra):\n",
    "    \"\"\"\n",
    "    Aquesta funció retorna el nombre de digits d'un natural.\n",
    "    \n",
    "    Parameters\n",
    "    ----------\n",
    "    xifra: int\n",
    "        Un nombre natural.\n",
    "        \n",
    "    Returns\n",
    "    -------\n",
    "    numDigits: int\n",
    "        Quanitat de digits que té xifra\n",
    "    \"\"\"\n",
    "    numDigits = len(str(xifra))\n",
    "    return numDigits"
   ]
  },
  {
   "cell_type": "code",
   "execution_count": 8,
   "metadata": {},
   "outputs": [],
   "source": [
    "assert digits(123456)== 6"
   ]
  },
  {
   "cell_type": "code",
   "execution_count": null,
   "metadata": {},
   "outputs": [],
   "source": []
  },
  {
   "cell_type": "code",
   "execution_count": 9,
   "metadata": {},
   "outputs": [],
   "source": [
    "def binari(N):\n",
    "    \"\"\"\n",
    "    Aquesta funció crea tot els nombres binaris entre 1 i N donat N.\n",
    "    Podeu utilitzar funcions específiques de Python. \n",
    "    \n",
    "    Parameters\n",
    "    ----------\n",
    "    N: int\n",
    "    \n",
    "    Returns\n",
    "    -------\n",
    "    llista: list\n",
    "    \"\"\"\n",
    "    binaris = []\n",
    "    for i in range(1, N+1):\n",
    "        binaris.append(bin(i))\n",
    "    \n",
    "    return binaris"
   ]
  },
  {
   "cell_type": "code",
   "execution_count": 10,
   "metadata": {},
   "outputs": [],
   "source": [
    "def binari(N):\n",
    "    \"\"\"\n",
    "    Aquesta funció crea tot els nombres binaris entre 1 i N donat N.\n",
    "    Podeu utilitzar funcions específiques de Python. \n",
    "    \n",
    "    Parameters\n",
    "    ----------\n",
    "    N: int\n",
    "    \n",
    "    Returns\n",
    "    -------\n",
    "    llista: list\n",
    "    \"\"\"\n",
    "    return [bin(i) for i in range(1, N+1)]"
   ]
  },
  {
   "cell_type": "code",
   "execution_count": 11,
   "metadata": {},
   "outputs": [],
   "source": [
    "assert binari(10) == ['0b1', '0b10', '0b11', '0b100', '0b101', '0b110', '0b111', '0b1000', '0b1001', '0b1010']"
   ]
  },
  {
   "cell_type": "code",
   "execution_count": null,
   "metadata": {},
   "outputs": [],
   "source": []
  },
  {
   "cell_type": "code",
   "execution_count": 12,
   "metadata": {},
   "outputs": [],
   "source": [
    "def binari_elegant(N):\n",
    "    \"\"\"\n",
    "    Aquesta funció crea tot els nombres binaris entre 1 i N donat N.\n",
    "    Podeu utilitzar funcions específiques de Python. \n",
    "    \n",
    "    Parameters\n",
    "    ----------\n",
    "    N: int\n",
    "    \n",
    "    Returns\n",
    "    -------\n",
    "    llista: list\n",
    "    \"\"\"\n",
    "    max_length = len(bin(N+1)[2:])\n",
    "    return [bin(i)[2:].zfill(max_length) for i in range(1, N+1)]"
   ]
  },
  {
   "cell_type": "code",
   "execution_count": 13,
   "metadata": {},
   "outputs": [],
   "source": [
    "assert binari_elegant(10) == ['0001', '0010', '0011', '0100', '0101', '0110', '0111', '1000', '1001', '1010']"
   ]
  },
  {
   "cell_type": "code",
   "execution_count": null,
   "metadata": {},
   "outputs": [],
   "source": []
  },
  {
   "cell_type": "code",
   "execution_count": 14,
   "metadata": {},
   "outputs": [],
   "source": [
    "def suma_digits(num, potencia):\n",
    "    \"\"\"\n",
    "    Aquesta funció calcula la suma dels digits d'un número elevat a una potència.\n",
    "    \n",
    "    Parameters\n",
    "    ----------\n",
    "    num: int\n",
    "        Base\n",
    "    potencia: int\n",
    "        Exponent\n",
    "        \n",
    "    Returns\n",
    "    -------\n",
    "    suma: int\n",
    "        Suma dels digits\n",
    "    \"\"\"\n",
    "    \n",
    "    valor = str(num**potencia)\n",
    "    \n",
    "    return sum([int(digit) for digit in valor])"
   ]
  },
  {
   "cell_type": "code",
   "execution_count": 15,
   "metadata": {},
   "outputs": [],
   "source": [
    "def suma_digits(num, potencia):\n",
    "    \"\"\"\n",
    "    Aquesta funció calcula la suma dels digits d'un número elevat a una potència.\n",
    "    \n",
    "    Parameters\n",
    "    ----------\n",
    "    num: int\n",
    "        Base\n",
    "    potencia: int\n",
    "        Exponent\n",
    "        \n",
    "    Returns\n",
    "    -------\n",
    "    suma: int\n",
    "        Suma dels digits\n",
    "    \"\"\"\n",
    "    \n",
    "    valor = str(num ** potencia)\n",
    "    \n",
    "    digits = []\n",
    "    for digit in valor:\n",
    "        digits.append(int(digit))\n",
    "    \n",
    "    return sum(digits)"
   ]
  },
  {
   "cell_type": "code",
   "execution_count": 16,
   "metadata": {},
   "outputs": [],
   "source": [
    "assert suma_digits(2,100) == 115"
   ]
  },
  {
   "cell_type": "code",
   "execution_count": null,
   "metadata": {},
   "outputs": [],
   "source": []
  },
  {
   "cell_type": "markdown",
   "metadata": {},
   "source": [
    "### 3.4 Resta Binària"
   ]
  },
  {
   "cell_type": "code",
   "execution_count": 17,
   "metadata": {},
   "outputs": [],
   "source": [
    "def resta_binaria(op1, op2):  \n",
    "    \"\"\"\n",
    "    Aquesta funció calcula la resta binaria donat dos nombres.\n",
    "    \n",
    "    parameters\n",
    "    ----------\n",
    "    op1: llista d'enters\n",
    "    op2: llista d'enters\n",
    "    \n",
    "    Returns\n",
    "    -------\n",
    "    resultat: llista d'enters\n",
    "    \"\"\"\n",
    "    def sumaBinaria(num1, num2):\n",
    "        result = []\n",
    "        add = 0\n",
    "        for n1, n2 in zip(num1[::-1], num2[::-1]):\n",
    "            aux = n1 + n2 + add\n",
    "            add, aux = aux//2, aux %2\n",
    "            result.insert(0, aux)\n",
    "        if aux > 1:\n",
    "            result.insert(0, add)\n",
    "        return result\n",
    "            \n",
    "    def c1(nombreBinari):\n",
    "        return [1 if num == 0 else 0 for num in nombreBinari]\n",
    "    \n",
    "    def c2(nombreBinari):\n",
    "        return sumaBinaria(c1(nombreBinari), [0,0,0,1])\n",
    "    \n",
    "    return sumaBinaria(op1, c2(op2))"
   ]
  },
  {
   "cell_type": "code",
   "execution_count": 18,
   "metadata": {},
   "outputs": [],
   "source": [
    "assert resta_binaria([0,1,0,1], [0,0,0,1]) == [0,1,0,0]"
   ]
  },
  {
   "cell_type": "code",
   "execution_count": null,
   "metadata": {},
   "outputs": [],
   "source": []
  },
  {
   "cell_type": "markdown",
   "metadata": {},
   "source": [
    "### 3.5 Operacions amb nombres binaris"
   ]
  },
  {
   "cell_type": "code",
   "execution_count": 19,
   "metadata": {},
   "outputs": [],
   "source": [
    "def potencia2(num):\n",
    "    \"\"\"\n",
    "    Aquesta comprova si num és una potencia de 2.\n",
    "    \n",
    "    Parameters\n",
    "    ----------\n",
    "    num: int\n",
    "        Valor a determinar si es potencia de 2\n",
    "        \n",
    "    Returns\n",
    "    -------\n",
    "    esPotencia: bool\n",
    "        És num potencia de 2?\n",
    "    \"\"\"\n",
    "    \n",
    "    digits = []\n",
    "    for car in bin(num)[2:]:\n",
    "        digits.append(int(car))\n",
    "        \n",
    "    return sum(digits) == 1"
   ]
  },
  {
   "cell_type": "code",
   "execution_count": 20,
   "metadata": {},
   "outputs": [],
   "source": [
    "def potencia2(num):\n",
    "    \"\"\"\n",
    "    Aquesta comprova si num és una potencia de 2.\n",
    "    \n",
    "    Parameters\n",
    "    ----------\n",
    "    num: int\n",
    "        Valor a determinar si es potencia de 2\n",
    "        \n",
    "    Returns\n",
    "    -------\n",
    "    esPotencia: bool\n",
    "        És num potencia de 2?\n",
    "    \"\"\"\n",
    "    esPotencia = sum([int(car) for car in bin(num)[2:]]) == 1\n",
    "    return esPotencia"
   ]
  },
  {
   "cell_type": "code",
   "execution_count": 21,
   "metadata": {},
   "outputs": [],
   "source": [
    "assert potencia2(1024) == True\n",
    "assert potencia2(2**2345) == True\n",
    "assert potencia2(2**2345-1) == False"
   ]
  },
  {
   "cell_type": "markdown",
   "metadata": {},
   "source": [
    "### 3.6 Aritmetica modular"
   ]
  },
  {
   "cell_type": "code",
   "execution_count": 22,
   "metadata": {},
   "outputs": [],
   "source": [
    "def validar_NIF(cadenaNIF):\n",
    "    \"\"\"\n",
    "    Aquesta funció valida si la lletre correspon al DNI\n",
    "    \n",
    "    Parameters\n",
    "    ----------\n",
    "    cadenaNIF: str\n",
    "        NIF\n",
    "        \n",
    "    Returns\n",
    "    -------\n",
    "    esCorrecte: bool\n",
    "        Retorna si el NIF és correcte o no.\n",
    "    \"\"\"\n",
    "    transformacions = {'A': 3, 'B': 11, 'C': 20,\n",
    "                       'D': 9, 'E': 22, 'F': 7, 'G': 4,\n",
    "                       'H': 18, 'J': 13, 'K': 21, 'L': 19,\n",
    "                       'M': 5, 'N': 12, 'P': 8, 'Q': 16,\n",
    "                       'R': 1, 'S': 15, 'T': 0, 'V': 17,\n",
    "                       'W': 2, 'X': 10, 'Y': 6, 'Z': 14}\n",
    "    lletra = cadenaNIF[-1]\n",
    "    dni = int(cadenaNIF[:-1])\n",
    "    numlletra = transformacions[lletra]\n",
    "    \n",
    "    esCorrecte = (dni%23) == numlletra\n",
    "    return esCorrecte"
   ]
  },
  {
   "cell_type": "code",
   "execution_count": 23,
   "metadata": {},
   "outputs": [],
   "source": [
    "assert validar_NIF('56789123F') == True\n",
    "assert validar_NIF('56789123H') == False"
   ]
  },
  {
   "cell_type": "code",
   "execution_count": null,
   "metadata": {},
   "outputs": [],
   "source": []
  },
  {
   "cell_type": "code",
   "execution_count": 24,
   "metadata": {},
   "outputs": [],
   "source": [
    "def conversio_fulla_calcul(num):\n",
    "    \"\"\"\n",
    "    Aquesta funció tradueix el valor num en el nom corresponent que tindriem en un full de càlcul.\n",
    "    \n",
    "    Parameters\n",
    "    ----------\n",
    "    num: int\n",
    "    \n",
    "    Returns\n",
    "    columna: str\n",
    "    \"\"\"\n",
    "    \n",
    "    # 'A' = chr(65) i 'Z' = chr(90) \n",
    "    transformacions = {}\n",
    "    for charNum in range(65, 91):\n",
    "        transformacions[charNum - 65] = chr(charNum)\n",
    "    \n",
    "    columna = ''\n",
    "    while num > 0:\n",
    "        mod = (num - 1) % 26 \n",
    "        \n",
    "        columna = transformacions[mod] + columna\n",
    "        \n",
    "        num = (num - 1) // 26\n",
    "    return columna"
   ]
  },
  {
   "cell_type": "code",
   "execution_count": 25,
   "metadata": {},
   "outputs": [],
   "source": [
    "def conversio_fulla_calcul(num):\n",
    "    \"\"\"\n",
    "    Aquesta funció tradueix el valor num en el nom corresponent que tindriem en un full de càlcul.\n",
    "    \n",
    "    Parameters\n",
    "    ----------\n",
    "    num: int\n",
    "    \n",
    "    Returns\n",
    "    columna: str\n",
    "    \"\"\"\n",
    "    \n",
    "    # 'A' = chr(65) i 'Z' = chr(90) \n",
    "    transformacions = {charNum - 65 : chr(charNum) for charNum in range(65, 91)}\n",
    "    \n",
    "    columna = ''\n",
    "    while num > 0:\n",
    "        mod = (num - 1) % 26 \n",
    "        \n",
    "        columna = transformacions[mod] + columna\n",
    "        \n",
    "        num = (num - 1) // 26\n",
    "    return columna"
   ]
  },
  {
   "cell_type": "code",
   "execution_count": 26,
   "metadata": {},
   "outputs": [],
   "source": [
    "assert conversio_fulla_calcul(1) == 'A'\n",
    "assert conversio_fulla_calcul(25) == 'Y'\n",
    "assert conversio_fulla_calcul(26) == 'Z'\n",
    "assert conversio_fulla_calcul(27) == 'AA'\n",
    "assert conversio_fulla_calcul(28) == 'AB'\n",
    "assert conversio_fulla_calcul(29) == 'AC'\n",
    "assert conversio_fulla_calcul(107) == 'DC'\n",
    "assert conversio_fulla_calcul(406) == 'OP'\n",
    "assert conversio_fulla_calcul(407) == 'OQ'\n",
    "assert conversio_fulla_calcul(408) == 'OR'\n",
    "assert conversio_fulla_calcul(412) == 'OV'\n",
    "assert conversio_fulla_calcul(702) == 'ZZ'\n",
    "assert conversio_fulla_calcul(703) == 'AAA'\n",
    "assert conversio_fulla_calcul(704) == 'AAB'\n",
    "assert conversio_fulla_calcul(705) == 'AAC'\n",
    "assert conversio_fulla_calcul(708) == 'AAF'\n",
    "assert conversio_fulla_calcul(1000) == 'ALL'"
   ]
  },
  {
   "cell_type": "code",
   "execution_count": null,
   "metadata": {},
   "outputs": [],
   "source": []
  },
  {
   "cell_type": "markdown",
   "metadata": {},
   "source": [
    "### 3.7 Descomposició en funcions"
   ]
  },
  {
   "cell_type": "code",
   "execution_count": 27,
   "metadata": {},
   "outputs": [],
   "source": [
    "def calculadora():\n",
    "    \"\"\"\n",
    "    Aquesta funció representa una calculadora.\n",
    "    Llegueix l'entrada per linia de comandes.\n",
    "    \n",
    "    Parameters\n",
    "    ----------\n",
    "    None\n",
    "    \n",
    "    Returns\n",
    "    -------\n",
    "    None\n",
    "    \"\"\"\n",
    "    def operate(operation):\n",
    "        return eval(operation)\n",
    "    \n",
    "    op = input(\"Entra l'operació que vols realitzar: \")\n",
    "    while op != '':\n",
    "        if '+' in op or '-' in op or '*' in op or '/' in op:\n",
    "            print('{} = {}'.format(op, operate(op)))\n",
    "        # Cap de les operacions disponibles apareix en l'operació introduïda\n",
    "        else:\n",
    "            print('No has escrit una operació vàlida!')\n",
    "        # Actualitzem l'operació per a la següent operació.\n",
    "        op = input(\"Entra l'operació que vols realitzar: \")"
   ]
  },
  {
   "cell_type": "code",
   "execution_count": 28,
   "metadata": {},
   "outputs": [],
   "source": [
    "#calculadora()"
   ]
  },
  {
   "cell_type": "code",
   "execution_count": null,
   "metadata": {},
   "outputs": [],
   "source": []
  },
  {
   "cell_type": "code",
   "execution_count": 30,
   "metadata": {},
   "outputs": [],
   "source": [
    "def mes_petit_divisible_per(n):\n",
    "    \"\"\"\n",
    "    Aquesta funció calcula el nombre més petit divisible per tots els nombres menors a n.\n",
    "    \n",
    "    Parameters\n",
    "    ----------\n",
    "    n: int\n",
    "    \n",
    "    Returns\n",
    "    -------\n",
    "    :int\n",
    "    \"\"\"\n",
    "    \n",
    "    def divisible(x, y):\n",
    "        return x % y == 0\n",
    "\n",
    "    number = 2\n",
    "    trobat = False\n",
    "    while not trobat:\n",
    "        i = 2\n",
    "        finsAquiBe = True\n",
    "        while i <= n and finsAquiBe:\n",
    "            if divisible(number, i):\n",
    "                i += 1\n",
    "            else:\n",
    "                finsAquiBe = False\n",
    "        if finsAquiBe:\n",
    "            trobat = True\n",
    "        else:\n",
    "            number+=1\n",
    "    return number  "
   ]
  },
  {
   "cell_type": "code",
   "execution_count": 35,
   "metadata": {},
   "outputs": [],
   "source": [
    "assert mes_petit_divisible_per(2) == 2\n",
    "assert mes_petit_divisible_per(3) == 6\n",
    "assert mes_petit_divisible_per(4) == 12\n",
    "assert mes_petit_divisible_per(5) == 60\n",
    "assert mes_petit_divisible_per(6) == 60\n",
    "assert mes_petit_divisible_per(7) == 420\n",
    "assert mes_petit_divisible_per(8) == 840\n",
    "assert mes_petit_divisible_per(9) == 2520\n",
    "assert mes_petit_divisible_per(10) == 2520\n",
    "assert mes_petit_divisible_per(11) == 27720\n",
    "assert mes_petit_divisible_per(12) == 27720\n",
    "assert mes_petit_divisible_per(13) == 360360\n",
    "assert mes_petit_divisible_per(14) == 360360\n",
    "assert mes_petit_divisible_per(15) == 360360\n",
    "assert mes_petit_divisible_per(16) == 720720"
   ]
  },
  {
   "cell_type": "code",
   "execution_count": null,
   "metadata": {},
   "outputs": [],
   "source": []
  },
  {
   "cell_type": "markdown",
   "metadata": {},
   "source": [
    "### 3.8 Primeritat"
   ]
  },
  {
   "cell_type": "code",
   "execution_count": 36,
   "metadata": {},
   "outputs": [],
   "source": [
    "from math import sqrt\n",
    "from random import randint  \n",
    "\n",
    "def eratotenes(n) :\n",
    "    \"\"\"\n",
    "    Aquesta funció implementa l'algorisme d'Eratòstenes per cercar tots els nombres primers fins a n.\n",
    "    \n",
    "    Parameters\n",
    "    ----------\n",
    "    n: int\n",
    "    \n",
    "    Returns\n",
    "    -------\n",
    "    ret: list\n",
    "    \"\"\"\n",
    "    sieve = [True for j in range(2,n+1)]\n",
    "    for j in range(2,int(sqrt(n))+1) :\n",
    "        i = j-2\n",
    "        if sieve[i]:\n",
    "            for k in range(j*j,n+1,j) :\n",
    "                sieve[k-2] = False\n",
    "    ret = [j for j in range(2,n+1) if sieve[j-2]] \n",
    "    return ret\n",
    "\n",
    "def primer(n):\n",
    "    \"\"\"\n",
    "    Aquesta funció retorna el l'ennessim primer.\n",
    "    \n",
    "    Parameters\n",
    "    ----------\n",
    "    n: int\n",
    "    \n",
    "    Returns\n",
    "    -------\n",
    "    primer: int\n",
    "    \"\"\"\n",
    "    x = n * 50\n",
    "    sol = eratotenes(x)\n",
    "    return(sol[n-1])"
   ]
  },
  {
   "cell_type": "code",
   "execution_count": 37,
   "metadata": {},
   "outputs": [],
   "source": [
    "assert primer(6) == 13\n",
    "assert primer(10001) == 104743"
   ]
  },
  {
   "cell_type": "code",
   "execution_count": null,
   "metadata": {},
   "outputs": [],
   "source": []
  },
  {
   "cell_type": "code",
   "execution_count": 38,
   "metadata": {},
   "outputs": [],
   "source": [
    "def factor_primer_mes_gran(n):\n",
    "    \"\"\"\n",
    "    Aquesta funció calcula el factor primer més gran d'un nombre natural donat.\n",
    "    \n",
    "    Parameters\n",
    "    ----------\n",
    "    n: int\n",
    "    \n",
    "    Returns\n",
    "    -------\n",
    "    factor: int\n",
    "    \"\"\"\n",
    "    \n",
    "    factor = 2\n",
    "    while n > 1:\n",
    "        # Si és divisible (0 equival a False)\n",
    "        if not n % factor:\n",
    "            # Dividim el nombre n per decrementar-lo\n",
    "            n /= factor \n",
    "            # Reduim el factor\n",
    "            factor -= 1\n",
    "            # Sempre augmentem el factor, \n",
    "        factor += 1    \n",
    "        # si era divisible quedarà igual, si no ho era augmentarà\n",
    "    return factor"
   ]
  },
  {
   "cell_type": "code",
   "execution_count": 39,
   "metadata": {},
   "outputs": [],
   "source": [
    "assert factor_primer_mes_gran(600851475143) == 6857"
   ]
  },
  {
   "cell_type": "code",
   "execution_count": null,
   "metadata": {},
   "outputs": [],
   "source": []
  },
  {
   "cell_type": "markdown",
   "metadata": {},
   "source": [
    "### 3.9 Primeritat i el Teorema de Fermat"
   ]
  },
  {
   "cell_type": "code",
   "execution_count": 40,
   "metadata": {},
   "outputs": [],
   "source": [
    "def primers_Wieferich(n = 5000):\n",
    "    \"\"\"\n",
    "    Aquesta funció calcula els primer de Wieferich fins a n = 5000.\n",
    "    \n",
    "    Parameters\n",
    "    ----------\n",
    "    n: int\n",
    "    \n",
    "    Returns\n",
    "    -------\n",
    "    wieferich: list\n",
    "    \"\"\"\n",
    "    def primers(n):\n",
    "        era1 = set([n for n in (range(2,n))])\n",
    "        era2 = set([i for q in range(2,int(n**0.5)+1) for i in range(q*2,n,q)])\n",
    "        return era1 - era2\n",
    "\n",
    "    llistaprimers = primers(n)\n",
    "\n",
    "    #La comanda power de Python usa aritmètica modular, i per tant optimitza l'operació\n",
    "    wieferich = [num for num in llistaprimers if pow(2,num-1,num**2) == 1]\n",
    "    \n",
    "    return wieferich"
   ]
  },
  {
   "cell_type": "code",
   "execution_count": 41,
   "metadata": {},
   "outputs": [],
   "source": [
    "assert primers_Wieferich(n = 5000) == [1093,3511]"
   ]
  },
  {
   "cell_type": "code",
   "execution_count": null,
   "metadata": {},
   "outputs": [],
   "source": []
  },
  {
   "cell_type": "code",
   "execution_count": 42,
   "metadata": {},
   "outputs": [],
   "source": [
    "import math\n",
    "\n",
    "def factorp(N):\n",
    "    \"\"\"\n",
    "    Aquesta funció comprova si un determinat nombre és primer mitjançant la tècnica de factorització.\n",
    "    \n",
    "    Parameters\n",
    "    ----------\n",
    "    N: int\n",
    "    \n",
    "    Returns\n",
    "    -------\n",
    "    esPrimer: bool\n",
    "    \"\"\"\n",
    "\n",
    "    if N < 2: return True      \n",
    "    \n",
    "    limit = int(math.sqrt(N))\n",
    "    A = [i for i in range(2, limit + 1)]\n",
    "    quadrat = math.sqrt(N)\n",
    "    trobat = False\n",
    "    while len(A)>0 and A[0] <= quadrat and not(trobat):\n",
    "        if N % A[0] == 0:\n",
    "            trobat = True\n",
    "        else:\n",
    "            i = 1\n",
    "            while i < len(A):\n",
    "                if A[i] % A[0]==0:\n",
    "                    del(A[i])\n",
    "                i +=1\n",
    "            del(A[0])\n",
    "    return not trobat\n",
    "\n",
    "\n",
    "def fermatp(N, a = [2, 3, 5]):\n",
    "    \"\"\"\n",
    "    Aquesta funció comprova si un nombre es primer mitjançant la tècnica de Fermat\n",
    "    \n",
    "    Parameters\n",
    "    ----------\n",
    "    N: int\n",
    "    a: list\n",
    "    \n",
    "    Returns\n",
    "    -------\n",
    "    esPrimer: bool\n",
    "    \"\"\"\n",
    "\n",
    "    \n",
    "    if N == 1 or N in a:\n",
    "        return True\n",
    "    \n",
    "    i = 0\n",
    "    primer = False\n",
    "    \n",
    "    while i < len(a) and a[i] < N and pow(a[i], N-1, N) == 1:\n",
    "        i += 1\n",
    "    if i==3:\n",
    "        primer=True\n",
    "\n",
    "    return primer"
   ]
  },
  {
   "cell_type": "code",
   "execution_count": 43,
   "metadata": {},
   "outputs": [],
   "source": [
    "assert factorp(10) == False\n",
    "assert fermatp(10) == False"
   ]
  },
  {
   "cell_type": "code",
   "execution_count": null,
   "metadata": {},
   "outputs": [],
   "source": []
  },
  {
   "cell_type": "markdown",
   "metadata": {},
   "source": [
    "### 3.10 Restriccions múltiples o operacions amb condicions"
   ]
  },
  {
   "cell_type": "code",
   "execution_count": 44,
   "metadata": {},
   "outputs": [],
   "source": [
    "import math\n",
    "def numero_3_condicions():\n",
    "    \"\"\"\n",
    "    Aquesta funció troba els numeros que compleixen les tres condicions demanades\n",
    "    \n",
    "    Returns\n",
    "    -------\n",
    "    buscat: int\n",
    "    \"\"\"\n",
    "    # calculem K! + 1 per uns quants valors (el factorial de 10 ja val més que 3 milions)\n",
    "    #f = set([math.factorial(i)+1 for i in range(10)]) \n",
    "    f = []\n",
    "    for i in range(10):\n",
    "        f.append(math.factorial(i)+1)\n",
    "    f = set(f)\n",
    "    \n",
    "    # 100 x 100 = 10000\n",
    "    for valor in range(100):  \n",
    "        # comprovem si entre els valors calculats, \n",
    "        # hi ha algun n = m * m per a valors fins a 10000\n",
    "        if valor * valor in f:                     \n",
    "            buscat = valor * valor\n",
    "    return buscat  "
   ]
  },
  {
   "cell_type": "code",
   "execution_count": 45,
   "metadata": {},
   "outputs": [],
   "source": [
    "assert numero_3_condicions() == 5041"
   ]
  },
  {
   "cell_type": "code",
   "execution_count": null,
   "metadata": {},
   "outputs": [],
   "source": []
  },
  {
   "cell_type": "code",
   "execution_count": 46,
   "metadata": {},
   "outputs": [],
   "source": [
    "import math\n",
    "\n",
    "def setmanes_segons():\n",
    "    \"\"\"\n",
    "    Aquesta funció troba tots els nombres de setmanes N que tenen \n",
    "    un nombre de segons S tal que S = K! per algun k < 100\n",
    "    \n",
    "    Returns\n",
    "    -------\n",
    "    res: list\n",
    "    \"\"\"\n",
    "    # calculem K! fins a K = 100 \n",
    "    #f = set([math.factorial(i) for i in range(100)]) \n",
    "    f = []\n",
    "    for i in range(100):\n",
    "        f.append(math.factorial(i))\n",
    "    f = set(f)\n",
    "\n",
    "    segonspersetmanes = 7 * 24 * 3600\n",
    "    \n",
    "    #return [setmana for setmana in range(1000) if setmana * segonspersetmanes in f]\n",
    "    n_setmanes = []\n",
    "    for setmana in range(1000):\n",
    "        if setmana * segonspersetmanes in f:\n",
    "            n_setmanes.append(setmana)\n",
    "    return n_setmanes"
   ]
  },
  {
   "cell_type": "code",
   "execution_count": 47,
   "metadata": {},
   "outputs": [],
   "source": [
    "assert setmanes_segons() == [6, 66, 792]"
   ]
  },
  {
   "cell_type": "code",
   "execution_count": null,
   "metadata": {},
   "outputs": [],
   "source": []
  },
  {
   "cell_type": "code",
   "execution_count": 48,
   "metadata": {},
   "outputs": [],
   "source": [
    "import math\n",
    "def quadrats(n):\n",
    "    \"\"\"\n",
    "    Aquesta funció troba dos nombres positius tals que la suma \n",
    "    dels seus quadrats sigui n.\n",
    "    \n",
    "    Parameters\n",
    "    ----------\n",
    "    n: int\n",
    "    \n",
    "    Returns\n",
    "    -------\n",
    "    quadrats: (int, int)\n",
    "    \"\"\"\n",
    "    arrel = round(sqrt(n))\n",
    "    #cap valor serà superior a l'arrel quadrada de n\n",
    "    for primerQuadrat in range(1, arrel + 1):\n",
    "        \n",
    "        #el segon valor serà menor que n-i^2 o que l'arrel quadrada de n\n",
    "        for segondQuadrat in range(1, min(n - pow(primerQuadrat, 2), arrel + 1)):   \n",
    "            \n",
    "            if (pow(primerQuadrat, 2) + pow(segondQuadrat, 2)) == n:\n",
    "                return (primerQuadrat, segondQuadrat)\n",
    "            \n",
    "    return(-1, -1)"
   ]
  },
  {
   "cell_type": "code",
   "execution_count": 49,
   "metadata": {},
   "outputs": [],
   "source": [
    "assert quadrats(125) == (2,11)\n",
    "assert quadrats(106) == (5,9)\n",
    "assert quadrats(81) == (-1,-1)"
   ]
  },
  {
   "cell_type": "code",
   "execution_count": null,
   "metadata": {},
   "outputs": [],
   "source": []
  },
  {
   "cell_type": "code",
   "execution_count": 50,
   "metadata": {},
   "outputs": [],
   "source": [
    "def multiples():\n",
    "    \"\"\"\n",
    "    Aquesta funció retorna la suma de tots els naturals que \n",
    "    són múltiples de 3 o 5 i que son menors de 1000.\n",
    "    \n",
    "    Returns\n",
    "    -------\n",
    "    suma : int\n",
    "    \"\"\"\n",
    "    #numeros = [natural for natural in range(1, 1000) if natural % 3 == 0 or natural % 5 == 0]\n",
    "    \n",
    "    numeros = []\n",
    "    for natural in range(1, 1000): \n",
    "        if natural % 3 == 0 or natural % 5 == 0:\n",
    "            numeros.append(natural)\n",
    "    \n",
    "    return sum(numeros)"
   ]
  },
  {
   "cell_type": "code",
   "execution_count": 51,
   "metadata": {},
   "outputs": [],
   "source": [
    "assert multiples() == 233168"
   ]
  },
  {
   "cell_type": "code",
   "execution_count": null,
   "metadata": {},
   "outputs": [],
   "source": []
  },
  {
   "cell_type": "markdown",
   "metadata": {},
   "source": [
    "### 3.11 Fibonacci"
   ]
  },
  {
   "cell_type": "code",
   "execution_count": 52,
   "metadata": {},
   "outputs": [
    {
     "name": "stdout",
     "output_type": "stream",
     "text": [
      "6.08 µs ± 33.5 ns per loop (mean ± std. dev. of 7 runs, 100000 loops each)\n"
     ]
    }
   ],
   "source": [
    "def fibonacci_termes_parells(n = 4000000):\n",
    "    \"\"\"\n",
    "    Aquesta funció suma dels termes parells de Fibonacci.\n",
    "    \n",
    "    Parameters\n",
    "    ----------\n",
    "    n: int\n",
    "    \n",
    "    Returns\n",
    "    -------\n",
    "    suma: int\n",
    "    \"\"\"\n",
    "    suma, a, b = 0, 1, 2  \n",
    "    while b < n:      \n",
    "        if b%2 == 0:        \n",
    "            suma += b     \n",
    "        a, b = b, a + b     \n",
    "    return(suma)\n",
    " \n",
    "%timeit fibonacci_termes_parells(4000000)"
   ]
  },
  {
   "cell_type": "code",
   "execution_count": 53,
   "metadata": {},
   "outputs": [],
   "source": [
    "assert fibonacci_termes_parells(4000000) == 4613732"
   ]
  },
  {
   "cell_type": "code",
   "execution_count": null,
   "metadata": {},
   "outputs": [],
   "source": []
  },
  {
   "cell_type": "code",
   "execution_count": 54,
   "metadata": {},
   "outputs": [],
   "source": [
    "def fibonacci_multiples_3(n):\n",
    "    \"\"\"\n",
    "    Aquesta funció suma els n primers termes de Fibonacci que són múltiples de 3.\n",
    "    \n",
    "    Parameters\n",
    "    ----------\n",
    "    n: int\n",
    "    \n",
    "    Returns\n",
    "    -------\n",
    "    suma: int\n",
    "    \"\"\"\n",
    "    a, b = 0, 1\n",
    "    trobats = 0\n",
    "    llista = []\n",
    "    while trobats < n:\n",
    "        a, b = b, a + b\n",
    "        if a % 3 == 0:\n",
    "            trobats += 1\n",
    "            llista.append(a)\n",
    "            \n",
    "    return sum(llista)"
   ]
  },
  {
   "cell_type": "code",
   "execution_count": 55,
   "metadata": {},
   "outputs": [],
   "source": [
    "assert fibonacci_multiples_3(10) == 119814915"
   ]
  },
  {
   "cell_type": "code",
   "execution_count": null,
   "metadata": {},
   "outputs": [],
   "source": []
  },
  {
   "cell_type": "code",
   "execution_count": 56,
   "metadata": {},
   "outputs": [
    {
     "data": {
      "text/plain": [
       "[0, 1, 1, 2, 3, 5, 8, 13, 21, 34]"
      ]
     },
     "execution_count": 56,
     "metadata": {},
     "output_type": "execute_result"
    }
   ],
   "source": [
    "import numpy as np\n",
    "\n",
    "def fibonacciMat(N):\n",
    "    \"\"\"\n",
    "    Aquesta funció retorna els n primers termes de la sèrie \n",
    "    de Fibonnaci calculats de manera matricial.\n",
    "    \n",
    "    Parameters\n",
    "    ----------\n",
    "    N: int \n",
    "    \n",
    "    Returns\n",
    "    -------\n",
    "    serie: list\n",
    "    \"\"\"\n",
    "    serie = [0, 1]\n",
    "    init = np.array([[1, 1], [1, 0]])\n",
    "    result = np.array([[1, 1], [1, 0]])\n",
    "    for itr in range(N-2):\n",
    "        serie.append(result[0,0])\n",
    "        result = result@init\n",
    "    return serie\n",
    "\n",
    "fibonacciMat(10)"
   ]
  },
  {
   "cell_type": "code",
   "execution_count": 57,
   "metadata": {},
   "outputs": [],
   "source": [
    "def fibonacci_matricial(N):\n",
    "    \"\"\"\n",
    "    Aquesta funció retorna els n primers termes de la sèrie \n",
    "    de Fibonnaci calculats de manera matricial.\n",
    "    \n",
    "    Parameters\n",
    "    ----------\n",
    "    N: int \n",
    "    \n",
    "    Returns\n",
    "    -------\n",
    "    serie: list\n",
    "    \"\"\"\n",
    "    \n",
    "    def multiply(X, Y):\n",
    "        result = [[0,0], [0,0]]\n",
    "        # iterate through rows of X\n",
    "        for i in range(len(X)):\n",
    "            # iterate through columns of Y\n",
    "            for j in range(len(Y[0])):\n",
    "                # iterate through rows of Y\n",
    "                for k in range(len(Y)):\n",
    "                    result[i][j] += X[i][k] * Y[k][j]\n",
    "        return result\n",
    "    \n",
    "    serie = [0, 1]\n",
    "    init = [[1, 1], [1, 0]]\n",
    "    result = [[1, 1], [1, 0]]\n",
    "    for _ in range(N-2):\n",
    "        serie.append(result[0][0])\n",
    "        result = multiply(result, init)\n",
    "    return serie"
   ]
  },
  {
   "cell_type": "code",
   "execution_count": 58,
   "metadata": {},
   "outputs": [],
   "source": [
    "assert fibonacci_matricial(10) == [0, 1, 1, 2, 3,5, 8, 13, 21, 34]"
   ]
  },
  {
   "cell_type": "code",
   "execution_count": null,
   "metadata": {},
   "outputs": [],
   "source": []
  },
  {
   "cell_type": "code",
   "execution_count": null,
   "metadata": {},
   "outputs": [],
   "source": []
  }
 ],
 "metadata": {
  "kernelspec": {
   "display_name": "Python 3",
   "language": "python",
   "name": "python3"
  },
  "language_info": {
   "codemirror_mode": {
    "name": "ipython",
    "version": 3
   },
   "file_extension": ".py",
   "mimetype": "text/x-python",
   "name": "python",
   "nbconvert_exporter": "python",
   "pygments_lexer": "ipython3",
   "version": "3.6.8"
  }
 },
 "nbformat": 4,
 "nbformat_minor": 2
}
